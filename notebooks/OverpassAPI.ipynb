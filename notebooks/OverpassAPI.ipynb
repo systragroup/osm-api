{
 "cells": [
  {
   "cell_type": "code",
   "execution_count": 30,
   "metadata": {},
   "outputs": [],
   "source": [
    "import numpy as np\n",
    "import pandas as pd\n",
    "import geopandas as gpd\n",
    "import requests\n",
    "from shapely.geometry import LineString\n",
    "import sys\n",
    "\n",
    "sys.path.append('../')\n",
    "import road\n",
    "from elevation import get_elevation_from_srtm, calc_incline"
   ]
  },
  {
   "cell_type": "code",
   "execution_count": 31,
   "metadata": {},
   "outputs": [],
   "source": [
    "bbox =(48.7861400822045,2.197526708826558,48.93467868121917,2.4458831002388592)\n",
    "#bbox = (45.45, -73.6492855702676, 45.644709880535515, -73.44752816469271)\n",
    "#bbox='<BB>'\n",
    "highway_list = [\"motorway\", \"motorway_link\", \"trunk\", \"trunk_link\", \"primary\", \"primary_link\", \n",
    "                  \"secondary\", \"secondary_link\", \"tertiary\", \"tertiary_link\", \"residential\",\"cycleway\"]\n",
    "#ighway_list = [\"motorway\", \"motorway_link\", \"trunk\", \"trunk_link\", \"primary\", \"primary_link\"]\n",
    "cycleway_list = [\"lane\", \"opposite\", \"opposite_lane\", \"track\", \"opposite_track\", \n",
    "                 \"share_busway\", \"opposite_share_busway\", \"shared_lane\", \"lane\"]"
   ]
  },
  {
   "cell_type": "code",
   "execution_count": 32,
   "metadata": {},
   "outputs": [],
   "source": [
    "#overpass_query += ''f'way[\"bicycle_road\"=\"yes\"]{bbox};\\n\n"
   ]
  },
  {
   "cell_type": "code",
   "execution_count": 33,
   "metadata": {},
   "outputs": [],
   "source": [
    "overpass_url = \"http://overpass-api.de/api/interpreter\"\n",
    "overpass_query =\"\"\"\n",
    "[out:json][timeout:180];\n",
    "(\n",
    "\"\"\"\n",
    "overpass_query += ''.join([f'way[\"highway\"=\"{highway}\"]{bbox};\\n' for highway in highway_list])\n",
    "overpass_query += ''.join([f'way[\"cycleway\"=\"{cycleway}\"]{bbox};\\n' for cycleway in cycleway_list])\n",
    "overpass_query +=\"\"\" \n",
    ");\n",
    "out body;\n",
    ">;\n",
    "out skel qt;\n",
    "\"\"\"\n",
    "\n",
    "response = requests.get(overpass_url, params={'data': overpass_query})\n",
    "data = response.json()"
   ]
  },
  {
   "cell_type": "code",
   "execution_count": null,
   "metadata": {},
   "outputs": [],
   "source": []
  },
  {
   "cell_type": "code",
   "execution_count": null,
   "metadata": {},
   "outputs": [],
   "source": []
  },
  {
   "cell_type": "code",
   "execution_count": 34,
   "metadata": {},
   "outputs": [],
   "source": [
    "response = requests.get(overpass_url, params={'data': overpass_query})\n",
    "data = response.json()"
   ]
  },
  {
   "cell_type": "code",
   "execution_count": 35,
   "metadata": {},
   "outputs": [
    {
     "data": {
      "text/plain": [
       "'\\n[out:json][timeout:180][bbox:{{bbox}}];\\n(\\nway[\"highway\"=\"residential\"]; // find all nodes in current bounding box with start_date tag\\n);\\nconvert way \\n    ::id = id(),\\n\\t\"nodes\" = geometry, // Should be implemened in futur version\\n\\t\"oneway\" = t[\"oneway\"];\\nout body;\\n>;\\nout skel qt;\\n'"
      ]
     },
     "execution_count": 35,
     "metadata": {},
     "output_type": "execute_result"
    }
   ],
   "source": [
    "\"\"\"\n",
    "[out:json][timeout:180][bbox:{{bbox}}];\n",
    "(\n",
    "way[\"highway\"=\"residential\"]; // find all nodes in current bounding box with start_date tag\n",
    ");\n",
    "convert way \n",
    "    ::id = id(),\n",
    "\t\"nodes\" = geometry, // Should be implemened in futur version\n",
    "\t\"oneway\" = t[\"oneway\"];\n",
    "out body;\n",
    ">;\n",
    "out skel qt;\n",
    "\"\"\""
   ]
  },
  {
   "cell_type": "markdown",
   "metadata": {},
   "source": [
    "overpass_url = \"http://overpass-api.de/api/interpreter\"\n",
    "data = []\n",
    "for highway in highway_list:\n",
    "    overpass_query =\"\"\"\n",
    "    [out:json][timeout:180];\n",
    "    (\n",
    "    \"\"\"\n",
    "    overpass_query += ''.join(f'way[\"highway\"={highway}]{bbox};\\n')\n",
    "    overpass_query +=\"\"\" \n",
    "    );\n",
    "    out body;\n",
    "    >;\n",
    "    out skel qt;\n",
    "    \"\"\"\n",
    "    data.append(overpass_query)\n"
   ]
  },
  {
   "cell_type": "markdown",
   "metadata": {},
   "source": [
    "import asyncio\n",
    "import aiohttp\n",
    "import time\n",
    "\n",
    "async def get(url, data, session):\n",
    "    try:\n",
    "        async with session.get(url=url, data=data) as response:\n",
    "            resp = await response.json()\n",
    "            print(\"Successfully got url {} with resp of length {}.\".format(url, len(resp)))\n",
    "            return await response\n",
    "    except Exception as e:\n",
    "        print(\"Unable to get url {} due to {}.\".format(url, e.__class__))\n",
    "\n",
    "\n",
    "async def main(url, data):\n",
    "    async with aiohttp.ClientSession() as session:\n",
    "        ret = await asyncio.gather(*[get(url, d, session) for d in data])\n",
    "    print(\"Finalized all. Return is a list of len {} outputs.\".format(len(ret)))\n",
    "    return ret"
   ]
  },
  {
   "cell_type": "markdown",
   "metadata": {},
   "source": [
    "response = await main(overpass_url, data)"
   ]
  },
  {
   "cell_type": "code",
   "execution_count": 36,
   "metadata": {},
   "outputs": [
    {
     "name": "stderr",
     "output_type": "stream",
     "text": [
      "/home/boivin/.pyenv/versions/quetzal_env/lib/python3.8/site-packages/pandas/core/dtypes/cast.py:127: ShapelyDeprecationWarning: The array interface is deprecated and will no longer work in Shapely 2.0. Convert the '.coords' to a numpy array instead.\n",
      "  arr = construct_1d_object_array_from_listlike(values)\n"
     ]
    }
   ],
   "source": [
    "way = pd.DataFrame([d for d in data['elements'] if d['type'] == 'way']).set_index('id')\n",
    "nodes = pd.DataFrame([d for d in data['elements'] if d['type'] == 'node']).set_index('id')\n",
    "\n",
    "way_exploded = way.explode('nodes').merge(nodes[['lat','lon']], left_on='nodes', right_index=True, how='left')\n",
    "\n",
    "geom = way_exploded.groupby('id')[['lon', 'lat']].apply(lambda x: LineString(x.values))\n",
    "geom.name = 'geometry'\n",
    "way = gpd.GeoDataFrame(way.join(geom), crs=4326)\n"
   ]
  },
  {
   "cell_type": "code",
   "execution_count": null,
   "metadata": {},
   "outputs": [],
   "source": []
  },
  {
   "cell_type": "code",
   "execution_count": 37,
   "metadata": {},
   "outputs": [],
   "source": [
    "tags = pd.DataFrame.from_records(way['tags'].values, index=way['tags'].index)\n",
    "cols = ['highway', 'maxspeed', 'lanes', 'name', 'oneway', 'surface']\n",
    "cols += ['cycleway','cycleway:both', 'cycleway:left','cycleway:right']"
   ]
  },
  {
   "cell_type": "code",
   "execution_count": 38,
   "metadata": {},
   "outputs": [
    {
     "data": {
      "text/plain": [
       "['highway',\n",
       " 'maxspeed',\n",
       " 'lanes',\n",
       " 'name',\n",
       " 'oneway',\n",
       " 'surface',\n",
       " 'cycleway',\n",
       " 'cycleway:both',\n",
       " 'cycleway:left',\n",
       " 'cycleway:right']"
      ]
     },
     "execution_count": 38,
     "metadata": {},
     "output_type": "execute_result"
    }
   ],
   "source": [
    "cols"
   ]
  },
  {
   "cell_type": "code",
   "execution_count": null,
   "metadata": {},
   "outputs": [],
   "source": []
  },
  {
   "cell_type": "code",
   "execution_count": 39,
   "metadata": {
    "scrolled": false
   },
   "outputs": [
    {
     "data": {
      "text/plain": [
       "['cycleway:right',\n",
       " 'cycleway',\n",
       " 'cycleway:left',\n",
       " 'cycleway:left:oneway',\n",
       " 'oneway:bicycle',\n",
       " 'cycleway:both',\n",
       " 'bicycle',\n",
       " 'bicycle:backward',\n",
       " 'cycleway:right:lane',\n",
       " 'source:oneway:bicycle',\n",
       " 'bicycle:lanes:backward',\n",
       " 'cycleway:start_date',\n",
       " 'cycleway:right:segregated',\n",
       " 'bicycle:lanes:forward',\n",
       " 'was:cycleway:right',\n",
       " 'bicycle:lanes',\n",
       " 'cycleway:left:lane',\n",
       " 'cycleway:temporary',\n",
       " 'cycleway:both:lane',\n",
       " 'source:cycleway',\n",
       " 'check_date:cycleway',\n",
       " 'cycleway:right:width',\n",
       " 'class:bicycle',\n",
       " 'motorcycle',\n",
       " 'cyclestreet',\n",
       " 'cycleway:lane',\n",
       " 'cycleway:right:temporary',\n",
       " 'was:cycleway:left',\n",
       " 'cycleway:right:oneway',\n",
       " 'maxspeed:bicycle',\n",
       " 'was:cycleway',\n",
       " 'sidewalk:right:bicycle',\n",
       " 'temporary:cycleway:left',\n",
       " 'cycleway:surface',\n",
       " 'cycleway_link',\n",
       " 'bicycle_road',\n",
       " 'cycleway:width',\n",
       " 'cycleway:lanes',\n",
       " 'note:bicycle',\n",
       " 'was:bicycle',\n",
       " 'cycleway:left:temporary',\n",
       " 'was:oneway:bicycle',\n",
       " 'cycleway:right:track',\n",
       " 'cyclestreets_id',\n",
       " 'cycleway:est_width',\n",
       " 'sidewalk:left:bicycle',\n",
       " 'sidewalk:both:bicycle',\n",
       " 'was:cycleway:right:lane',\n",
       " 'note:highway:cycleway',\n",
       " 'cycleway:right:construction',\n",
       " 'cycleway:opposite',\n",
       " 'cycleway:middle',\n",
       " 'cycleway:left:segregated',\n",
       " 'demolished:cycleway',\n",
       " 'continuous_cycleway',\n",
       " 'bicycle:right',\n",
       " 'cycleway:left:track',\n",
       " 'source:cycleway:width',\n",
       " 'cycleway:right:shared_lane',\n",
       " 'bicycle:forward']"
      ]
     },
     "execution_count": 39,
     "metadata": {},
     "output_type": "execute_result"
    }
   ],
   "source": [
    "cycle_cols = []\n",
    "for col in tags.columns:\n",
    "    if 'cycle' in col:\n",
    "        cycle_cols.append(col)\n",
    "#cols = cols + cycle_cols\n",
    "cycle_cols"
   ]
  },
  {
   "cell_type": "code",
   "execution_count": 12,
   "metadata": {},
   "outputs": [],
   "source": [
    "#https://wiki.openstreetmap.org/wiki/Map_features#When_cycleway_is_drawn_as_its_own_way_(see_Bicycle)"
   ]
  },
  {
   "cell_type": "code",
   "execution_count": 13,
   "metadata": {},
   "outputs": [],
   "source": [
    "way_tags = way.drop(columns=['nodes', 'tags'], errors='ignore').join(tags[cols])"
   ]
  },
  {
   "cell_type": "code",
   "execution_count": 14,
   "metadata": {},
   "outputs": [],
   "source": [
    "# OSMNX add edges speed, length and time\n",
    "# garder les liens fortement connexes\n",
    "# retirer les noeuds de degree 2"
   ]
  },
  {
   "cell_type": "code",
   "execution_count": 15,
   "metadata": {},
   "outputs": [],
   "source": [
    "# SOME CLEANING ON THE ONEWAY ... Work In Progress\n",
    "way_tags['oneway'].fillna('no', inplace=True)\n",
    "way_tags['oneway'] = way_tags['oneway'].replace('yes', True).replace('no', False).replace('-1', False).replace(-1, False).replace('alternating',False)\n"
   ]
  },
  {
   "cell_type": "code",
   "execution_count": null,
   "metadata": {},
   "outputs": [],
   "source": []
  },
  {
   "cell_type": "code",
   "execution_count": null,
   "metadata": {},
   "outputs": [],
   "source": []
  },
  {
   "cell_type": "code",
   "execution_count": 501,
   "metadata": {},
   "outputs": [],
   "source": [
    "way_tags.to_file('way.geojson',driver='GeoJSON')"
   ]
  },
  {
   "cell_type": "code",
   "execution_count": 502,
   "metadata": {},
   "outputs": [],
   "source": [
    "links, nodes = road.get_links_and_nodes('way.geojson', split_direction=False)\n",
    "nodes = nodes.set_crs(links.crs)"
   ]
  },
  {
   "cell_type": "code",
   "execution_count": 503,
   "metadata": {},
   "outputs": [
    {
     "name": "stdout",
     "output_type": "stream",
     "text": [
      "24283\n",
      "40151\n"
     ]
    }
   ],
   "source": [
    "print(len(way_tags))\n",
    "print(len(links))"
   ]
  },
  {
   "cell_type": "code",
   "execution_count": 504,
   "metadata": {},
   "outputs": [],
   "source": [
    "links = road.clean_maxspeed(links)"
   ]
  },
  {
   "cell_type": "code",
   "execution_count": null,
   "metadata": {},
   "outputs": [],
   "source": []
  },
  {
   "cell_type": "code",
   "execution_count": 505,
   "metadata": {},
   "outputs": [],
   "source": [
    "def rename_bicycle_tags(df,col) :\n",
    "    links=df.copy()\n",
    "    print(col)\n",
    "    print(list(links[col].unique()))\n",
    "    links['agg_'+col] = links[col]\n",
    "    # fill NaN with no\n",
    "    links.loc[links['agg_'+col].astype('str')=='nan','agg_'+col] = 'no'\n",
    "    cycle_dict={'no':'no', \n",
    "                'shared':'shared',\n",
    "                'share_busway':'shared', \n",
    "                'shared_lane':'shared'}\n",
    "\n",
    "    links['agg_'+col] = links['agg_'+col].apply(lambda x: cycle_dict.get(x,'yes'))\n",
    "    print(list(links['agg_'+col].unique()))\n",
    "    return links"
   ]
  },
  {
   "cell_type": "code",
   "execution_count": 506,
   "metadata": {},
   "outputs": [
    {
     "name": "stdout",
     "output_type": "stream",
     "text": [
      "cycleway\n",
      "[nan, 'lane', 'shared_lane', 'no', 'track', 'crossing', 'cyclestreet', 'share_busway', 'shared', 'opposite_lane', 'use_sidepath', 'separate']\n",
      "['no', 'yes', 'shared']\n"
     ]
    }
   ],
   "source": [
    "links = rename_bicycle_tags(links,'cycleway')"
   ]
  },
  {
   "cell_type": "code",
   "execution_count": 507,
   "metadata": {},
   "outputs": [
    {
     "name": "stdout",
     "output_type": "stream",
     "text": [
      "cycleway:both\n",
      "['no', nan, 'separate', 'lane', 'shared_lane', 'share_busway', 'track']\n",
      "['no', 'yes', 'shared']\n"
     ]
    }
   ],
   "source": [
    "links = rename_bicycle_tags(links,'cycleway:both')"
   ]
  },
  {
   "cell_type": "code",
   "execution_count": 508,
   "metadata": {},
   "outputs": [
    {
     "name": "stdout",
     "output_type": "stream",
     "text": [
      "cycleway:left\n",
      "[nan, 'opposite_lane', 'lane', 'no', 'track', 'opposite_track', 'shared_lane', 'separate', 'share_busway', 'none']\n",
      "['no', 'yes', 'shared']\n"
     ]
    }
   ],
   "source": [
    "links = rename_bicycle_tags(links,'cycleway:left')"
   ]
  },
  {
   "cell_type": "code",
   "execution_count": 509,
   "metadata": {},
   "outputs": [
    {
     "name": "stdout",
     "output_type": "stream",
     "text": [
      "cycleway:right\n",
      "[nan, 'lane', 'no', 'shared_lane', 'track', 'separate', 'share_busway', 'cyclestreet']\n",
      "['no', 'yes', 'shared']\n"
     ]
    }
   ],
   "source": [
    "links = rename_bicycle_tags(links,'cycleway:right')"
   ]
  },
  {
   "cell_type": "code",
   "execution_count": 510,
   "metadata": {},
   "outputs": [
    {
     "data": {
      "text/html": [
       "<div>\n",
       "<style scoped>\n",
       "    .dataframe tbody tr th:only-of-type {\n",
       "        vertical-align: middle;\n",
       "    }\n",
       "\n",
       "    .dataframe tbody tr th {\n",
       "        vertical-align: top;\n",
       "    }\n",
       "\n",
       "    .dataframe thead th {\n",
       "        text-align: right;\n",
       "    }\n",
       "</style>\n",
       "<table border=\"1\" class=\"dataframe\">\n",
       "  <thead>\n",
       "    <tr style=\"text-align: right;\">\n",
       "      <th></th>\n",
       "      <th>agg_cycleway</th>\n",
       "      <th>agg_cycleway:both</th>\n",
       "      <th>agg_cycleway:left</th>\n",
       "      <th>agg_cycleway:right</th>\n",
       "    </tr>\n",
       "  </thead>\n",
       "  <tbody>\n",
       "    <tr>\n",
       "      <th>road_link_0</th>\n",
       "      <td>no</td>\n",
       "      <td>no</td>\n",
       "      <td>no</td>\n",
       "      <td>no</td>\n",
       "    </tr>\n",
       "    <tr>\n",
       "      <th>road_link_1</th>\n",
       "      <td>no</td>\n",
       "      <td>no</td>\n",
       "      <td>no</td>\n",
       "      <td>no</td>\n",
       "    </tr>\n",
       "    <tr>\n",
       "      <th>road_link_2</th>\n",
       "      <td>no</td>\n",
       "      <td>no</td>\n",
       "      <td>no</td>\n",
       "      <td>no</td>\n",
       "    </tr>\n",
       "    <tr>\n",
       "      <th>road_link_3</th>\n",
       "      <td>no</td>\n",
       "      <td>no</td>\n",
       "      <td>no</td>\n",
       "      <td>no</td>\n",
       "    </tr>\n",
       "    <tr>\n",
       "      <th>road_link_4</th>\n",
       "      <td>no</td>\n",
       "      <td>no</td>\n",
       "      <td>no</td>\n",
       "      <td>no</td>\n",
       "    </tr>\n",
       "    <tr>\n",
       "      <th>...</th>\n",
       "      <td>...</td>\n",
       "      <td>...</td>\n",
       "      <td>...</td>\n",
       "      <td>...</td>\n",
       "    </tr>\n",
       "    <tr>\n",
       "      <th>road_link_40146</th>\n",
       "      <td>no</td>\n",
       "      <td>no</td>\n",
       "      <td>no</td>\n",
       "      <td>no</td>\n",
       "    </tr>\n",
       "    <tr>\n",
       "      <th>road_link_40147</th>\n",
       "      <td>no</td>\n",
       "      <td>no</td>\n",
       "      <td>no</td>\n",
       "      <td>no</td>\n",
       "    </tr>\n",
       "    <tr>\n",
       "      <th>road_link_40148</th>\n",
       "      <td>no</td>\n",
       "      <td>no</td>\n",
       "      <td>no</td>\n",
       "      <td>no</td>\n",
       "    </tr>\n",
       "    <tr>\n",
       "      <th>road_link_40149</th>\n",
       "      <td>yes</td>\n",
       "      <td>no</td>\n",
       "      <td>no</td>\n",
       "      <td>no</td>\n",
       "    </tr>\n",
       "    <tr>\n",
       "      <th>road_link_40150</th>\n",
       "      <td>no</td>\n",
       "      <td>no</td>\n",
       "      <td>no</td>\n",
       "      <td>yes</td>\n",
       "    </tr>\n",
       "  </tbody>\n",
       "</table>\n",
       "<p>40151 rows × 4 columns</p>\n",
       "</div>"
      ],
      "text/plain": [
       "                agg_cycleway agg_cycleway:both agg_cycleway:left  \\\n",
       "road_link_0               no                no                no   \n",
       "road_link_1               no                no                no   \n",
       "road_link_2               no                no                no   \n",
       "road_link_3               no                no                no   \n",
       "road_link_4               no                no                no   \n",
       "...                      ...               ...               ...   \n",
       "road_link_40146           no                no                no   \n",
       "road_link_40147           no                no                no   \n",
       "road_link_40148           no                no                no   \n",
       "road_link_40149          yes                no                no   \n",
       "road_link_40150           no                no                no   \n",
       "\n",
       "                agg_cycleway:right  \n",
       "road_link_0                     no  \n",
       "road_link_1                     no  \n",
       "road_link_2                     no  \n",
       "road_link_3                     no  \n",
       "road_link_4                     no  \n",
       "...                            ...  \n",
       "road_link_40146                 no  \n",
       "road_link_40147                 no  \n",
       "road_link_40148                 no  \n",
       "road_link_40149                 no  \n",
       "road_link_40150                yes  \n",
       "\n",
       "[40151 rows x 4 columns]"
      ]
     },
     "execution_count": 510,
     "metadata": {},
     "output_type": "execute_result"
    }
   ],
   "source": [
    "links[['agg_cycleway', 'agg_cycleway:both','agg_cycleway:left','agg_cycleway:right']]"
   ]
  },
  {
   "cell_type": "code",
   "execution_count": 511,
   "metadata": {},
   "outputs": [],
   "source": [
    "links['combine_cycle_tag'] = links['agg_cycleway'] +' '+ links['agg_cycleway:both'] +' '+  links['agg_cycleway:left'] +' '+ links['agg_cycleway:right'] "
   ]
  },
  {
   "cell_type": "code",
   "execution_count": 512,
   "metadata": {},
   "outputs": [
    {
     "name": "stdout",
     "output_type": "stream",
     "text": [
      "c, b, l, r\n",
      "no no no no\n",
      "yes no no no\n",
      "no no yes yes\n",
      "shared no no no\n",
      "no no yes shared\n",
      "no no no yes\n",
      "no yes no no\n",
      "no no yes no\n",
      "no no no shared\n",
      "no shared no no\n",
      "yes yes no no\n",
      "no no shared yes\n",
      "no no shared no\n",
      "no no shared shared\n",
      "no yes yes shared\n",
      "shared no shared shared\n",
      "no shared yes shared\n",
      "yes no no shared\n",
      "no yes no yes\n"
     ]
    }
   ],
   "source": [
    "print('c, b, l, r')\n",
    "for cal in links['combine_cycle_tag'].unique():print(cal)"
   ]
  },
  {
   "cell_type": "code",
   "execution_count": null,
   "metadata": {},
   "outputs": [],
   "source": []
  },
  {
   "cell_type": "code",
   "execution_count": 513,
   "metadata": {},
   "outputs": [],
   "source": [
    "links.to_file('b_links.geojson',drivers='GeoJSON')\n",
    "nodes.to_file('b_nodes.geojson',drivers='GeoJSON')"
   ]
  },
  {
   "cell_type": "code",
   "execution_count": null,
   "metadata": {},
   "outputs": [],
   "source": []
  },
  {
   "cell_type": "code",
   "execution_count": null,
   "metadata": {},
   "outputs": [],
   "source": []
  },
  {
   "cell_type": "code",
   "execution_count": null,
   "metadata": {},
   "outputs": [],
   "source": []
  },
  {
   "cell_type": "code",
   "execution_count": 270,
   "metadata": {},
   "outputs": [
    {
     "name": "stdout",
     "output_type": "stream",
     "text": [
      "0 geometry to inverse\n"
     ]
    }
   ],
   "source": [
    "links = road.rectify_geometry_direction(links,nodes)"
   ]
  },
  {
   "cell_type": "code",
   "execution_count": 271,
   "metadata": {},
   "outputs": [
    {
     "name": "stdout",
     "output_type": "stream",
     "text": [
      "121 links dropped\n"
     ]
    }
   ],
   "source": [
    "links = road.drop_duplicated_links(links)"
   ]
  },
  {
   "cell_type": "code",
   "execution_count": null,
   "metadata": {},
   "outputs": [],
   "source": []
  },
  {
   "cell_type": "code",
   "execution_count": 272,
   "metadata": {},
   "outputs": [
    {
     "data": {
      "text/plain": [
       "24520"
      ]
     },
     "execution_count": 272,
     "metadata": {},
     "output_type": "execute_result"
    }
   ],
   "source": [
    "len(links)"
   ]
  },
  {
   "cell_type": "code",
   "execution_count": 273,
   "metadata": {},
   "outputs": [
    {
     "name": "stdout",
     "output_type": "stream",
     "text": [
      "11680 deg 2 nodes\n",
      "find path with large cutoff for 1  origins\n",
      "find path with large cutoff for 2  origins\n",
      "find path with large cutoff for 1  origins\n",
      "0 links were not merge because the oneway field is not the same\n",
      "0 links were not merge because the highway field is not the same\n",
      "0 merged_links unmerged because the geometry became a multilinestring\n"
     ]
    },
    {
     "data": {
      "text/plain": [
       "21251"
      ]
     },
     "execution_count": 273,
     "metadata": {},
     "output_type": "execute_result"
    }
   ],
   "source": [
    "links = road.simplify(links)\n",
    "len(links)"
   ]
  },
  {
   "cell_type": "code",
   "execution_count": 274,
   "metadata": {},
   "outputs": [
    {
     "data": {
      "text/plain": [
       "33179"
      ]
     },
     "execution_count": 274,
     "metadata": {},
     "output_type": "execute_result"
    }
   ],
   "source": [
    "links = road.split_oneway(links)\n",
    "len(links)"
   ]
  },
  {
   "cell_type": "code",
   "execution_count": 275,
   "metadata": {},
   "outputs": [
    {
     "data": {
      "text/plain": [
       "32615"
      ]
     },
     "execution_count": 275,
     "metadata": {},
     "output_type": "execute_result"
    }
   ],
   "source": [
    "links = road.main_strongly_connected_component(links,None,False)\n",
    "len(links)"
   ]
  },
  {
   "cell_type": "code",
   "execution_count": 276,
   "metadata": {},
   "outputs": [
    {
     "name": "stderr",
     "output_type": "stream",
     "text": [
      "/tmp/ipykernel_591767/3507984463.py:3: RuntimeWarning: Mean of empty slice\n",
      "  return  function([new_type(val) for val in col_values])\n"
     ]
    }
   ],
   "source": [
    "def process_list_in_col(col_values,new_type,function):\n",
    "    if isinstance(col_values, list):\n",
    "        return  function([new_type(val) for val in col_values])\n",
    "    else:\n",
    "        return new_type(col_values)\n",
    "    \n",
    "def remove_list_in_col(col_values,method='first'):\n",
    "    if isinstance(col_values, list):\n",
    "        if method == 'first':\n",
    "            return col_values[0]\n",
    "        else:\n",
    "            return col_values[-1]\n",
    "        \n",
    "    else:\n",
    "        return col_values\n",
    "    \n",
    "links['maxspeed'] = links['maxspeed'].apply(lambda x: process_list_in_col(x,float,np.nanmean))\n",
    "links['lanes'] = links['lanes'].apply(lambda x: process_list_in_col(x,float,np.nanmean)).apply(lambda x: np.floor(x))"
   ]
  },
  {
   "cell_type": "code",
   "execution_count": 277,
   "metadata": {},
   "outputs": [],
   "source": [
    "for col in ['id', 'type', 'highway','name','surface']:\n",
    "    links[col] = links[col].apply(lambda x: remove_list_in_col(x,'first'))"
   ]
  },
  {
   "cell_type": "code",
   "execution_count": 278,
   "metadata": {},
   "outputs": [],
   "source": [
    "links['length'] = links.to_crs(32618).length\n"
   ]
  },
  {
   "cell_type": "code",
   "execution_count": null,
   "metadata": {},
   "outputs": [],
   "source": []
  },
  {
   "cell_type": "code",
   "execution_count": 279,
   "metadata": {},
   "outputs": [],
   "source": [
    "\n",
    "\n",
    "\n",
    "    \n",
    "links.loc[~links['maxspeed'].astype(str).str.isdigit(),'maxspeed']=np.nan\n",
    "links['maxspeed'] = pd.to_numeric(links['maxspeed'])\n",
    "speed_dict = links.dropna().groupby('highway')['maxspeed'].agg(np.mean).to_dict()\n",
    "links.loc[~np.isfinite(links['maxspeed']),'maxspeed'] = links.loc[~np.isfinite(links['maxspeed']),'highway'].apply(lambda x: speed_dict.get(x))\n",
    "links['time'] = links['length']/(links['maxspeed']*1000/3600)"
   ]
  },
  {
   "cell_type": "code",
   "execution_count": 280,
   "metadata": {},
   "outputs": [],
   "source": [
    "links['lanes'] = pd.to_numeric(links['lanes'])\n",
    "lane_dict = links.groupby('highway')['lanes'].agg(np.nanmean).apply(lambda x: np.floor(x)).to_dict()\n",
    "links.loc[~np.isfinite(links['lanes']),'lanes'] = links.loc[~np.isfinite(links['lanes']),'highway'].apply(lambda x: lane_dict.get(x))\n"
   ]
  },
  {
   "cell_type": "code",
   "execution_count": 281,
   "metadata": {},
   "outputs": [],
   "source": [
    "links = links.drop(columns=['id','type','oneway','surface'])\n",
    "links.geometry = links.simplify(0.00003)"
   ]
  },
  {
   "cell_type": "code",
   "execution_count": 282,
   "metadata": {},
   "outputs": [
    {
     "name": "stderr",
     "output_type": "stream",
     "text": [
      "/tmp/ipykernel_591767/722026835.py:6: FutureWarning: Passing a set as an indexer is deprecated and will raise in a future version. Use a list instead.\n",
      "  nodes = nodes.loc[nodes_set].sort_index()\n"
     ]
    }
   ],
   "source": [
    "links = links.reset_index(drop=True)\n",
    "links.index = 'road_link_'+links.index.astype(str)\n",
    "\n",
    "nodes_set = set(links['a']).union(set(links['b']))\n",
    "\n",
    "nodes = nodes.loc[nodes_set].sort_index()\n"
   ]
  },
  {
   "cell_type": "code",
   "execution_count": null,
   "metadata": {},
   "outputs": [],
   "source": []
  },
  {
   "cell_type": "code",
   "execution_count": 283,
   "metadata": {},
   "outputs": [
    {
     "name": "stdout",
     "output_type": "stream",
     "text": [
      "325 links dropped\n"
     ]
    }
   ],
   "source": [
    "links = road.drop_duplicated_links(links)\n"
   ]
  },
  {
   "cell_type": "code",
   "execution_count": null,
   "metadata": {},
   "outputs": [],
   "source": []
  },
  {
   "cell_type": "markdown",
   "metadata": {},
   "source": [
    "# Elevation"
   ]
  },
  {
   "cell_type": "code",
   "execution_count": 29,
   "metadata": {},
   "outputs": [
    {
     "name": "stdout",
     "output_type": "stream",
     "text": [
      "file save tmp/\n"
     ]
    }
   ],
   "source": [
    "el_dict = get_elevation_from_srtm(nodes)"
   ]
  },
  {
   "cell_type": "code",
   "execution_count": 30,
   "metadata": {},
   "outputs": [],
   "source": [
    "nodes['elevation'] = nodes.index.map(el_dict.get)"
   ]
  },
  {
   "cell_type": "code",
   "execution_count": 31,
   "metadata": {},
   "outputs": [],
   "source": [
    "# incline from node a to b in deg. neg if going down (if b is lower dans a)\n",
    "elevation_dict = nodes['elevation'].to_dict()\n",
    "links['incline'] = calc_incline(links['a'].apply(lambda x: el_dict.get(x)).values,\n",
    "                               links['b'].apply(lambda x: el_dict.get(x)).values,\n",
    "                               links['length'].values)"
   ]
  },
  {
   "cell_type": "code",
   "execution_count": 34,
   "metadata": {},
   "outputs": [
    {
     "data": {
      "text/plain": [
       "-7.025106537874201"
      ]
     },
     "execution_count": 34,
     "metadata": {},
     "output_type": "execute_result"
    }
   ],
   "source": [
    "links['incline'].min()"
   ]
  },
  {
   "cell_type": "code",
   "execution_count": null,
   "metadata": {},
   "outputs": [],
   "source": []
  },
  {
   "cell_type": "code",
   "execution_count": null,
   "metadata": {},
   "outputs": [],
   "source": []
  },
  {
   "cell_type": "code",
   "execution_count": 90,
   "metadata": {},
   "outputs": [],
   "source": [
    "links.to_file('road_links.geojson')\n",
    "nodes.to_file('road_nodes.geojson')"
   ]
  },
  {
   "cell_type": "code",
   "execution_count": null,
   "metadata": {
    "scrolled": true
   },
   "outputs": [],
   "source": []
  },
  {
   "cell_type": "code",
   "execution_count": null,
   "metadata": {},
   "outputs": [],
   "source": [
    "\n",
    "\n"
   ]
  },
  {
   "cell_type": "code",
   "execution_count": null,
   "metadata": {},
   "outputs": [],
   "source": []
  },
  {
   "cell_type": "code",
   "execution_count": null,
   "metadata": {},
   "outputs": [],
   "source": []
  },
  {
   "cell_type": "code",
   "execution_count": null,
   "metadata": {},
   "outputs": [],
   "source": []
  }
 ],
 "metadata": {
  "kernelspec": {
   "display_name": "quetzal_env",
   "language": "python",
   "name": "quetzal_env"
  },
  "language_info": {
   "codemirror_mode": {
    "name": "ipython",
    "version": 3
   },
   "file_extension": ".py",
   "mimetype": "text/x-python",
   "name": "python",
   "nbconvert_exporter": "python",
   "pygments_lexer": "ipython3",
   "version": "3.8.6"
  }
 },
 "nbformat": 4,
 "nbformat_minor": 2
}
