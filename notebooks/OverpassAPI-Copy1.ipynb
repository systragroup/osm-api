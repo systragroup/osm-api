{
 "cells": [
  {
   "cell_type": "code",
   "execution_count": 4,
   "metadata": {},
   "outputs": [],
   "source": [
    "import numpy as np\n",
    "import pandas as pd\n",
    "import geopandas as gpd\n",
    "import requests\n",
    "from shapely.geometry import LineString\n",
    "import sys\n",
    "\n",
    "sys.path.append('../')\n",
    "import road\n",
    "from overpass import fetch_overpass, get_overpass_query\n",
    "from elevation import get_elevation_from_srtm, calc_incline\n",
    "from typing import *"
   ]
  },
  {
   "cell_type": "code",
   "execution_count": 5,
   "metadata": {},
   "outputs": [],
   "source": [
    "\n",
    "columns = ['highway', 'maxspeed', 'lanes', 'name', 'oneway', 'surface']\n",
    "highway_list = [\"motorway\", \"motorway_link\", \"trunk\", \"trunk_link\", \"primary\", \"primary_link\", \n",
    "                  \"secondary\", \"secondary_link\", \"tertiary\", \"tertiary_link\", \"residential\",\"cycleway\"]\n",
    "cycleway_list = None\n",
    "cycleway_columns = ['cycleway:both', 'cycleway:left','cycleway:right']\n",
    "if \"cycleway\" in highway_list:\n",
    "    cycleway_list = [\"lane\", \"opposite\", \"opposite_lane\", \"track\", \"opposite_track\", \n",
    "                     \"share_busway\", \"opposite_share_busway\", \"shared_lane\",]\n",
    "    columns += cycleway_columns\n",
    "    columns += ['cycleway']\n",
    "    \n",
    "    #'oneway:bicycle','cycleway:left:oneway','cycleway:right:oneway',"
   ]
  },
  {
   "cell_type": "code",
   "execution_count": 519,
   "metadata": {},
   "outputs": [
    {
     "data": {
      "text/plain": [
       "['highway',\n",
       " 'maxspeed',\n",
       " 'lanes',\n",
       " 'name',\n",
       " 'oneway',\n",
       " 'surface',\n",
       " 'cycleway:both',\n",
       " 'cycleway:left',\n",
       " 'cycleway:right',\n",
       " 'cycleway']"
      ]
     },
     "execution_count": 519,
     "metadata": {},
     "output_type": "execute_result"
    }
   ],
   "source": [
    "columns"
   ]
  },
  {
   "cell_type": "code",
   "execution_count": 520,
   "metadata": {},
   "outputs": [],
   "source": [
    "bbox = [45.516012863655845,-73.61165474010419,45.54058887207495,-73.56153948806578]\n",
    "bbox = [45.45, -73.6492855702676, 45.644709880535515, -73.44752816469271]\n",
    "bbox = (*bbox,)"
   ]
  },
  {
   "cell_type": "code",
   "execution_count": 521,
   "metadata": {},
   "outputs": [],
   "source": [
    "overpass_query = get_overpass_query(bbox,highway_list,cycleway_list)"
   ]
  },
  {
   "cell_type": "code",
   "execution_count": 522,
   "metadata": {},
   "outputs": [
    {
     "name": "stdout",
     "output_type": "stream",
     "text": [
      "OVERPASS Request ...\n",
      "Convert to GeoPandas ...\n"
     ]
    },
    {
     "name": "stderr",
     "output_type": "stream",
     "text": [
      "/home/boivin/.pyenv/versions/quetzal_env/lib/python3.8/site-packages/pandas/core/dtypes/cast.py:127: ShapelyDeprecationWarning: The array interface is deprecated and will no longer work in Shapely 2.0. Convert the '.coords' to a numpy array instead.\n",
      "  arr = construct_1d_object_array_from_listlike(values)\n"
     ]
    },
    {
     "name": "stdout",
     "output_type": "stream",
     "text": [
      "Write (way.geojson) ...\n"
     ]
    }
   ],
   "source": [
    "fetch_overpass(overpass_query,columns,'')"
   ]
  },
  {
   "cell_type": "code",
   "execution_count": 27,
   "metadata": {},
   "outputs": [],
   "source": [
    "links, nodes = road.get_links_and_nodes('way.geojson', split_direction=True)\n",
    "nodes = nodes.set_crs(links.crs)"
   ]
  },
  {
   "cell_type": "code",
   "execution_count": null,
   "metadata": {},
   "outputs": [],
   "source": []
  },
  {
   "cell_type": "code",
   "execution_count": 524,
   "metadata": {},
   "outputs": [
    {
     "name": "stdout",
     "output_type": "stream",
     "text": [
      "['no', 'yes', 'shared']\n",
      "['no', 'yes', 'shared']\n",
      "['no', 'yes', 'shared']\n",
      "['no', 'yes', 'shared']\n"
     ]
    }
   ],
   "source": [
    "links = rename_bicycle_tags(links,'cycleway')\n",
    "links = rename_bicycle_tags(links,'cycleway:both')\n",
    "links = rename_bicycle_tags(links,'cycleway:left')\n",
    "links = rename_bicycle_tags(links,'cycleway:right')\n",
    "\n",
    "\n",
    "links['combine_cycle_tag'] = links['cycleway'] +' '+ \\\n",
    "                                links['cycleway:both'] +' '+ \\\n",
    "                                links['cycleway:left'] +' '+ \\\n",
    "                                links['cycleway:right'] \n",
    "\n",
    "\n",
    "# simple method. everything with a tag highway is an highway both side. using the road oneway.\n",
    "bike_dict={}\n",
    "for string in links['combine_cycle_tag'].unique():\n",
    "    val = string.split(' ')\n",
    "    if val[0]=='yes':\n",
    "        bike_dict[string]='yes'\n",
    "    elif val[0] == 'shared':\n",
    "        bike_dict[string]='shared'\n",
    "    elif 'yes' in val[1:]:\n",
    "        bike_dict[string]='yes'\n",
    "    elif  'share' in val[1:]:\n",
    "        bike_dict[string]='share'\n",
    "    else :\n",
    "        bike_dict[string]='no'\n",
    "links['cycleway'] = links['combine_cycle_tag'].apply(lambda x: bike_dict.get(x))\n",
    "links.loc[links['highway']=='cycleway','cycleway'] = 'yes'"
   ]
  },
  {
   "cell_type": "code",
   "execution_count": null,
   "metadata": {},
   "outputs": [],
   "source": []
  },
  {
   "cell_type": "code",
   "execution_count": null,
   "metadata": {},
   "outputs": [],
   "source": []
  },
  {
   "cell_type": "code",
   "execution_count": 525,
   "metadata": {},
   "outputs": [],
   "source": [
    "#links.to_file('b_links.geojson',drivers='GeoJSON')\n",
    "#nodes.to_file('b_nodes.geojson',drivers='GeoJSON')"
   ]
  },
  {
   "cell_type": "code",
   "execution_count": 526,
   "metadata": {},
   "outputs": [],
   "source": [
    "links = links.drop(columns = cycleway_columns)\n",
    "#remove highway not asked for. (because of cycleway)\n",
    "links = links[links['highway'].isin(highway_list)]"
   ]
  },
  {
   "cell_type": "code",
   "execution_count": 527,
   "metadata": {},
   "outputs": [
    {
     "data": {
      "text/html": [
       "<div>\n",
       "<style scoped>\n",
       "    .dataframe tbody tr th:only-of-type {\n",
       "        vertical-align: middle;\n",
       "    }\n",
       "\n",
       "    .dataframe tbody tr th {\n",
       "        vertical-align: top;\n",
       "    }\n",
       "\n",
       "    .dataframe thead th {\n",
       "        text-align: right;\n",
       "    }\n",
       "</style>\n",
       "<table border=\"1\" class=\"dataframe\">\n",
       "  <thead>\n",
       "    <tr style=\"text-align: right;\">\n",
       "      <th></th>\n",
       "      <th>id</th>\n",
       "      <th>type</th>\n",
       "      <th>highway</th>\n",
       "      <th>maxspeed</th>\n",
       "      <th>lanes</th>\n",
       "      <th>name</th>\n",
       "      <th>oneway</th>\n",
       "      <th>surface</th>\n",
       "      <th>cycleway</th>\n",
       "      <th>a</th>\n",
       "      <th>b</th>\n",
       "      <th>geometry</th>\n",
       "      <th>combine_cycle_tag</th>\n",
       "    </tr>\n",
       "  </thead>\n",
       "  <tbody>\n",
       "    <tr>\n",
       "      <th>road_link_0</th>\n",
       "      <td>4320462</td>\n",
       "      <td>way</td>\n",
       "      <td>trunk</td>\n",
       "      <td>70</td>\n",
       "      <td>4</td>\n",
       "      <td>Autoroute Ville-Marie</td>\n",
       "      <td>yes</td>\n",
       "      <td>asphalt</td>\n",
       "      <td>no</td>\n",
       "      <td>road_node_12066</td>\n",
       "      <td>road_node_15879</td>\n",
       "      <td>LINESTRING (-73.55832 45.50704, -73.55806 45.5...</td>\n",
       "      <td>no no no no</td>\n",
       "    </tr>\n",
       "    <tr>\n",
       "      <th>road_link_1</th>\n",
       "      <td>4320471</td>\n",
       "      <td>way</td>\n",
       "      <td>residential</td>\n",
       "      <td>30</td>\n",
       "      <td>1</td>\n",
       "      <td>Rue Mackay</td>\n",
       "      <td>yes</td>\n",
       "      <td>asphalt</td>\n",
       "      <td>no</td>\n",
       "      <td>road_node_8702</td>\n",
       "      <td>road_node_8772</td>\n",
       "      <td>LINESTRING (-73.57878 45.49667, -73.57870 45.4...</td>\n",
       "      <td>no no no no</td>\n",
       "    </tr>\n",
       "    <tr>\n",
       "      <th>road_link_2</th>\n",
       "      <td>4320471</td>\n",
       "      <td>way</td>\n",
       "      <td>residential</td>\n",
       "      <td>30</td>\n",
       "      <td>1</td>\n",
       "      <td>Rue Mackay</td>\n",
       "      <td>yes</td>\n",
       "      <td>asphalt</td>\n",
       "      <td>no</td>\n",
       "      <td>road_node_8772</td>\n",
       "      <td>road_node_11514</td>\n",
       "      <td>LINESTRING (-73.57870 45.49663, -73.57867 45.4...</td>\n",
       "      <td>no no no no</td>\n",
       "    </tr>\n",
       "    <tr>\n",
       "      <th>road_link_3</th>\n",
       "      <td>4320471</td>\n",
       "      <td>way</td>\n",
       "      <td>residential</td>\n",
       "      <td>30</td>\n",
       "      <td>1</td>\n",
       "      <td>Rue Mackay</td>\n",
       "      <td>yes</td>\n",
       "      <td>asphalt</td>\n",
       "      <td>no</td>\n",
       "      <td>road_node_11514</td>\n",
       "      <td>road_node_10813</td>\n",
       "      <td>LINESTRING (-73.57705 45.49584, -73.57696 45.4...</td>\n",
       "      <td>no no no no</td>\n",
       "    </tr>\n",
       "    <tr>\n",
       "      <th>road_link_4</th>\n",
       "      <td>4320473</td>\n",
       "      <td>way</td>\n",
       "      <td>tertiary</td>\n",
       "      <td>40</td>\n",
       "      <td>1</td>\n",
       "      <td>Rue du Fort</td>\n",
       "      <td>yes</td>\n",
       "      <td>asphalt</td>\n",
       "      <td>no</td>\n",
       "      <td>road_node_15802</td>\n",
       "      <td>road_node_7236</td>\n",
       "      <td>LINESTRING (-73.58373 45.49316, -73.58366 45.4...</td>\n",
       "      <td>no no no no</td>\n",
       "    </tr>\n",
       "    <tr>\n",
       "      <th>...</th>\n",
       "      <td>...</td>\n",
       "      <td>...</td>\n",
       "      <td>...</td>\n",
       "      <td>...</td>\n",
       "      <td>...</td>\n",
       "      <td>...</td>\n",
       "      <td>...</td>\n",
       "      <td>...</td>\n",
       "      <td>...</td>\n",
       "      <td>...</td>\n",
       "      <td>...</td>\n",
       "      <td>...</td>\n",
       "      <td>...</td>\n",
       "    </tr>\n",
       "    <tr>\n",
       "      <th>road_link_60381</th>\n",
       "      <td>1190379608</td>\n",
       "      <td>way</td>\n",
       "      <td>cycleway</td>\n",
       "      <td>NaN</td>\n",
       "      <td>NaN</td>\n",
       "      <td>longueuil ouest-est</td>\n",
       "      <td>no</td>\n",
       "      <td>asphalt</td>\n",
       "      <td>yes</td>\n",
       "      <td>road_node_9384</td>\n",
       "      <td>road_node_12124</td>\n",
       "      <td>LINESTRING (-73.49963 45.54059, -73.49957 45.5...</td>\n",
       "      <td>yes no no no</td>\n",
       "    </tr>\n",
       "    <tr>\n",
       "      <th>road_link_60382</th>\n",
       "      <td>1190379609</td>\n",
       "      <td>way</td>\n",
       "      <td>cycleway</td>\n",
       "      <td>NaN</td>\n",
       "      <td>NaN</td>\n",
       "      <td>longueuil ouest-est</td>\n",
       "      <td>no</td>\n",
       "      <td>asphalt</td>\n",
       "      <td>yes</td>\n",
       "      <td>road_node_25824</td>\n",
       "      <td>road_node_25063</td>\n",
       "      <td>LINESTRING (-73.49952 45.54068, -73.49749 45.5...</td>\n",
       "      <td>no no no no</td>\n",
       "    </tr>\n",
       "    <tr>\n",
       "      <th>road_link_60383</th>\n",
       "      <td>1190379610</td>\n",
       "      <td>way</td>\n",
       "      <td>cycleway</td>\n",
       "      <td>NaN</td>\n",
       "      <td>NaN</td>\n",
       "      <td>longueuil ouest-est</td>\n",
       "      <td>no</td>\n",
       "      <td>asphalt</td>\n",
       "      <td>yes</td>\n",
       "      <td>road_node_25063</td>\n",
       "      <td>road_node_1453</td>\n",
       "      <td>LINESTRING (-73.49686 45.54346, -73.49682 45.5...</td>\n",
       "      <td>yes no no no</td>\n",
       "    </tr>\n",
       "    <tr>\n",
       "      <th>road_link_60384</th>\n",
       "      <td>1190379611</td>\n",
       "      <td>way</td>\n",
       "      <td>cycleway</td>\n",
       "      <td>NaN</td>\n",
       "      <td>NaN</td>\n",
       "      <td>longueuil ouest-est</td>\n",
       "      <td>no</td>\n",
       "      <td>asphalt</td>\n",
       "      <td>yes</td>\n",
       "      <td>road_node_11929</td>\n",
       "      <td>road_node_2694</td>\n",
       "      <td>LINESTRING (-73.49482 45.54554, -73.49421 45.5...</td>\n",
       "      <td>no no no no</td>\n",
       "    </tr>\n",
       "    <tr>\n",
       "      <th>road_link_60385</th>\n",
       "      <td>1190379612</td>\n",
       "      <td>way</td>\n",
       "      <td>cycleway</td>\n",
       "      <td>NaN</td>\n",
       "      <td>NaN</td>\n",
       "      <td>longueuil ouest-est</td>\n",
       "      <td>no</td>\n",
       "      <td>asphalt</td>\n",
       "      <td>yes</td>\n",
       "      <td>road_node_12364</td>\n",
       "      <td>road_node_9598</td>\n",
       "      <td>LINESTRING (-73.49495 45.54544, -73.49489 45.5...</td>\n",
       "      <td>yes no no no</td>\n",
       "    </tr>\n",
       "  </tbody>\n",
       "</table>\n",
       "<p>60354 rows × 13 columns</p>\n",
       "</div>"
      ],
      "text/plain": [
       "                         id type      highway maxspeed lanes  \\\n",
       "road_link_0         4320462  way        trunk       70     4   \n",
       "road_link_1         4320471  way  residential       30     1   \n",
       "road_link_2         4320471  way  residential       30     1   \n",
       "road_link_3         4320471  way  residential       30     1   \n",
       "road_link_4         4320473  way     tertiary       40     1   \n",
       "...                     ...  ...          ...      ...   ...   \n",
       "road_link_60381  1190379608  way     cycleway      NaN   NaN   \n",
       "road_link_60382  1190379609  way     cycleway      NaN   NaN   \n",
       "road_link_60383  1190379610  way     cycleway      NaN   NaN   \n",
       "road_link_60384  1190379611  way     cycleway      NaN   NaN   \n",
       "road_link_60385  1190379612  way     cycleway      NaN   NaN   \n",
       "\n",
       "                                  name oneway  surface cycleway  \\\n",
       "road_link_0      Autoroute Ville-Marie    yes  asphalt       no   \n",
       "road_link_1                 Rue Mackay    yes  asphalt       no   \n",
       "road_link_2                 Rue Mackay    yes  asphalt       no   \n",
       "road_link_3                 Rue Mackay    yes  asphalt       no   \n",
       "road_link_4                Rue du Fort    yes  asphalt       no   \n",
       "...                                ...    ...      ...      ...   \n",
       "road_link_60381    longueuil ouest-est     no  asphalt      yes   \n",
       "road_link_60382    longueuil ouest-est     no  asphalt      yes   \n",
       "road_link_60383    longueuil ouest-est     no  asphalt      yes   \n",
       "road_link_60384    longueuil ouest-est     no  asphalt      yes   \n",
       "road_link_60385    longueuil ouest-est     no  asphalt      yes   \n",
       "\n",
       "                               a                b  \\\n",
       "road_link_0      road_node_12066  road_node_15879   \n",
       "road_link_1       road_node_8702   road_node_8772   \n",
       "road_link_2       road_node_8772  road_node_11514   \n",
       "road_link_3      road_node_11514  road_node_10813   \n",
       "road_link_4      road_node_15802   road_node_7236   \n",
       "...                          ...              ...   \n",
       "road_link_60381   road_node_9384  road_node_12124   \n",
       "road_link_60382  road_node_25824  road_node_25063   \n",
       "road_link_60383  road_node_25063   road_node_1453   \n",
       "road_link_60384  road_node_11929   road_node_2694   \n",
       "road_link_60385  road_node_12364   road_node_9598   \n",
       "\n",
       "                                                          geometry  \\\n",
       "road_link_0      LINESTRING (-73.55832 45.50704, -73.55806 45.5...   \n",
       "road_link_1      LINESTRING (-73.57878 45.49667, -73.57870 45.4...   \n",
       "road_link_2      LINESTRING (-73.57870 45.49663, -73.57867 45.4...   \n",
       "road_link_3      LINESTRING (-73.57705 45.49584, -73.57696 45.4...   \n",
       "road_link_4      LINESTRING (-73.58373 45.49316, -73.58366 45.4...   \n",
       "...                                                            ...   \n",
       "road_link_60381  LINESTRING (-73.49963 45.54059, -73.49957 45.5...   \n",
       "road_link_60382  LINESTRING (-73.49952 45.54068, -73.49749 45.5...   \n",
       "road_link_60383  LINESTRING (-73.49686 45.54346, -73.49682 45.5...   \n",
       "road_link_60384  LINESTRING (-73.49482 45.54554, -73.49421 45.5...   \n",
       "road_link_60385  LINESTRING (-73.49495 45.54544, -73.49489 45.5...   \n",
       "\n",
       "                combine_cycle_tag  \n",
       "road_link_0           no no no no  \n",
       "road_link_1           no no no no  \n",
       "road_link_2           no no no no  \n",
       "road_link_3           no no no no  \n",
       "road_link_4           no no no no  \n",
       "...                           ...  \n",
       "road_link_60381      yes no no no  \n",
       "road_link_60382       no no no no  \n",
       "road_link_60383      yes no no no  \n",
       "road_link_60384       no no no no  \n",
       "road_link_60385      yes no no no  \n",
       "\n",
       "[60354 rows x 13 columns]"
      ]
     },
     "execution_count": 527,
     "metadata": {},
     "output_type": "execute_result"
    }
   ],
   "source": [
    "links"
   ]
  },
  {
   "cell_type": "code",
   "execution_count": 540,
   "metadata": {},
   "outputs": [],
   "source": [
    "bike_links = links[links['cycleway']!='no'].copy()\n",
    "\n",
    "bike_links['abset'] = [frozenset(el) for el in zip(bike_links['a'], bike_links['b'])]\n",
    "abset = bike_links.groupby('abset')[['a']].agg(len)\n",
    "oneway_abset = abset[abset['a']>1].index.values\n",
    "\n",
    "bike_links['oneway'] = False\n",
    "bike_links.loc[bike_links['abset'].isin(oneway_abset),'oneway'] = True\n",
    "\n",
    "oneway_dict = bike_links['oneway'].to_dict()\n",
    "links.loc[links['cycleway']!='no','oneway'] = bike_links['oneway']"
   ]
  },
  {
   "cell_type": "code",
   "execution_count": 556,
   "metadata": {},
   "outputs": [
    {
     "ename": "KeyError",
     "evalue": "'Column not found: maxspeed'",
     "output_type": "error",
     "traceback": [
      "\u001b[0;31m---------------------------------------------------------------------------\u001b[0m",
      "\u001b[0;31mKeyError\u001b[0m                                  Traceback (most recent call last)",
      "Cell \u001b[0;32mIn[556], line 1\u001b[0m\n\u001b[0;32m----> 1\u001b[0m links \u001b[38;5;241m=\u001b[39m \u001b[43mfill_na_col\u001b[49m\u001b[43m(\u001b[49m\u001b[43mlinks\u001b[49m\u001b[43m,\u001b[49m\u001b[38;5;124;43m'\u001b[39;49m\u001b[38;5;124;43mhighway\u001b[39;49m\u001b[38;5;124;43m'\u001b[39;49m\u001b[43m,\u001b[49m\u001b[38;5;124;43m'\u001b[39;49m\u001b[38;5;124;43mmaxspeed\u001b[39;49m\u001b[38;5;124;43m'\u001b[39;49m\u001b[43m,\u001b[49m\u001b[43mnp\u001b[49m\u001b[38;5;241;43m.\u001b[39;49m\u001b[43mmean\u001b[49m\u001b[43m)\u001b[49m\n",
      "File \u001b[0;32m~/python_script/quetzal/osm-api/road.py:477\u001b[0m, in \u001b[0;36mfill_na_col\u001b[0;34m(links, group, col, agg_func)\u001b[0m\n\u001b[1;32m    455\u001b[0m \u001b[38;5;28;01mdef\u001b[39;00m \u001b[38;5;21mfill_na_col\u001b[39m(links: gpd\u001b[38;5;241m.\u001b[39mGeoDataFrame, \n\u001b[1;32m    456\u001b[0m                group: \u001b[38;5;28mstr\u001b[39m \u001b[38;5;241m=\u001b[39m \u001b[38;5;124m'\u001b[39m\u001b[38;5;124mhighway\u001b[39m\u001b[38;5;124m'\u001b[39m, \n\u001b[1;32m    457\u001b[0m                col: \u001b[38;5;28mstr\u001b[39m \u001b[38;5;241m=\u001b[39m \u001b[38;5;124m'\u001b[39m\u001b[38;5;124mmaxspeed\u001b[39m\u001b[38;5;124m'\u001b[39m,\n\u001b[1;32m    458\u001b[0m                agg_func: Callable[[\u001b[38;5;28mlist\u001b[39m],Any] \u001b[38;5;241m=\u001b[39m np\u001b[38;5;241m.\u001b[39mmean) \u001b[38;5;241m-\u001b[39m\u001b[38;5;241m>\u001b[39m gpd\u001b[38;5;241m.\u001b[39mGeoDataFrame:\n\u001b[1;32m    459\u001b[0m \u001b[38;5;250m    \u001b[39m\u001b[38;5;124;03m'''\u001b[39;00m\n\u001b[1;32m    460\u001b[0m \u001b[38;5;124;03m    fill the nan value with the average of its group (if np.mean)\u001b[39;00m\n\u001b[1;32m    461\u001b[0m \u001b[38;5;124;03m    for example: with group=highway, col=maxspeed and agg_func = np.mean. the mean maxpeed per highway is compute.\u001b[39;00m\n\u001b[0;32m   (...)\u001b[0m\n\u001b[1;32m    474\u001b[0m \u001b[38;5;124;03m    {index: elevation} : Dict[Any,int] = elevataion for each index in the GeoDataFrame\u001b[39;00m\n\u001b[1;32m    475\u001b[0m \u001b[38;5;124;03m    '''\u001b[39;00m\n\u001b[0;32m--> 477\u001b[0m     val_dict \u001b[38;5;241m=\u001b[39m \u001b[43mlinks\u001b[49m\u001b[38;5;241;43m.\u001b[39;49m\u001b[43mdropna\u001b[49m\u001b[43m(\u001b[49m\u001b[43m)\u001b[49m\u001b[38;5;241;43m.\u001b[39;49m\u001b[43mgroupby\u001b[49m\u001b[43m(\u001b[49m\u001b[43mgroup\u001b[49m\u001b[43m)\u001b[49m\u001b[43m[\u001b[49m\u001b[43mcol\u001b[49m\u001b[43m]\u001b[49m\u001b[38;5;241m.\u001b[39magg(agg_func)\u001b[38;5;241m.\u001b[39mto_dict()\n\u001b[1;32m    478\u001b[0m     links\u001b[38;5;241m.\u001b[39mloc[\u001b[38;5;241m~\u001b[39mnp\u001b[38;5;241m.\u001b[39misfinite(links[col]),col] \u001b[38;5;241m=\u001b[39m links\u001b[38;5;241m.\u001b[39mloc[\u001b[38;5;241m~\u001b[39mnp\u001b[38;5;241m.\u001b[39misfinite(links[col]),group]\u001b[38;5;241m.\u001b[39mapply(\u001b[38;5;28;01mlambda\u001b[39;00m x: val_dict\u001b[38;5;241m.\u001b[39mget(x))\n\u001b[1;32m    479\u001b[0m     \u001b[38;5;28;01mreturn\u001b[39;00m links\n",
      "File \u001b[0;32m~/.pyenv/versions/quetzal_env/lib/python3.8/site-packages/pandas/core/groupby/generic.py:1416\u001b[0m, in \u001b[0;36mDataFrameGroupBy.__getitem__\u001b[0;34m(self, key)\u001b[0m\n\u001b[1;32m   1407\u001b[0m \u001b[38;5;28;01mif\u001b[39;00m \u001b[38;5;28misinstance\u001b[39m(key, \u001b[38;5;28mtuple\u001b[39m) \u001b[38;5;129;01mand\u001b[39;00m \u001b[38;5;28mlen\u001b[39m(key) \u001b[38;5;241m>\u001b[39m \u001b[38;5;241m1\u001b[39m:\n\u001b[1;32m   1408\u001b[0m     \u001b[38;5;66;03m# if len == 1, then it becomes a SeriesGroupBy and this is actually\u001b[39;00m\n\u001b[1;32m   1409\u001b[0m     \u001b[38;5;66;03m# valid syntax, so don't raise warning\u001b[39;00m\n\u001b[1;32m   1410\u001b[0m     warnings\u001b[38;5;241m.\u001b[39mwarn(\n\u001b[1;32m   1411\u001b[0m         \u001b[38;5;124m\"\u001b[39m\u001b[38;5;124mIndexing with multiple keys (implicitly converted to a tuple \u001b[39m\u001b[38;5;124m\"\u001b[39m\n\u001b[1;32m   1412\u001b[0m         \u001b[38;5;124m\"\u001b[39m\u001b[38;5;124mof keys) will be deprecated, use a list instead.\u001b[39m\u001b[38;5;124m\"\u001b[39m,\n\u001b[1;32m   1413\u001b[0m         \u001b[38;5;167;01mFutureWarning\u001b[39;00m,\n\u001b[1;32m   1414\u001b[0m         stacklevel\u001b[38;5;241m=\u001b[39mfind_stack_level(),\n\u001b[1;32m   1415\u001b[0m     )\n\u001b[0;32m-> 1416\u001b[0m \u001b[38;5;28;01mreturn\u001b[39;00m \u001b[38;5;28;43msuper\u001b[39;49m\u001b[43m(\u001b[49m\u001b[43m)\u001b[49m\u001b[38;5;241;43m.\u001b[39;49m\u001b[38;5;21;43m__getitem__\u001b[39;49m\u001b[43m(\u001b[49m\u001b[43mkey\u001b[49m\u001b[43m)\u001b[49m\n",
      "File \u001b[0;32m~/.pyenv/versions/quetzal_env/lib/python3.8/site-packages/pandas/core/base.py:248\u001b[0m, in \u001b[0;36mSelectionMixin.__getitem__\u001b[0;34m(self, key)\u001b[0m\n\u001b[1;32m    246\u001b[0m \u001b[38;5;28;01melse\u001b[39;00m:\n\u001b[1;32m    247\u001b[0m     \u001b[38;5;28;01mif\u001b[39;00m key \u001b[38;5;129;01mnot\u001b[39;00m \u001b[38;5;129;01min\u001b[39;00m \u001b[38;5;28mself\u001b[39m\u001b[38;5;241m.\u001b[39mobj:\n\u001b[0;32m--> 248\u001b[0m         \u001b[38;5;28;01mraise\u001b[39;00m \u001b[38;5;167;01mKeyError\u001b[39;00m(\u001b[38;5;124mf\u001b[39m\u001b[38;5;124m\"\u001b[39m\u001b[38;5;124mColumn not found: \u001b[39m\u001b[38;5;132;01m{\u001b[39;00mkey\u001b[38;5;132;01m}\u001b[39;00m\u001b[38;5;124m\"\u001b[39m)\n\u001b[1;32m    249\u001b[0m     subset \u001b[38;5;241m=\u001b[39m \u001b[38;5;28mself\u001b[39m\u001b[38;5;241m.\u001b[39mobj[key]\n\u001b[1;32m    250\u001b[0m     ndim \u001b[38;5;241m=\u001b[39m subset\u001b[38;5;241m.\u001b[39mndim\n",
      "\u001b[0;31mKeyError\u001b[0m: 'Column not found: maxspeed'"
     ]
    }
   ],
   "source": [
    "links = fill_na_col(links,'highway','maxspeed',np.mean)\n"
   ]
  },
  {
   "cell_type": "code",
   "execution_count": 557,
   "metadata": {},
   "outputs": [
    {
     "data": {
      "text/html": [
       "<div>\n",
       "<style scoped>\n",
       "    .dataframe tbody tr th:only-of-type {\n",
       "        vertical-align: middle;\n",
       "    }\n",
       "\n",
       "    .dataframe tbody tr th {\n",
       "        vertical-align: top;\n",
       "    }\n",
       "\n",
       "    .dataframe thead th {\n",
       "        text-align: right;\n",
       "    }\n",
       "</style>\n",
       "<table border=\"1\" class=\"dataframe\">\n",
       "  <thead>\n",
       "    <tr style=\"text-align: right;\">\n",
       "      <th></th>\n",
       "      <th>id</th>\n",
       "      <th>type</th>\n",
       "      <th>highway</th>\n",
       "      <th>speed</th>\n",
       "      <th>lanes</th>\n",
       "      <th>name</th>\n",
       "      <th>oneway</th>\n",
       "      <th>surface</th>\n",
       "      <th>cycleway</th>\n",
       "      <th>a</th>\n",
       "      <th>b</th>\n",
       "      <th>geometry</th>\n",
       "      <th>combine_cycle_tag</th>\n",
       "      <th>length</th>\n",
       "      <th>time</th>\n",
       "      <th>incline</th>\n",
       "    </tr>\n",
       "  </thead>\n",
       "  <tbody>\n",
       "    <tr>\n",
       "      <th>road_link_0</th>\n",
       "      <td>4320471</td>\n",
       "      <td>way</td>\n",
       "      <td>residential</td>\n",
       "      <td>30.0</td>\n",
       "      <td>1.0</td>\n",
       "      <td>Rue Mackay</td>\n",
       "      <td>True</td>\n",
       "      <td>asphalt</td>\n",
       "      <td>no</td>\n",
       "      <td>road_node_8702</td>\n",
       "      <td>road_node_8772</td>\n",
       "      <td>LINESTRING (-73.57878 45.49667, -73.57870 45.4...</td>\n",
       "      <td>no no no no</td>\n",
       "      <td>7.838556</td>\n",
       "      <td>0.940627</td>\n",
       "      <td>-7.270209</td>\n",
       "    </tr>\n",
       "    <tr>\n",
       "      <th>road_link_1</th>\n",
       "      <td>4320487</td>\n",
       "      <td>way</td>\n",
       "      <td>residential</td>\n",
       "      <td>20.0</td>\n",
       "      <td>1.0</td>\n",
       "      <td>Rue Saint-Paul Est</td>\n",
       "      <td>True</td>\n",
       "      <td>sett</td>\n",
       "      <td>no</td>\n",
       "      <td>road_node_2893</td>\n",
       "      <td>road_node_21755</td>\n",
       "      <td>LINESTRING (-73.55198 45.50863, -73.55200 45.5...</td>\n",
       "      <td>no no no no</td>\n",
       "      <td>46.471605</td>\n",
       "      <td>8.364889</td>\n",
       "      <td>-1.232730</td>\n",
       "    </tr>\n",
       "    <tr>\n",
       "      <th>road_link_2</th>\n",
       "      <td>10530798</td>\n",
       "      <td>way</td>\n",
       "      <td>residential</td>\n",
       "      <td>30.0</td>\n",
       "      <td>1.0</td>\n",
       "      <td>Rue Saint-Ambroise</td>\n",
       "      <td>True</td>\n",
       "      <td>asphalt</td>\n",
       "      <td>no</td>\n",
       "      <td>road_node_24396</td>\n",
       "      <td>road_node_21124</td>\n",
       "      <td>LINESTRING (-73.57689 45.47829, -73.57693 45.4...</td>\n",
       "      <td>no no no no</td>\n",
       "      <td>27.685876</td>\n",
       "      <td>3.322305</td>\n",
       "      <td>0.000000</td>\n",
       "    </tr>\n",
       "    <tr>\n",
       "      <th>road_link_3</th>\n",
       "      <td>20411147</td>\n",
       "      <td>way</td>\n",
       "      <td>residential</td>\n",
       "      <td>40.0</td>\n",
       "      <td>2.0</td>\n",
       "      <td>Avenue Beverley</td>\n",
       "      <td>True</td>\n",
       "      <td>asphalt</td>\n",
       "      <td>no</td>\n",
       "      <td>road_node_1867</td>\n",
       "      <td>road_node_9413</td>\n",
       "      <td>LINESTRING (-73.64193 45.52234, -73.64158 45.5...</td>\n",
       "      <td>no no no no</td>\n",
       "      <td>69.016711</td>\n",
       "      <td>6.211504</td>\n",
       "      <td>0.000000</td>\n",
       "    </tr>\n",
       "    <tr>\n",
       "      <th>road_link_4</th>\n",
       "      <td>408865340</td>\n",
       "      <td>way</td>\n",
       "      <td>tertiary</td>\n",
       "      <td>40.0</td>\n",
       "      <td>2.0</td>\n",
       "      <td>Chemin Canora</td>\n",
       "      <td>True</td>\n",
       "      <td>asphalt</td>\n",
       "      <td>no</td>\n",
       "      <td>road_node_18193</td>\n",
       "      <td>road_node_18564</td>\n",
       "      <td>LINESTRING (-73.64970 45.51853, -73.65063 45.5...</td>\n",
       "      <td>no no no no</td>\n",
       "      <td>78.552479</td>\n",
       "      <td>7.069723</td>\n",
       "      <td>1.458475</td>\n",
       "    </tr>\n",
       "    <tr>\n",
       "      <th>...</th>\n",
       "      <td>...</td>\n",
       "      <td>...</td>\n",
       "      <td>...</td>\n",
       "      <td>...</td>\n",
       "      <td>...</td>\n",
       "      <td>...</td>\n",
       "      <td>...</td>\n",
       "      <td>...</td>\n",
       "      <td>...</td>\n",
       "      <td>...</td>\n",
       "      <td>...</td>\n",
       "      <td>...</td>\n",
       "      <td>...</td>\n",
       "      <td>...</td>\n",
       "      <td>...</td>\n",
       "      <td>...</td>\n",
       "    </tr>\n",
       "    <tr>\n",
       "      <th>road_link_97820</th>\n",
       "      <td>[1077987400, 1077987406]</td>\n",
       "      <td>way</td>\n",
       "      <td>secondary_link</td>\n",
       "      <td>50.0</td>\n",
       "      <td>2.0</td>\n",
       "      <td>NaN</td>\n",
       "      <td>True</td>\n",
       "      <td>asphalt</td>\n",
       "      <td>yes</td>\n",
       "      <td>road_node_12928</td>\n",
       "      <td>road_node_8471</td>\n",
       "      <td>LINESTRING (-73.59752 45.47296, -73.59759 45.4...</td>\n",
       "      <td>no no no yes</td>\n",
       "      <td>15.921584</td>\n",
       "      <td>1.146354</td>\n",
       "      <td>3.593902</td>\n",
       "    </tr>\n",
       "    <tr>\n",
       "      <th>road_link_97821</th>\n",
       "      <td>[205590924, 963708573, 1177247429, 963708572]</td>\n",
       "      <td>way</td>\n",
       "      <td>secondary_link</td>\n",
       "      <td>50.0</td>\n",
       "      <td>2.0</td>\n",
       "      <td>NaN</td>\n",
       "      <td>True</td>\n",
       "      <td>asphalt</td>\n",
       "      <td>no</td>\n",
       "      <td>road_node_18668</td>\n",
       "      <td>road_node_10175</td>\n",
       "      <td>LINESTRING (-73.62829 45.55079, -73.62834 45.5...</td>\n",
       "      <td>no no no no</td>\n",
       "      <td>47.595305</td>\n",
       "      <td>3.426862</td>\n",
       "      <td>-1.203634</td>\n",
       "    </tr>\n",
       "    <tr>\n",
       "      <th>road_link_97822</th>\n",
       "      <td>[471381659, 963708570, 963708571]</td>\n",
       "      <td>way</td>\n",
       "      <td>secondary_link</td>\n",
       "      <td>50.0</td>\n",
       "      <td>2.0</td>\n",
       "      <td>NaN</td>\n",
       "      <td>True</td>\n",
       "      <td>asphalt</td>\n",
       "      <td>no</td>\n",
       "      <td>road_node_21630</td>\n",
       "      <td>road_node_24809</td>\n",
       "      <td>LINESTRING (-73.62772 45.55162, -73.62762 45.5...</td>\n",
       "      <td>no no no no</td>\n",
       "      <td>45.170145</td>\n",
       "      <td>3.252250</td>\n",
       "      <td>0.000000</td>\n",
       "    </tr>\n",
       "    <tr>\n",
       "      <th>road_link_97823</th>\n",
       "      <td>[1077987398, 1077987400]</td>\n",
       "      <td>way</td>\n",
       "      <td>secondary_link</td>\n",
       "      <td>50.0</td>\n",
       "      <td>2.0</td>\n",
       "      <td>NaN</td>\n",
       "      <td>True</td>\n",
       "      <td>asphalt</td>\n",
       "      <td>yes</td>\n",
       "      <td>road_node_8471</td>\n",
       "      <td>road_node_27511</td>\n",
       "      <td>LINESTRING (-73.59768 45.47305, -73.59770 45.4...</td>\n",
       "      <td>no no no yes</td>\n",
       "      <td>61.416212</td>\n",
       "      <td>4.421967</td>\n",
       "      <td>3.726376</td>\n",
       "    </tr>\n",
       "    <tr>\n",
       "      <th>road_link_97824</th>\n",
       "      <td>[1174542375, 1174542374]</td>\n",
       "      <td>way</td>\n",
       "      <td>secondary_link</td>\n",
       "      <td>50.0</td>\n",
       "      <td>2.0</td>\n",
       "      <td>NaN</td>\n",
       "      <td>True</td>\n",
       "      <td>asphalt</td>\n",
       "      <td>yes</td>\n",
       "      <td>road_node_10642</td>\n",
       "      <td>road_node_19274</td>\n",
       "      <td>LINESTRING (-73.60340 45.62273, -73.60340 45.6...</td>\n",
       "      <td>no no no yes</td>\n",
       "      <td>61.937377</td>\n",
       "      <td>4.459491</td>\n",
       "      <td>0.924979</td>\n",
       "    </tr>\n",
       "  </tbody>\n",
       "</table>\n",
       "<p>97825 rows × 16 columns</p>\n",
       "</div>"
      ],
      "text/plain": [
       "                                                            id type  \\\n",
       "road_link_0                                            4320471  way   \n",
       "road_link_1                                            4320487  way   \n",
       "road_link_2                                           10530798  way   \n",
       "road_link_3                                           20411147  way   \n",
       "road_link_4                                          408865340  way   \n",
       "...                                                        ...  ...   \n",
       "road_link_97820                       [1077987400, 1077987406]  way   \n",
       "road_link_97821  [205590924, 963708573, 1177247429, 963708572]  way   \n",
       "road_link_97822              [471381659, 963708570, 963708571]  way   \n",
       "road_link_97823                       [1077987398, 1077987400]  way   \n",
       "road_link_97824                       [1174542375, 1174542374]  way   \n",
       "\n",
       "                        highway  speed  lanes                name  oneway  \\\n",
       "road_link_0         residential   30.0    1.0          Rue Mackay    True   \n",
       "road_link_1         residential   20.0    1.0  Rue Saint-Paul Est    True   \n",
       "road_link_2         residential   30.0    1.0  Rue Saint-Ambroise    True   \n",
       "road_link_3         residential   40.0    2.0     Avenue Beverley    True   \n",
       "road_link_4            tertiary   40.0    2.0       Chemin Canora    True   \n",
       "...                         ...    ...    ...                 ...     ...   \n",
       "road_link_97820  secondary_link   50.0    2.0                 NaN    True   \n",
       "road_link_97821  secondary_link   50.0    2.0                 NaN    True   \n",
       "road_link_97822  secondary_link   50.0    2.0                 NaN    True   \n",
       "road_link_97823  secondary_link   50.0    2.0                 NaN    True   \n",
       "road_link_97824  secondary_link   50.0    2.0                 NaN    True   \n",
       "\n",
       "                 surface cycleway                a                b  \\\n",
       "road_link_0      asphalt       no   road_node_8702   road_node_8772   \n",
       "road_link_1         sett       no   road_node_2893  road_node_21755   \n",
       "road_link_2      asphalt       no  road_node_24396  road_node_21124   \n",
       "road_link_3      asphalt       no   road_node_1867   road_node_9413   \n",
       "road_link_4      asphalt       no  road_node_18193  road_node_18564   \n",
       "...                  ...      ...              ...              ...   \n",
       "road_link_97820  asphalt      yes  road_node_12928   road_node_8471   \n",
       "road_link_97821  asphalt       no  road_node_18668  road_node_10175   \n",
       "road_link_97822  asphalt       no  road_node_21630  road_node_24809   \n",
       "road_link_97823  asphalt      yes   road_node_8471  road_node_27511   \n",
       "road_link_97824  asphalt      yes  road_node_10642  road_node_19274   \n",
       "\n",
       "                                                          geometry  \\\n",
       "road_link_0      LINESTRING (-73.57878 45.49667, -73.57870 45.4...   \n",
       "road_link_1      LINESTRING (-73.55198 45.50863, -73.55200 45.5...   \n",
       "road_link_2      LINESTRING (-73.57689 45.47829, -73.57693 45.4...   \n",
       "road_link_3      LINESTRING (-73.64193 45.52234, -73.64158 45.5...   \n",
       "road_link_4      LINESTRING (-73.64970 45.51853, -73.65063 45.5...   \n",
       "...                                                            ...   \n",
       "road_link_97820  LINESTRING (-73.59752 45.47296, -73.59759 45.4...   \n",
       "road_link_97821  LINESTRING (-73.62829 45.55079, -73.62834 45.5...   \n",
       "road_link_97822  LINESTRING (-73.62772 45.55162, -73.62762 45.5...   \n",
       "road_link_97823  LINESTRING (-73.59768 45.47305, -73.59770 45.4...   \n",
       "road_link_97824  LINESTRING (-73.60340 45.62273, -73.60340 45.6...   \n",
       "\n",
       "                combine_cycle_tag     length      time   incline  \n",
       "road_link_0           no no no no   7.838556  0.940627 -7.270209  \n",
       "road_link_1           no no no no  46.471605  8.364889 -1.232730  \n",
       "road_link_2           no no no no  27.685876  3.322305  0.000000  \n",
       "road_link_3           no no no no  69.016711  6.211504  0.000000  \n",
       "road_link_4           no no no no  78.552479  7.069723  1.458475  \n",
       "...                           ...        ...       ...       ...  \n",
       "road_link_97820      no no no yes  15.921584  1.146354  3.593902  \n",
       "road_link_97821       no no no no  47.595305  3.426862 -1.203634  \n",
       "road_link_97822       no no no no  45.170145  3.252250  0.000000  \n",
       "road_link_97823      no no no yes  61.416212  4.421967  3.726376  \n",
       "road_link_97824      no no no yes  61.937377  4.459491  0.924979  \n",
       "\n",
       "[97825 rows x 16 columns]"
      ]
     },
     "execution_count": 557,
     "metadata": {},
     "output_type": "execute_result"
    }
   ],
   "source": [
    "links"
   ]
  },
  {
   "cell_type": "code",
   "execution_count": null,
   "metadata": {},
   "outputs": [],
   "source": []
  },
  {
   "cell_type": "code",
   "execution_count": null,
   "metadata": {},
   "outputs": [],
   "source": []
  },
  {
   "cell_type": "code",
   "execution_count": null,
   "metadata": {},
   "outputs": [],
   "source": []
  },
  {
   "cell_type": "code",
   "execution_count": 314,
   "metadata": {},
   "outputs": [
    {
     "data": {
      "text/plain": [
       "\"\\nlinks = rename_bicycle_tags(links,'oneway:bicycle')\\n    links = rename_bicycle_tags(links,'cycleway:left:oneway')\\n    links = rename_bicycle_tags(links,'cycleway:right:oneway')\\n\\n    links['combine_oneway_tag'] = links['oneway:bicycle'] +'-'+                                     links['cycleway:left:oneway']+'-'+                                     links['cycleway:right:oneway'] \\n\""
      ]
     },
     "execution_count": 314,
     "metadata": {},
     "output_type": "execute_result"
    }
   ],
   "source": [
    "'''\n",
    "links = rename_bicycle_tags(links,'oneway:bicycle')\n",
    "    links = rename_bicycle_tags(links,'cycleway:left:oneway')\n",
    "    links = rename_bicycle_tags(links,'cycleway:right:oneway')\n",
    "\n",
    "    links['combine_oneway_tag'] = links['oneway:bicycle'] +'-'+ \\\n",
    "                                    links['cycleway:left:oneway']+'-'+ \\\n",
    "                                    links['cycleway:right:oneway'] \n",
    "'''"
   ]
  },
  {
   "cell_type": "code",
   "execution_count": null,
   "metadata": {},
   "outputs": [],
   "source": []
  },
  {
   "cell_type": "code",
   "execution_count": null,
   "metadata": {},
   "outputs": [],
   "source": []
  },
  {
   "cell_type": "code",
   "execution_count": null,
   "metadata": {},
   "outputs": [],
   "source": []
  },
  {
   "cell_type": "code",
   "execution_count": 541,
   "metadata": {},
   "outputs": [],
   "source": [
    "links = road.clean_oneway(links)"
   ]
  },
  {
   "cell_type": "code",
   "execution_count": 542,
   "metadata": {},
   "outputs": [],
   "source": [
    "links = road.clean_maxspeed(links)"
   ]
  },
  {
   "cell_type": "code",
   "execution_count": 543,
   "metadata": {},
   "outputs": [
    {
     "name": "stdout",
     "output_type": "stream",
     "text": [
      "764 links dropped\n"
     ]
    }
   ],
   "source": [
    "links = road.drop_duplicated_links(links)"
   ]
  },
  {
   "cell_type": "code",
   "execution_count": null,
   "metadata": {},
   "outputs": [],
   "source": []
  },
  {
   "cell_type": "code",
   "execution_count": 544,
   "metadata": {},
   "outputs": [
    {
     "name": "stdout",
     "output_type": "stream",
     "text": [
      "20985 deg 2 nodes\n",
      "find path with large cutoff for 1  origins\n",
      "find path with large cutoff for 1  origins\n",
      "find path with large cutoff for 1  origins\n",
      "find path with large cutoff for 2  origins\n",
      "0 links were not merge because the oneway field is not the same\n",
      "0 links were not merge because the highway field is not the same\n",
      "0 merged_links unmerged because the geometry became a multilinestring\n"
     ]
    },
    {
     "data": {
      "text/plain": [
       "55071"
      ]
     },
     "execution_count": 544,
     "metadata": {},
     "output_type": "execute_result"
    }
   ],
   "source": [
    "links = road.simplify(links,cutoff=10)\n",
    "len(links)"
   ]
  },
  {
   "cell_type": "code",
   "execution_count": 545,
   "metadata": {},
   "outputs": [
    {
     "data": {
      "text/plain": [
       "98782"
      ]
     },
     "execution_count": 545,
     "metadata": {},
     "output_type": "execute_result"
    }
   ],
   "source": [
    "links = road.split_oneway(links)\n",
    "len(links)"
   ]
  },
  {
   "cell_type": "code",
   "execution_count": null,
   "metadata": {},
   "outputs": [],
   "source": []
  },
  {
   "cell_type": "code",
   "execution_count": 546,
   "metadata": {},
   "outputs": [
    {
     "data": {
      "text/plain": [
       "97825"
      ]
     },
     "execution_count": 546,
     "metadata": {},
     "output_type": "execute_result"
    }
   ],
   "source": [
    "links = road.main_strongly_connected_component(links,None,False)\n",
    "len(links)"
   ]
  },
  {
   "cell_type": "code",
   "execution_count": 547,
   "metadata": {},
   "outputs": [
    {
     "name": "stderr",
     "output_type": "stream",
     "text": [
      "../road.py:24: RuntimeWarning: Mean of empty slice\n",
      "  return  function([new_type(val) for val in col_values])\n"
     ]
    }
   ],
   "source": [
    "links['maxspeed'] = links['maxspeed'].apply(lambda x: process_list_in_col(x,float,np.nanmean))\n",
    "links['lanes'] = links['lanes'].apply(lambda x: process_list_in_col(x,float,lambda x: np.floor(np.nanmean(x))))"
   ]
  },
  {
   "cell_type": "code",
   "execution_count": 548,
   "metadata": {},
   "outputs": [],
   "source": [
    "links['cycleway'] = links['cycleway'].apply(lambda x: process_list_in_col(x,str,lambda x: np.sort(x)[-1]))"
   ]
  },
  {
   "cell_type": "code",
   "execution_count": null,
   "metadata": {},
   "outputs": [],
   "source": []
  },
  {
   "cell_type": "code",
   "execution_count": 549,
   "metadata": {},
   "outputs": [],
   "source": [
    "for col in ['highway','name','surface']:\n",
    "    links[col] = links[col].apply(lambda x: remove_list_in_col(x,'first'))"
   ]
  },
  {
   "cell_type": "code",
   "execution_count": null,
   "metadata": {},
   "outputs": [],
   "source": []
  },
  {
   "cell_type": "code",
   "execution_count": 550,
   "metadata": {},
   "outputs": [],
   "source": [
    "links = fill_na_col(links,'highway','maxspeed',np.mean)\n",
    "links = fill_na_col(links,'highway','lanes',lambda x: np.floor(np.mean(x)))"
   ]
  },
  {
   "cell_type": "code",
   "execution_count": 551,
   "metadata": {},
   "outputs": [
    {
     "name": "stdout",
     "output_type": "stream",
     "text": [
      "Write Links and Nodes ...\n"
     ]
    }
   ],
   "source": [
    "\n",
    "# Add length\n",
    "print(\"Write Links and Nodes ...\")\n",
    "epsg = get_epsg(nodes.iloc[0]['geometry'].y, nodes.iloc[0]['geometry'].x)\n",
    "links['length'] = links.to_crs(epsg).length\n",
    "\n",
    "# Add Time\n",
    "links['time'] = links['length']/(links['maxspeed']*1000/3600)\n",
    "links = links.rename(columns = {'maxspeed' : 'speed'})\n",
    "\n",
    "# reindex and remove ununsed nodes\n",
    "links = links.reset_index(drop=True)\n",
    "links.index = 'road_link_'+links.index.astype(str)\n",
    "nodes_set = set(links['a']).union(set(links['b']))\n",
    "nodes = nodes.loc[list(nodes_set)].sort_index()"
   ]
  },
  {
   "cell_type": "code",
   "execution_count": 552,
   "metadata": {},
   "outputs": [
    {
     "name": "stdout",
     "output_type": "stream",
     "text": [
      "Adding elevation\n",
      "file save to /tmp\n"
     ]
    }
   ],
   "source": [
    "print('Adding elevation')\n",
    "el_dict = get_elevation_from_srtm(nodes)\n",
    "nodes['elevation'] = nodes.index.map(el_dict.get)\n",
    "# incline from node a to b in deg. neg if going down (if b is lower dans a)\n",
    "links['incline'] = calc_incline(links['a'].apply(lambda x: el_dict.get(x)).values,\n",
    "                            links['b'].apply(lambda x: el_dict.get(x)).values,\n",
    "                            links['length'].values)\n"
   ]
  },
  {
   "cell_type": "code",
   "execution_count": null,
   "metadata": {},
   "outputs": [],
   "source": []
  },
  {
   "cell_type": "code",
   "execution_count": null,
   "metadata": {},
   "outputs": [],
   "source": []
  },
  {
   "cell_type": "code",
   "execution_count": null,
   "metadata": {},
   "outputs": [],
   "source": []
  },
  {
   "cell_type": "code",
   "execution_count": null,
   "metadata": {},
   "outputs": [],
   "source": []
  },
  {
   "cell_type": "code",
   "execution_count": null,
   "metadata": {},
   "outputs": [],
   "source": []
  },
  {
   "cell_type": "code",
   "execution_count": 554,
   "metadata": {},
   "outputs": [
    {
     "ename": "ValueError",
     "evalue": "Invalid field type <class 'list'>",
     "output_type": "error",
     "traceback": [
      "\u001b[0;31m---------------------------------------------------------------------------\u001b[0m",
      "\u001b[0;31mValueError\u001b[0m                                Traceback (most recent call last)",
      "Cell \u001b[0;32mIn[554], line 1\u001b[0m\n\u001b[0;32m----> 1\u001b[0m \u001b[43mlinks\u001b[49m\u001b[38;5;241;43m.\u001b[39;49m\u001b[43mto_file\u001b[49m\u001b[43m(\u001b[49m\u001b[38;5;124;43m'\u001b[39;49m\u001b[38;5;124;43mroad_links.geojson\u001b[39;49m\u001b[38;5;124;43m'\u001b[39;49m\u001b[43m)\u001b[49m\n\u001b[1;32m      2\u001b[0m nodes\u001b[38;5;241m.\u001b[39mto_file(\u001b[38;5;124m'\u001b[39m\u001b[38;5;124mroad_nodes.geojson\u001b[39m\u001b[38;5;124m'\u001b[39m)\n",
      "File \u001b[0;32m~/.pyenv/versions/quetzal_env/lib/python3.8/site-packages/geopandas/geodataframe.py:1203\u001b[0m, in \u001b[0;36mGeoDataFrame.to_file\u001b[0;34m(self, filename, driver, schema, index, **kwargs)\u001b[0m\n\u001b[1;32m   1120\u001b[0m \u001b[38;5;250m\u001b[39m\u001b[38;5;124;03m\"\"\"Write the ``GeoDataFrame`` to a file.\u001b[39;00m\n\u001b[1;32m   1121\u001b[0m \n\u001b[1;32m   1122\u001b[0m \u001b[38;5;124;03mBy default, an ESRI shapefile is written, but any OGR data source\u001b[39;00m\n\u001b[0;32m   (...)\u001b[0m\n\u001b[1;32m   1199\u001b[0m \u001b[38;5;124;03m>>> gdf.to_file('dataframe.shp', mode=\"a\")  # doctest: +SKIP\u001b[39;00m\n\u001b[1;32m   1200\u001b[0m \u001b[38;5;124;03m\"\"\"\u001b[39;00m\n\u001b[1;32m   1201\u001b[0m \u001b[38;5;28;01mfrom\u001b[39;00m \u001b[38;5;21;01mgeopandas\u001b[39;00m\u001b[38;5;21;01m.\u001b[39;00m\u001b[38;5;21;01mio\u001b[39;00m\u001b[38;5;21;01m.\u001b[39;00m\u001b[38;5;21;01mfile\u001b[39;00m \u001b[38;5;28;01mimport\u001b[39;00m _to_file\n\u001b[0;32m-> 1203\u001b[0m \u001b[43m_to_file\u001b[49m\u001b[43m(\u001b[49m\u001b[38;5;28;43mself\u001b[39;49m\u001b[43m,\u001b[49m\u001b[43m \u001b[49m\u001b[43mfilename\u001b[49m\u001b[43m,\u001b[49m\u001b[43m \u001b[49m\u001b[43mdriver\u001b[49m\u001b[43m,\u001b[49m\u001b[43m \u001b[49m\u001b[43mschema\u001b[49m\u001b[43m,\u001b[49m\u001b[43m \u001b[49m\u001b[43mindex\u001b[49m\u001b[43m,\u001b[49m\u001b[43m \u001b[49m\u001b[38;5;241;43m*\u001b[39;49m\u001b[38;5;241;43m*\u001b[39;49m\u001b[43mkwargs\u001b[49m\u001b[43m)\u001b[49m\n",
      "File \u001b[0;32m~/.pyenv/versions/quetzal_env/lib/python3.8/site-packages/geopandas/io/file.py:545\u001b[0m, in \u001b[0;36m_to_file\u001b[0;34m(df, filename, driver, schema, index, mode, crs, engine, **kwargs)\u001b[0m\n\u001b[1;32m    538\u001b[0m     warnings\u001b[38;5;241m.\u001b[39mwarn(\n\u001b[1;32m    539\u001b[0m         \u001b[38;5;124m\"\u001b[39m\u001b[38;5;124mColumn names longer than 10 characters will be truncated when saved to \u001b[39m\u001b[38;5;124m\"\u001b[39m\n\u001b[1;32m    540\u001b[0m         \u001b[38;5;124m\"\u001b[39m\u001b[38;5;124mESRI Shapefile.\u001b[39m\u001b[38;5;124m\"\u001b[39m,\n\u001b[1;32m    541\u001b[0m         stacklevel\u001b[38;5;241m=\u001b[39m\u001b[38;5;241m3\u001b[39m,\n\u001b[1;32m    542\u001b[0m     )\n\u001b[1;32m    544\u001b[0m \u001b[38;5;28;01mif\u001b[39;00m engine \u001b[38;5;241m==\u001b[39m \u001b[38;5;124m\"\u001b[39m\u001b[38;5;124mfiona\u001b[39m\u001b[38;5;124m\"\u001b[39m:\n\u001b[0;32m--> 545\u001b[0m     \u001b[43m_to_file_fiona\u001b[49m\u001b[43m(\u001b[49m\u001b[43mdf\u001b[49m\u001b[43m,\u001b[49m\u001b[43m \u001b[49m\u001b[43mfilename\u001b[49m\u001b[43m,\u001b[49m\u001b[43m \u001b[49m\u001b[43mdriver\u001b[49m\u001b[43m,\u001b[49m\u001b[43m \u001b[49m\u001b[43mschema\u001b[49m\u001b[43m,\u001b[49m\u001b[43m \u001b[49m\u001b[43mcrs\u001b[49m\u001b[43m,\u001b[49m\u001b[43m \u001b[49m\u001b[43mmode\u001b[49m\u001b[43m,\u001b[49m\u001b[43m \u001b[49m\u001b[38;5;241;43m*\u001b[39;49m\u001b[38;5;241;43m*\u001b[39;49m\u001b[43mkwargs\u001b[49m\u001b[43m)\u001b[49m\n\u001b[1;32m    546\u001b[0m \u001b[38;5;28;01melif\u001b[39;00m engine \u001b[38;5;241m==\u001b[39m \u001b[38;5;124m\"\u001b[39m\u001b[38;5;124mpyogrio\u001b[39m\u001b[38;5;124m\"\u001b[39m:\n\u001b[1;32m    547\u001b[0m     _to_file_pyogrio(df, filename, driver, schema, crs, mode, \u001b[38;5;241m*\u001b[39m\u001b[38;5;241m*\u001b[39mkwargs)\n",
      "File \u001b[0;32m~/.pyenv/versions/quetzal_env/lib/python3.8/site-packages/geopandas/io/file.py:575\u001b[0m, in \u001b[0;36m_to_file_fiona\u001b[0;34m(df, filename, driver, schema, crs, mode, **kwargs)\u001b[0m\n\u001b[1;32m    571\u001b[0m     crs_wkt \u001b[38;5;241m=\u001b[39m crs\u001b[38;5;241m.\u001b[39mto_wkt(\u001b[38;5;124m\"\u001b[39m\u001b[38;5;124mWKT1_GDAL\u001b[39m\u001b[38;5;124m\"\u001b[39m)\n\u001b[1;32m    572\u001b[0m \u001b[38;5;28;01mwith\u001b[39;00m fiona\u001b[38;5;241m.\u001b[39mopen(\n\u001b[1;32m    573\u001b[0m     filename, mode\u001b[38;5;241m=\u001b[39mmode, driver\u001b[38;5;241m=\u001b[39mdriver, crs_wkt\u001b[38;5;241m=\u001b[39mcrs_wkt, schema\u001b[38;5;241m=\u001b[39mschema, \u001b[38;5;241m*\u001b[39m\u001b[38;5;241m*\u001b[39mkwargs\n\u001b[1;32m    574\u001b[0m ) \u001b[38;5;28;01mas\u001b[39;00m colxn:\n\u001b[0;32m--> 575\u001b[0m     \u001b[43mcolxn\u001b[49m\u001b[38;5;241;43m.\u001b[39;49m\u001b[43mwriterecords\u001b[49m\u001b[43m(\u001b[49m\u001b[43mdf\u001b[49m\u001b[38;5;241;43m.\u001b[39;49m\u001b[43miterfeatures\u001b[49m\u001b[43m(\u001b[49m\u001b[43m)\u001b[49m\u001b[43m)\u001b[49m\n",
      "File \u001b[0;32m~/.pyenv/versions/quetzal_env/lib/python3.8/site-packages/fiona/collection.py:549\u001b[0m, in \u001b[0;36mCollection.writerecords\u001b[0;34m(self, records)\u001b[0m\n\u001b[1;32m    547\u001b[0m \u001b[38;5;28;01mif\u001b[39;00m \u001b[38;5;28mself\u001b[39m\u001b[38;5;241m.\u001b[39mmode \u001b[38;5;129;01mnot\u001b[39;00m \u001b[38;5;129;01min\u001b[39;00m (\u001b[38;5;124m\"\u001b[39m\u001b[38;5;124ma\u001b[39m\u001b[38;5;124m\"\u001b[39m, \u001b[38;5;124m\"\u001b[39m\u001b[38;5;124mw\u001b[39m\u001b[38;5;124m\"\u001b[39m):\n\u001b[1;32m    548\u001b[0m     \u001b[38;5;28;01mraise\u001b[39;00m \u001b[38;5;167;01mOSError\u001b[39;00m(\u001b[38;5;124m\"\u001b[39m\u001b[38;5;124mcollection not open for writing\u001b[39m\u001b[38;5;124m\"\u001b[39m)\n\u001b[0;32m--> 549\u001b[0m \u001b[38;5;28;43mself\u001b[39;49m\u001b[38;5;241;43m.\u001b[39;49m\u001b[43msession\u001b[49m\u001b[38;5;241;43m.\u001b[39;49m\u001b[43mwriterecs\u001b[49m\u001b[43m(\u001b[49m\u001b[43mrecords\u001b[49m\u001b[43m,\u001b[49m\u001b[43m \u001b[49m\u001b[38;5;28;43mself\u001b[39;49m\u001b[43m)\u001b[49m\n\u001b[1;32m    550\u001b[0m \u001b[38;5;28mself\u001b[39m\u001b[38;5;241m.\u001b[39m_len \u001b[38;5;241m=\u001b[39m \u001b[38;5;28mself\u001b[39m\u001b[38;5;241m.\u001b[39msession\u001b[38;5;241m.\u001b[39mget_length()\n\u001b[1;32m    551\u001b[0m \u001b[38;5;28mself\u001b[39m\u001b[38;5;241m.\u001b[39m_bounds \u001b[38;5;241m=\u001b[39m \u001b[38;5;28;01mNone\u001b[39;00m\n",
      "File \u001b[0;32mfiona/ogrext.pyx:1408\u001b[0m, in \u001b[0;36mfiona.ogrext.WritingSession.writerecs\u001b[0;34m()\u001b[0m\n",
      "File \u001b[0;32mfiona/ogrext.pyx:513\u001b[0m, in \u001b[0;36mfiona.ogrext.OGRFeatureBuilder.build\u001b[0;34m()\u001b[0m\n",
      "\u001b[0;31mValueError\u001b[0m: Invalid field type <class 'list'>"
     ]
    }
   ],
   "source": [
    "links.to_file('road_links.geojson')\n",
    "nodes.to_file('road_nodes.geojson')"
   ]
  },
  {
   "cell_type": "code",
   "execution_count": 16,
   "metadata": {
    "scrolled": true
   },
   "outputs": [],
   "source": [
    "from road import *\n",
    "from bike import *\n",
    "from elevation import *"
   ]
  },
  {
   "cell_type": "code",
   "execution_count": 19,
   "metadata": {},
   "outputs": [
    {
     "name": "stdout",
     "output_type": "stream",
     "text": [
      "['no', 'yes', 'shared']\n",
      "['no', 'yes', 'shared']\n",
      "['no', 'yes', 'shared']\n",
      "['no', 'yes', 'shared']\n",
      "182 links dropped\n",
      "18297 deg 2 nodes\n",
      "find path with large cutoff for 2  origins\n",
      "find path with large cutoff for 1  origins\n",
      "find path with large cutoff for 1  origins\n",
      "find path with large cutoff for 2  origins\n",
      "find path with large cutoff for 6  origins\n",
      "0 links were not merge because the oneway field is not the same\n",
      "0 links were not merge because the highway field is not the same\n",
      "0 merged_links unmerged because the geometry became a multilinestring\n",
      "removing list in columns ...\n"
     ]
    },
    {
     "name": "stderr",
     "output_type": "stream",
     "text": [
      "../road.py:24: RuntimeWarning: Mean of empty slice\n",
      "  return  function([new_type(val) for val in col_values])\n"
     ]
    },
    {
     "name": "stdout",
     "output_type": "stream",
     "text": [
      "Write Links and Nodes ...\n"
     ]
    }
   ],
   "source": [
    "links, nodes = get_links_and_nodes('way.geojson', split_direction=False)\n",
    "nodes = nodes.set_crs(links.crs)\n",
    "links = test_bicycle_process(links,cycleway_columns,highway_list)\n",
    "links = clean_oneway(links)\n",
    "links = clean_maxspeed(links)\n",
    "links = drop_duplicated_links(links, sort_column='maxspeed')\n",
    "links = simplify(links)\n",
    "links = split_oneway(links)\n",
    "links = main_strongly_connected_component(links,None,False)\n",
    "\n",
    "print('removing list in columns ...')\n",
    "links['maxspeed'] = links['maxspeed'].apply(lambda x: process_list_in_col(x,float,np.nanmean))\n",
    "links['lanes'] = links['lanes'].apply(lambda x: process_list_in_col(x,float,lambda x: np.floor(np.nanmean(x))))\n",
    "if 'cycleway' in links.columns:\n",
    "    links['cycleway'] = links['cycleway'].apply(lambda x: process_list_in_col(x,str,lambda x: np.sort(x)[-1]))\n",
    "for col in ['id', 'type', 'highway','name','surface']:\n",
    "    links[col] = links[col].apply(lambda x: remove_list_in_col(x,'first'))\n",
    "\n",
    "\n",
    "# Fill NaN with mean values by highway\n",
    "links = fill_na_col(links, 'highway', 'maxspeed', np.mean)\n",
    "links = fill_na_col(links, 'highway', 'lanes', lambda x: np.floor(np.mean(x)))\n",
    "\n",
    "# Add length\n",
    "print(\"Write Links and Nodes ...\")\n",
    "epsg = get_epsg(nodes.iloc[0]['geometry'].y, nodes.iloc[0]['geometry'].x)\n",
    "links['length'] = links.to_crs(epsg).length\n",
    "\n",
    "# Add Time\n",
    "links['time'] = links['length']/(links['maxspeed']*1000/3600)\n",
    "links = links.rename(columns = {'maxspeed' : 'speed'})\n",
    "\n",
    "# reindex and remove ununsed nodes\n",
    "links = links.reset_index(drop=True)\n",
    "links.index = 'road_link_'+links.index.astype(str)\n",
    "nodes_set = set(links['a']).union(set(links['b']))\n",
    "nodes = nodes.loc[list(nodes_set)].sort_index()\n"
   ]
  },
  {
   "cell_type": "code",
   "execution_count": null,
   "metadata": {},
   "outputs": [],
   "source": []
  },
  {
   "cell_type": "code",
   "execution_count": 20,
   "metadata": {},
   "outputs": [
    {
     "name": "stdout",
     "output_type": "stream",
     "text": [
      "Adding elevation\n",
      "file save to /tmp\n"
     ]
    }
   ],
   "source": [
    "print('Adding elevation')\n",
    "el_dict = get_elevation_from_srtm(nodes)\n",
    "nodes['elevation'] = nodes.index.map(el_dict.get)\n",
    "# incline from node a to b in deg. neg if going down (if b is lower dans a)\n",
    "links['incline'] = calc_incline(links['a'].apply(lambda x: el_dict.get(x)).values,\n",
    "                            links['b'].apply(lambda x: el_dict.get(x)).values,\n",
    "                            links['length'].values)"
   ]
  },
  {
   "cell_type": "code",
   "execution_count": 26,
   "metadata": {},
   "outputs": [],
   "source": [
    "links.to_file('road_links.geojson')\n",
    "nodes.to_file('road_nodes.geojson')"
   ]
  },
  {
   "cell_type": "code",
   "execution_count": 25,
   "metadata": {},
   "outputs": [],
   "source": [
    "links = links.drop(columns='combine_cycle_tag')"
   ]
  },
  {
   "cell_type": "code",
   "execution_count": null,
   "metadata": {},
   "outputs": [],
   "source": []
  },
  {
   "cell_type": "code",
   "execution_count": null,
   "metadata": {},
   "outputs": [],
   "source": []
  }
 ],
 "metadata": {
  "kernelspec": {
   "display_name": "quetzal_env",
   "language": "python",
   "name": "quetzal_env"
  },
  "language_info": {
   "codemirror_mode": {
    "name": "ipython",
    "version": 3
   },
   "file_extension": ".py",
   "mimetype": "text/x-python",
   "name": "python",
   "nbconvert_exporter": "python",
   "pygments_lexer": "ipython3",
   "version": "3.8.6"
  }
 },
 "nbformat": 4,
 "nbformat_minor": 2
}
