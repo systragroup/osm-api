{
 "cells": [
  {
   "cell_type": "code",
   "execution_count": 27,
   "metadata": {},
   "outputs": [],
   "source": [
    "import numpy as np\n",
    "import pandas as pd\n",
    "import geopandas as gpd\n",
    "import requests\n",
    "from shapely.geometry import LineString\n",
    "import sys\n",
    "\n",
    "sys.path.append('../')\n",
    "import road\n",
    "from overpass import fetch_overpass, get_overpass_query\n",
    "from elevation import get_elevation_from_srtm, calc_incline\n",
    "from typing import *"
   ]
  },
  {
   "cell_type": "code",
   "execution_count": 28,
   "metadata": {},
   "outputs": [],
   "source": [
    "\n",
    "columns = ['highway', 'maxspeed', 'lanes', 'name', 'oneway', 'surface']\n",
    "highway_list = [\"motorway\", \"motorway_link\", \"trunk\", \"trunk_link\", \"primary\", \"primary_link\", \n",
    "                  \"secondary\", \"secondary_link\", \"tertiary\", \"tertiary_link\", \"residential\",\"cycleway\"]\n",
    "cycleway_list = None\n",
    "cycleway_columns = ['cycleway:both', 'cycleway:left','cycleway:right']\n",
    "if \"cycleway\" in highway_list:\n",
    "    cycleway_list = [\"lane\", \"opposite\", \"opposite_lane\", \"track\", \"opposite_track\", \n",
    "                     \"share_busway\", \"opposite_share_busway\", \"shared_lane\",]\n",
    "    columns += cycleway_columns\n",
    "    columns += ['cycleway']\n",
    "    \n",
    "    #'oneway:bicycle','cycleway:left:oneway','cycleway:right:oneway',"
   ]
  },
  {
   "cell_type": "code",
   "execution_count": 29,
   "metadata": {},
   "outputs": [
    {
     "data": {
      "text/plain": [
       "['highway',\n",
       " 'maxspeed',\n",
       " 'lanes',\n",
       " 'name',\n",
       " 'oneway',\n",
       " 'surface',\n",
       " 'cycleway:both',\n",
       " 'cycleway:left',\n",
       " 'cycleway:right',\n",
       " 'cycleway']"
      ]
     },
     "execution_count": 29,
     "metadata": {},
     "output_type": "execute_result"
    }
   ],
   "source": [
    "columns"
   ]
  },
  {
   "cell_type": "code",
   "execution_count": 30,
   "metadata": {},
   "outputs": [],
   "source": [
    "bbox = [45.516012863655845,-73.61165474010419,45.54058887207495,-73.56153948806578]\n",
    "bbox = [45.45, -73.6492855702676, 45.644709880535515, -73.44752816469271]\n",
    "bbox = (*bbox,)"
   ]
  },
  {
   "cell_type": "code",
   "execution_count": 31,
   "metadata": {},
   "outputs": [],
   "source": [
    "overpass_query = get_overpass_query(bbox,highway_list,cycleway_list)"
   ]
  },
  {
   "cell_type": "code",
   "execution_count": 32,
   "metadata": {},
   "outputs": [
    {
     "name": "stdout",
     "output_type": "stream",
     "text": [
      "OVERPASS Request ...\n",
      "Convert to GeoPandas ...\n"
     ]
    },
    {
     "name": "stderr",
     "output_type": "stream",
     "text": [
      "/home/boivin/.pyenv/versions/quetzal_env/lib/python3.8/site-packages/pandas/core/dtypes/cast.py:127: ShapelyDeprecationWarning: The array interface is deprecated and will no longer work in Shapely 2.0. Convert the '.coords' to a numpy array instead.\n",
      "  arr = construct_1d_object_array_from_listlike(values)\n"
     ]
    },
    {
     "name": "stdout",
     "output_type": "stream",
     "text": [
      "Write (way.geojson) ...\n"
     ]
    }
   ],
   "source": [
    "fetch_overpass(overpass_query,columns,'')"
   ]
  },
  {
   "cell_type": "code",
   "execution_count": 33,
   "metadata": {},
   "outputs": [],
   "source": [
    "links, nodes = road.get_links_and_nodes('way.geojson', split_direction=True)\n",
    "nodes = nodes.set_crs(links.crs)"
   ]
  },
  {
   "cell_type": "code",
   "execution_count": null,
   "metadata": {},
   "outputs": [],
   "source": []
  },
  {
   "cell_type": "code",
   "execution_count": 34,
   "metadata": {},
   "outputs": [
    {
     "name": "stdout",
     "output_type": "stream",
     "text": [
      "['no', 'yes', 'shared']\n",
      "['no', 'yes', 'shared']\n",
      "['no', 'yes', 'shared']\n",
      "['no', 'yes', 'shared']\n"
     ]
    }
   ],
   "source": [
    "links = rename_bicycle_tags(links,'cycleway')\n",
    "links = rename_bicycle_tags(links,'cycleway:both')\n",
    "links = rename_bicycle_tags(links,'cycleway:left')\n",
    "links = rename_bicycle_tags(links,'cycleway:right')\n",
    "\n",
    "\n",
    "links['combine_cycle_tag'] = links['cycleway'] +' '+ \\\n",
    "                                links['cycleway:both'] +' '+ \\\n",
    "                                links['cycleway:left'] +' '+ \\\n",
    "                                links['cycleway:right'] \n",
    "\n",
    "\n",
    "# simple method. everything with a tag highway is an highway both side. using the road oneway.\n",
    "bike_dict={}\n",
    "for string in links['combine_cycle_tag'].unique():\n",
    "    val = string.split(' ')\n",
    "    if val[0]=='yes':\n",
    "        bike_dict[string]='yes'\n",
    "    elif val[0] == 'shared':\n",
    "        bike_dict[string]='shared'\n",
    "    elif 'yes' in val[1:]:\n",
    "        bike_dict[string]='yes'\n",
    "    elif  'share' in val[1:]:\n",
    "        bike_dict[string]='share'\n",
    "    else :\n",
    "        bike_dict[string]='no'\n",
    "links['cycleway'] = links['combine_cycle_tag'].apply(lambda x: bike_dict.get(x))\n",
    "links.loc[links['highway']=='cycleway','cycleway'] = 'yes'"
   ]
  },
  {
   "cell_type": "code",
   "execution_count": null,
   "metadata": {},
   "outputs": [],
   "source": []
  },
  {
   "cell_type": "code",
   "execution_count": null,
   "metadata": {},
   "outputs": [],
   "source": []
  },
  {
   "cell_type": "code",
   "execution_count": 35,
   "metadata": {},
   "outputs": [],
   "source": [
    "#links.to_file('b_links.geojson',drivers='GeoJSON')\n",
    "#nodes.to_file('b_nodes.geojson',drivers='GeoJSON')"
   ]
  },
  {
   "cell_type": "code",
   "execution_count": 36,
   "metadata": {},
   "outputs": [],
   "source": [
    "links = links.drop(columns = cycleway_columns)\n",
    "#remove highway not asked for. (because of cycleway)\n",
    "links = links[links['highway'].isin(highway_list)]"
   ]
  },
  {
   "cell_type": "code",
   "execution_count": 37,
   "metadata": {},
   "outputs": [
    {
     "data": {
      "text/html": [
       "<div>\n",
       "<style scoped>\n",
       "    .dataframe tbody tr th:only-of-type {\n",
       "        vertical-align: middle;\n",
       "    }\n",
       "\n",
       "    .dataframe tbody tr th {\n",
       "        vertical-align: top;\n",
       "    }\n",
       "\n",
       "    .dataframe thead th {\n",
       "        text-align: right;\n",
       "    }\n",
       "</style>\n",
       "<table border=\"1\" class=\"dataframe\">\n",
       "  <thead>\n",
       "    <tr style=\"text-align: right;\">\n",
       "      <th></th>\n",
       "      <th>id</th>\n",
       "      <th>type</th>\n",
       "      <th>highway</th>\n",
       "      <th>maxspeed</th>\n",
       "      <th>lanes</th>\n",
       "      <th>name</th>\n",
       "      <th>oneway</th>\n",
       "      <th>surface</th>\n",
       "      <th>cycleway</th>\n",
       "      <th>a</th>\n",
       "      <th>b</th>\n",
       "      <th>geometry</th>\n",
       "      <th>combine_cycle_tag</th>\n",
       "    </tr>\n",
       "  </thead>\n",
       "  <tbody>\n",
       "    <tr>\n",
       "      <th>road_link_0</th>\n",
       "      <td>4320462</td>\n",
       "      <td>way</td>\n",
       "      <td>trunk</td>\n",
       "      <td>70</td>\n",
       "      <td>4</td>\n",
       "      <td>Autoroute Ville-Marie</td>\n",
       "      <td>yes</td>\n",
       "      <td>asphalt</td>\n",
       "      <td>no</td>\n",
       "      <td>road_node_12069</td>\n",
       "      <td>road_node_15880</td>\n",
       "      <td>LINESTRING (-73.55832 45.50704, -73.55806 45.5...</td>\n",
       "      <td>no no no no</td>\n",
       "    </tr>\n",
       "    <tr>\n",
       "      <th>road_link_1</th>\n",
       "      <td>4320471</td>\n",
       "      <td>way</td>\n",
       "      <td>residential</td>\n",
       "      <td>30</td>\n",
       "      <td>1</td>\n",
       "      <td>Rue Mackay</td>\n",
       "      <td>yes</td>\n",
       "      <td>asphalt</td>\n",
       "      <td>no</td>\n",
       "      <td>road_node_8703</td>\n",
       "      <td>road_node_8773</td>\n",
       "      <td>LINESTRING (-73.57878 45.49667, -73.57870 45.4...</td>\n",
       "      <td>no no no no</td>\n",
       "    </tr>\n",
       "    <tr>\n",
       "      <th>road_link_2</th>\n",
       "      <td>4320471</td>\n",
       "      <td>way</td>\n",
       "      <td>residential</td>\n",
       "      <td>30</td>\n",
       "      <td>1</td>\n",
       "      <td>Rue Mackay</td>\n",
       "      <td>yes</td>\n",
       "      <td>asphalt</td>\n",
       "      <td>no</td>\n",
       "      <td>road_node_8773</td>\n",
       "      <td>road_node_11517</td>\n",
       "      <td>LINESTRING (-73.57870 45.49663, -73.57867 45.4...</td>\n",
       "      <td>no no no no</td>\n",
       "    </tr>\n",
       "    <tr>\n",
       "      <th>road_link_3</th>\n",
       "      <td>4320471</td>\n",
       "      <td>way</td>\n",
       "      <td>residential</td>\n",
       "      <td>30</td>\n",
       "      <td>1</td>\n",
       "      <td>Rue Mackay</td>\n",
       "      <td>yes</td>\n",
       "      <td>asphalt</td>\n",
       "      <td>no</td>\n",
       "      <td>road_node_11517</td>\n",
       "      <td>road_node_10816</td>\n",
       "      <td>LINESTRING (-73.57705 45.49584, -73.57696 45.4...</td>\n",
       "      <td>no no no no</td>\n",
       "    </tr>\n",
       "    <tr>\n",
       "      <th>road_link_4</th>\n",
       "      <td>4320473</td>\n",
       "      <td>way</td>\n",
       "      <td>tertiary</td>\n",
       "      <td>40</td>\n",
       "      <td>1</td>\n",
       "      <td>Rue du Fort</td>\n",
       "      <td>yes</td>\n",
       "      <td>asphalt</td>\n",
       "      <td>no</td>\n",
       "      <td>road_node_15803</td>\n",
       "      <td>road_node_7237</td>\n",
       "      <td>LINESTRING (-73.58373 45.49316, -73.58366 45.4...</td>\n",
       "      <td>no no no no</td>\n",
       "    </tr>\n",
       "    <tr>\n",
       "      <th>...</th>\n",
       "      <td>...</td>\n",
       "      <td>...</td>\n",
       "      <td>...</td>\n",
       "      <td>...</td>\n",
       "      <td>...</td>\n",
       "      <td>...</td>\n",
       "      <td>...</td>\n",
       "      <td>...</td>\n",
       "      <td>...</td>\n",
       "      <td>...</td>\n",
       "      <td>...</td>\n",
       "      <td>...</td>\n",
       "      <td>...</td>\n",
       "    </tr>\n",
       "    <tr>\n",
       "      <th>road_link_60383</th>\n",
       "      <td>1190379610</td>\n",
       "      <td>way</td>\n",
       "      <td>cycleway</td>\n",
       "      <td>NaN</td>\n",
       "      <td>NaN</td>\n",
       "      <td>longueuil ouest-est</td>\n",
       "      <td>False</td>\n",
       "      <td>asphalt</td>\n",
       "      <td>yes</td>\n",
       "      <td>road_node_25064</td>\n",
       "      <td>road_node_1453</td>\n",
       "      <td>LINESTRING (-73.49686 45.54346, -73.49682 45.5...</td>\n",
       "      <td>yes no no no</td>\n",
       "    </tr>\n",
       "    <tr>\n",
       "      <th>road_link_60384</th>\n",
       "      <td>1190379611</td>\n",
       "      <td>way</td>\n",
       "      <td>cycleway</td>\n",
       "      <td>NaN</td>\n",
       "      <td>NaN</td>\n",
       "      <td>longueuil ouest-est</td>\n",
       "      <td>no</td>\n",
       "      <td>asphalt</td>\n",
       "      <td>yes</td>\n",
       "      <td>road_node_11932</td>\n",
       "      <td>road_node_2695</td>\n",
       "      <td>LINESTRING (-73.49482 45.54554, -73.49421 45.5...</td>\n",
       "      <td>no no no no</td>\n",
       "    </tr>\n",
       "    <tr>\n",
       "      <th>road_link_60385</th>\n",
       "      <td>1190379612</td>\n",
       "      <td>way</td>\n",
       "      <td>cycleway</td>\n",
       "      <td>NaN</td>\n",
       "      <td>NaN</td>\n",
       "      <td>longueuil ouest-est</td>\n",
       "      <td>False</td>\n",
       "      <td>asphalt</td>\n",
       "      <td>yes</td>\n",
       "      <td>road_node_12367</td>\n",
       "      <td>road_node_9599</td>\n",
       "      <td>LINESTRING (-73.49495 45.54544, -73.49489 45.5...</td>\n",
       "      <td>yes no no no</td>\n",
       "    </tr>\n",
       "    <tr>\n",
       "      <th>road_link_60386</th>\n",
       "      <td>1190424273</td>\n",
       "      <td>way</td>\n",
       "      <td>motorway</td>\n",
       "      <td>50</td>\n",
       "      <td>3</td>\n",
       "      <td>Autoroute Bonaventure</td>\n",
       "      <td>yes</td>\n",
       "      <td>asphalt</td>\n",
       "      <td>no</td>\n",
       "      <td>road_node_26760</td>\n",
       "      <td>road_node_10259</td>\n",
       "      <td>LINESTRING (-73.55579 45.49568, -73.55565 45.4...</td>\n",
       "      <td>no no no no</td>\n",
       "    </tr>\n",
       "    <tr>\n",
       "      <th>road_link_60387</th>\n",
       "      <td>1190424274</td>\n",
       "      <td>way</td>\n",
       "      <td>motorway</td>\n",
       "      <td>70</td>\n",
       "      <td>3</td>\n",
       "      <td>Autoroute Bonaventure</td>\n",
       "      <td>yes</td>\n",
       "      <td>NaN</td>\n",
       "      <td>no</td>\n",
       "      <td>road_node_5759</td>\n",
       "      <td>road_node_23806</td>\n",
       "      <td>LINESTRING (-73.55442 45.49496, -73.55456 45.4...</td>\n",
       "      <td>no no no no</td>\n",
       "    </tr>\n",
       "  </tbody>\n",
       "</table>\n",
       "<p>60356 rows × 13 columns</p>\n",
       "</div>"
      ],
      "text/plain": [
       "                         id type      highway maxspeed lanes  \\\n",
       "road_link_0         4320462  way        trunk       70     4   \n",
       "road_link_1         4320471  way  residential       30     1   \n",
       "road_link_2         4320471  way  residential       30     1   \n",
       "road_link_3         4320471  way  residential       30     1   \n",
       "road_link_4         4320473  way     tertiary       40     1   \n",
       "...                     ...  ...          ...      ...   ...   \n",
       "road_link_60383  1190379610  way     cycleway      NaN   NaN   \n",
       "road_link_60384  1190379611  way     cycleway      NaN   NaN   \n",
       "road_link_60385  1190379612  way     cycleway      NaN   NaN   \n",
       "road_link_60386  1190424273  way     motorway       50     3   \n",
       "road_link_60387  1190424274  way     motorway       70     3   \n",
       "\n",
       "                                  name oneway  surface cycleway  \\\n",
       "road_link_0      Autoroute Ville-Marie    yes  asphalt       no   \n",
       "road_link_1                 Rue Mackay    yes  asphalt       no   \n",
       "road_link_2                 Rue Mackay    yes  asphalt       no   \n",
       "road_link_3                 Rue Mackay    yes  asphalt       no   \n",
       "road_link_4                Rue du Fort    yes  asphalt       no   \n",
       "...                                ...    ...      ...      ...   \n",
       "road_link_60383    longueuil ouest-est  False  asphalt      yes   \n",
       "road_link_60384    longueuil ouest-est     no  asphalt      yes   \n",
       "road_link_60385    longueuil ouest-est  False  asphalt      yes   \n",
       "road_link_60386  Autoroute Bonaventure    yes  asphalt       no   \n",
       "road_link_60387  Autoroute Bonaventure    yes      NaN       no   \n",
       "\n",
       "                               a                b  \\\n",
       "road_link_0      road_node_12069  road_node_15880   \n",
       "road_link_1       road_node_8703   road_node_8773   \n",
       "road_link_2       road_node_8773  road_node_11517   \n",
       "road_link_3      road_node_11517  road_node_10816   \n",
       "road_link_4      road_node_15803   road_node_7237   \n",
       "...                          ...              ...   \n",
       "road_link_60383  road_node_25064   road_node_1453   \n",
       "road_link_60384  road_node_11932   road_node_2695   \n",
       "road_link_60385  road_node_12367   road_node_9599   \n",
       "road_link_60386  road_node_26760  road_node_10259   \n",
       "road_link_60387   road_node_5759  road_node_23806   \n",
       "\n",
       "                                                          geometry  \\\n",
       "road_link_0      LINESTRING (-73.55832 45.50704, -73.55806 45.5...   \n",
       "road_link_1      LINESTRING (-73.57878 45.49667, -73.57870 45.4...   \n",
       "road_link_2      LINESTRING (-73.57870 45.49663, -73.57867 45.4...   \n",
       "road_link_3      LINESTRING (-73.57705 45.49584, -73.57696 45.4...   \n",
       "road_link_4      LINESTRING (-73.58373 45.49316, -73.58366 45.4...   \n",
       "...                                                            ...   \n",
       "road_link_60383  LINESTRING (-73.49686 45.54346, -73.49682 45.5...   \n",
       "road_link_60384  LINESTRING (-73.49482 45.54554, -73.49421 45.5...   \n",
       "road_link_60385  LINESTRING (-73.49495 45.54544, -73.49489 45.5...   \n",
       "road_link_60386  LINESTRING (-73.55579 45.49568, -73.55565 45.4...   \n",
       "road_link_60387  LINESTRING (-73.55442 45.49496, -73.55456 45.4...   \n",
       "\n",
       "                combine_cycle_tag  \n",
       "road_link_0           no no no no  \n",
       "road_link_1           no no no no  \n",
       "road_link_2           no no no no  \n",
       "road_link_3           no no no no  \n",
       "road_link_4           no no no no  \n",
       "...                           ...  \n",
       "road_link_60383      yes no no no  \n",
       "road_link_60384       no no no no  \n",
       "road_link_60385      yes no no no  \n",
       "road_link_60386       no no no no  \n",
       "road_link_60387       no no no no  \n",
       "\n",
       "[60356 rows x 13 columns]"
      ]
     },
     "execution_count": 37,
     "metadata": {},
     "output_type": "execute_result"
    }
   ],
   "source": [
    "links"
   ]
  },
  {
   "cell_type": "code",
   "execution_count": 38,
   "metadata": {},
   "outputs": [],
   "source": [
    "bike_links = links[links['cycleway']!='no'].copy()\n",
    "\n",
    "bike_links['abset'] = [frozenset(el) for el in zip(bike_links['a'], bike_links['b'])]\n",
    "abset = bike_links.groupby('abset')[['a']].agg(len)\n",
    "oneway_abset = abset[abset['a']>1].index.values\n",
    "\n",
    "bike_links['oneway'] = False\n",
    "bike_links.loc[bike_links['abset'].isin(oneway_abset),'oneway'] = True\n",
    "\n",
    "oneway_dict = bike_links['oneway'].to_dict()\n",
    "links.loc[links['cycleway']!='no','oneway'] = bike_links['oneway']"
   ]
  },
  {
   "cell_type": "code",
   "execution_count": 1,
   "metadata": {},
   "outputs": [],
   "source": [
    "test=[1,2,3]"
   ]
  },
  {
   "cell_type": "code",
   "execution_count": null,
   "metadata": {},
   "outputs": [],
   "source": []
  },
  {
   "cell_type": "code",
   "execution_count": null,
   "metadata": {},
   "outputs": [],
   "source": []
  },
  {
   "cell_type": "code",
   "execution_count": null,
   "metadata": {},
   "outputs": [],
   "source": []
  },
  {
   "cell_type": "code",
   "execution_count": null,
   "metadata": {},
   "outputs": [],
   "source": []
  },
  {
   "cell_type": "code",
   "execution_count": 44,
   "metadata": {},
   "outputs": [
    {
     "data": {
      "text/plain": [
       "\"\\nlinks = rename_bicycle_tags(links,'oneway:bicycle')\\n    links = rename_bicycle_tags(links,'cycleway:left:oneway')\\n    links = rename_bicycle_tags(links,'cycleway:right:oneway')\\n\\n    links['combine_oneway_tag'] = links['oneway:bicycle'] +'-'+                                     links['cycleway:left:oneway']+'-'+                                     links['cycleway:right:oneway'] \\n\""
      ]
     },
     "execution_count": 44,
     "metadata": {},
     "output_type": "execute_result"
    }
   ],
   "source": [
    "'''\n",
    "links = rename_bicycle_tags(links,'oneway:bicycle')\n",
    "    links = rename_bicycle_tags(links,'cycleway:left:oneway')\n",
    "    links = rename_bicycle_tags(links,'cycleway:right:oneway')\n",
    "\n",
    "    links['combine_oneway_tag'] = links['oneway:bicycle'] +'-'+ \\\n",
    "                                    links['cycleway:left:oneway']+'-'+ \\\n",
    "                                    links['cycleway:right:oneway'] \n",
    "'''"
   ]
  },
  {
   "cell_type": "code",
   "execution_count": null,
   "metadata": {},
   "outputs": [],
   "source": []
  },
  {
   "cell_type": "code",
   "execution_count": null,
   "metadata": {},
   "outputs": [],
   "source": []
  },
  {
   "cell_type": "code",
   "execution_count": null,
   "metadata": {},
   "outputs": [],
   "source": []
  },
  {
   "cell_type": "code",
   "execution_count": 45,
   "metadata": {},
   "outputs": [],
   "source": [
    "links = road.clean_oneway(links)"
   ]
  },
  {
   "cell_type": "code",
   "execution_count": 46,
   "metadata": {},
   "outputs": [],
   "source": [
    "links = road.clean_maxspeed(links)"
   ]
  },
  {
   "cell_type": "code",
   "execution_count": 47,
   "metadata": {},
   "outputs": [
    {
     "name": "stdout",
     "output_type": "stream",
     "text": [
      "764 links dropped\n"
     ]
    }
   ],
   "source": [
    "links = road.drop_duplicated_links(links)"
   ]
  },
  {
   "cell_type": "code",
   "execution_count": null,
   "metadata": {},
   "outputs": [],
   "source": []
  },
  {
   "cell_type": "code",
   "execution_count": 48,
   "metadata": {},
   "outputs": [
    {
     "name": "stdout",
     "output_type": "stream",
     "text": [
      "20985 deg 2 nodes\n",
      "find path with large cutoff for 1  origins\n",
      "find path with large cutoff for 1  origins\n",
      "find path with large cutoff for 1  origins\n",
      "find path with large cutoff for 2  origins\n",
      "0 links were not merge because the oneway field is not the same\n",
      "0 links were not merge because the highway field is not the same\n",
      "0 merged_links unmerged because the geometry became a multilinestring\n"
     ]
    },
    {
     "data": {
      "text/plain": [
       "55066"
      ]
     },
     "execution_count": 48,
     "metadata": {},
     "output_type": "execute_result"
    }
   ],
   "source": [
    "links = road.simplify(links,cutoff=10)\n",
    "len(links)"
   ]
  },
  {
   "cell_type": "code",
   "execution_count": 87,
   "metadata": {},
   "outputs": [],
   "source": [
    "df=links.copy()"
   ]
  },
  {
   "cell_type": "code",
   "execution_count": 111,
   "metadata": {},
   "outputs": [],
   "source": []
  },
  {
   "cell_type": "code",
   "execution_count": 112,
   "metadata": {},
   "outputs": [
    {
     "name": "stdout",
     "output_type": "stream",
     "text": [
      "CPU times: user 9 µs, sys: 0 ns, total: 9 µs\n",
      "Wall time: 16 µs\n"
     ]
    }
   ],
   "source": [
    "\n"
   ]
  },
  {
   "cell_type": "code",
   "execution_count": 113,
   "metadata": {},
   "outputs": [
    {
     "name": "stdout",
     "output_type": "stream",
     "text": [
      "CPU times: user 88.9 ms, sys: 3.94 ms, total: 92.9 ms\n",
      "Wall time: 91.2 ms\n"
     ]
    },
    {
     "data": {
      "text/plain": [
       "['id', 'maxspeed', 'lanes', 'name', 'surface', 'cycleway', 'combine_cycle_tag']"
      ]
     },
     "execution_count": 113,
     "metadata": {},
     "output_type": "execute_result"
    }
   ],
   "source": [
    "%%time\n",
    "get_columns_with_list(df)"
   ]
  },
  {
   "cell_type": "code",
   "execution_count": 545,
   "metadata": {},
   "outputs": [
    {
     "data": {
      "text/plain": [
       "98782"
      ]
     },
     "execution_count": 545,
     "metadata": {},
     "output_type": "execute_result"
    }
   ],
   "source": [
    "links = road.split_oneway(links)\n",
    "len(links)"
   ]
  },
  {
   "cell_type": "code",
   "execution_count": null,
   "metadata": {},
   "outputs": [],
   "source": []
  },
  {
   "cell_type": "code",
   "execution_count": 546,
   "metadata": {},
   "outputs": [
    {
     "data": {
      "text/plain": [
       "97825"
      ]
     },
     "execution_count": 546,
     "metadata": {},
     "output_type": "execute_result"
    }
   ],
   "source": [
    "links = road.main_strongly_connected_component(links,None,False)\n",
    "len(links)"
   ]
  },
  {
   "cell_type": "code",
   "execution_count": 547,
   "metadata": {},
   "outputs": [
    {
     "name": "stderr",
     "output_type": "stream",
     "text": [
      "../road.py:24: RuntimeWarning: Mean of empty slice\n",
      "  return  function([new_type(val) for val in col_values])\n"
     ]
    }
   ],
   "source": [
    "links['maxspeed'] = links['maxspeed'].apply(lambda x: process_list_in_col(x,float,np.nanmean))\n",
    "links['lanes'] = links['lanes'].apply(lambda x: process_list_in_col(x,float,lambda x: np.floor(np.nanmean(x))))"
   ]
  },
  {
   "cell_type": "code",
   "execution_count": 548,
   "metadata": {},
   "outputs": [],
   "source": [
    "links['cycleway'] = links['cycleway'].apply(lambda x: process_list_in_col(x,str,lambda x: np.sort(x)[-1]))"
   ]
  },
  {
   "cell_type": "code",
   "execution_count": null,
   "metadata": {},
   "outputs": [],
   "source": []
  },
  {
   "cell_type": "code",
   "execution_count": 549,
   "metadata": {},
   "outputs": [],
   "source": [
    "for col in ['highway','name','surface']:\n",
    "    links[col] = links[col].apply(lambda x: remove_list_in_col(x,'first'))"
   ]
  },
  {
   "cell_type": "code",
   "execution_count": null,
   "metadata": {},
   "outputs": [],
   "source": []
  },
  {
   "cell_type": "code",
   "execution_count": 550,
   "metadata": {},
   "outputs": [],
   "source": [
    "links = fill_na_col(links,'highway','maxspeed',np.mean)\n",
    "links = fill_na_col(links,'highway','lanes',lambda x: np.floor(np.mean(x)))"
   ]
  },
  {
   "cell_type": "code",
   "execution_count": 551,
   "metadata": {},
   "outputs": [
    {
     "name": "stdout",
     "output_type": "stream",
     "text": [
      "Write Links and Nodes ...\n"
     ]
    }
   ],
   "source": [
    "\n",
    "# Add length\n",
    "print(\"Write Links and Nodes ...\")\n",
    "epsg = get_epsg(nodes.iloc[0]['geometry'].y, nodes.iloc[0]['geometry'].x)\n",
    "links['length'] = links.to_crs(epsg).length\n",
    "\n",
    "# Add Time\n",
    "links['time'] = links['length']/(links['maxspeed']*1000/3600)\n",
    "links = links.rename(columns = {'maxspeed' : 'speed'})\n",
    "\n",
    "# reindex and remove ununsed nodes\n",
    "links = links.reset_index(drop=True)\n",
    "links.index = 'road_link_'+links.index.astype(str)\n",
    "nodes_set = set(links['a']).union(set(links['b']))\n",
    "nodes = nodes.loc[list(nodes_set)].sort_index()"
   ]
  },
  {
   "cell_type": "code",
   "execution_count": 552,
   "metadata": {},
   "outputs": [
    {
     "name": "stdout",
     "output_type": "stream",
     "text": [
      "Adding elevation\n",
      "file save to /tmp\n"
     ]
    }
   ],
   "source": [
    "print('Adding elevation')\n",
    "el_dict = get_elevation_from_srtm(nodes)\n",
    "nodes['elevation'] = nodes.index.map(el_dict.get)\n",
    "# incline from node a to b in deg. neg if going down (if b is lower dans a)\n",
    "links['incline'] = calc_incline(links['a'].apply(lambda x: el_dict.get(x)).values,\n",
    "                            links['b'].apply(lambda x: el_dict.get(x)).values,\n",
    "                            links['length'].values)\n"
   ]
  },
  {
   "cell_type": "code",
   "execution_count": null,
   "metadata": {},
   "outputs": [],
   "source": []
  },
  {
   "cell_type": "code",
   "execution_count": null,
   "metadata": {},
   "outputs": [],
   "source": []
  },
  {
   "cell_type": "code",
   "execution_count": null,
   "metadata": {},
   "outputs": [],
   "source": []
  },
  {
   "cell_type": "code",
   "execution_count": null,
   "metadata": {},
   "outputs": [],
   "source": []
  },
  {
   "cell_type": "code",
   "execution_count": null,
   "metadata": {},
   "outputs": [],
   "source": []
  },
  {
   "cell_type": "code",
   "execution_count": 4,
   "metadata": {},
   "outputs": [
    {
     "ename": "NameError",
     "evalue": "name 'links' is not defined",
     "output_type": "error",
     "traceback": [
      "\u001b[0;31m---------------------------------------------------------------------------\u001b[0m",
      "\u001b[0;31mNameError\u001b[0m                                 Traceback (most recent call last)",
      "Cell \u001b[0;32mIn[4], line 1\u001b[0m\n\u001b[0;32m----> 1\u001b[0m \u001b[43mlinks\u001b[49m\u001b[38;5;241m.\u001b[39mto_file(\u001b[38;5;124m'\u001b[39m\u001b[38;5;124mroad_links.geojson\u001b[39m\u001b[38;5;124m'\u001b[39m)\n\u001b[1;32m      2\u001b[0m nodes\u001b[38;5;241m.\u001b[39mto_file(\u001b[38;5;124m'\u001b[39m\u001b[38;5;124mroad_nodes.geojson\u001b[39m\u001b[38;5;124m'\u001b[39m)\n",
      "\u001b[0;31mNameError\u001b[0m: name 'links' is not defined"
     ]
    }
   ],
   "source": [
    "links.to_file('road_links.geojson')\n",
    "nodes.to_file('road_nodes.geojson')"
   ]
  },
  {
   "cell_type": "code",
   "execution_count": 16,
   "metadata": {
    "scrolled": true
   },
   "outputs": [],
   "source": [
    "from road import *\n",
    "from bike import *\n",
    "from elevation import *"
   ]
  },
  {
   "cell_type": "code",
   "execution_count": 19,
   "metadata": {},
   "outputs": [
    {
     "name": "stdout",
     "output_type": "stream",
     "text": [
      "['no', 'yes', 'shared']\n",
      "['no', 'yes', 'shared']\n",
      "['no', 'yes', 'shared']\n",
      "['no', 'yes', 'shared']\n",
      "182 links dropped\n",
      "18297 deg 2 nodes\n",
      "find path with large cutoff for 2  origins\n",
      "find path with large cutoff for 1  origins\n",
      "find path with large cutoff for 1  origins\n",
      "find path with large cutoff for 2  origins\n",
      "find path with large cutoff for 6  origins\n",
      "0 links were not merge because the oneway field is not the same\n",
      "0 links were not merge because the highway field is not the same\n",
      "0 merged_links unmerged because the geometry became a multilinestring\n",
      "removing list in columns ...\n"
     ]
    },
    {
     "name": "stderr",
     "output_type": "stream",
     "text": [
      "../road.py:24: RuntimeWarning: Mean of empty slice\n",
      "  return  function([new_type(val) for val in col_values])\n"
     ]
    },
    {
     "name": "stdout",
     "output_type": "stream",
     "text": [
      "Write Links and Nodes ...\n"
     ]
    }
   ],
   "source": [
    "links, nodes = get_links_and_nodes('way.geojson', split_direction=False)\n",
    "nodes = nodes.set_crs(links.crs)\n",
    "links = test_bicycle_process(links,cycleway_columns,highway_list)\n",
    "links = clean_oneway(links)\n",
    "links = clean_maxspeed(links)\n",
    "links = drop_duplicated_links(links, sort_column='maxspeed')\n",
    "links = simplify(links)\n",
    "links = split_oneway(links)\n",
    "links = main_strongly_connected_component(links,None,False)\n",
    "\n",
    "print('removing list in columns ...')\n",
    "links['maxspeed'] = links['maxspeed'].apply(lambda x: process_list_in_col(x,float,np.nanmean))\n",
    "links['lanes'] = links['lanes'].apply(lambda x: process_list_in_col(x,float,lambda x: np.floor(np.nanmean(x))))\n",
    "if 'cycleway' in links.columns:\n",
    "    links['cycleway'] = links['cycleway'].apply(lambda x: process_list_in_col(x,str,lambda x: np.sort(x)[-1]))\n",
    "for col in ['id', 'type', 'highway','name','surface']:\n",
    "    links[col] = links[col].apply(lambda x: remove_list_in_col(x,'first'))\n",
    "\n",
    "\n",
    "# Fill NaN with mean values by highway\n",
    "links = fill_na_col(links, 'highway', 'maxspeed', np.mean)\n",
    "links = fill_na_col(links, 'highway', 'lanes', lambda x: np.floor(np.mean(x)))\n",
    "\n",
    "# Add length\n",
    "print(\"Write Links and Nodes ...\")\n",
    "epsg = get_epsg(nodes.iloc[0]['geometry'].y, nodes.iloc[0]['geometry'].x)\n",
    "links['length'] = links.to_crs(epsg).length\n",
    "\n",
    "# Add Time\n",
    "links['time'] = links['length']/(links['maxspeed']*1000/3600)\n",
    "links = links.rename(columns = {'maxspeed' : 'speed'})\n",
    "\n",
    "# reindex and remove ununsed nodes\n",
    "links = links.reset_index(drop=True)\n",
    "links.index = 'road_link_'+links.index.astype(str)\n",
    "nodes_set = set(links['a']).union(set(links['b']))\n",
    "nodes = nodes.loc[list(nodes_set)].sort_index()\n"
   ]
  },
  {
   "cell_type": "code",
   "execution_count": null,
   "metadata": {},
   "outputs": [],
   "source": []
  },
  {
   "cell_type": "code",
   "execution_count": 20,
   "metadata": {},
   "outputs": [
    {
     "name": "stdout",
     "output_type": "stream",
     "text": [
      "Adding elevation\n",
      "file save to /tmp\n"
     ]
    }
   ],
   "source": [
    "print('Adding elevation')\n",
    "el_dict = get_elevation_from_srtm(nodes)\n",
    "nodes['elevation'] = nodes.index.map(el_dict.get)\n",
    "# incline from node a to b in deg. neg if going down (if b is lower dans a)\n",
    "links['incline'] = calc_incline(links['a'].apply(lambda x: el_dict.get(x)).values,\n",
    "                            links['b'].apply(lambda x: el_dict.get(x)).values,\n",
    "                            links['length'].values)"
   ]
  },
  {
   "cell_type": "code",
   "execution_count": 26,
   "metadata": {},
   "outputs": [],
   "source": [
    "links.to_file('road_links.geojson')\n",
    "nodes.to_file('road_nodes.geojson')"
   ]
  },
  {
   "cell_type": "code",
   "execution_count": 25,
   "metadata": {
    "collapsed": true
   },
   "outputs": [],
   "source": [
    "links = links.drop(columns='combine_cycle_tag')"
   ]
  },
  {
   "cell_type": "code",
   "execution_count": 3,
   "metadata": {},
   "outputs": [
    {
     "ename": "NameError",
     "evalue": "name 'links' is not defined",
     "output_type": "error",
     "traceback": [
      "\u001b[0;31m---------------------------------------------------------------------------\u001b[0m",
      "\u001b[0;31mNameError\u001b[0m                                 Traceback (most recent call last)",
      "Cell \u001b[0;32mIn[3], line 1\u001b[0m\n\u001b[0;32m----> 1\u001b[0m \u001b[43mlinks\u001b[49m\n",
      "\u001b[0;31mNameError\u001b[0m: name 'links' is not defined"
     ]
    }
   ],
   "source": [
    "links"
   ]
  },
  {
   "cell_type": "code",
   "execution_count": null,
   "metadata": {},
   "outputs": [],
   "source": []
  },
  {
   "cell_type": "code",
   "execution_count": null,
   "metadata": {},
   "outputs": [],
   "source": []
  }
 ],
 "metadata": {
  "kernelspec": {
   "display_name": "quetzal_env",
   "language": "python",
   "name": "quetzal_env"
  },
  "language_info": {
   "codemirror_mode": {
    "name": "ipython",
    "version": 3
   },
   "file_extension": ".py",
   "mimetype": "text/x-python",
   "name": "python",
   "nbconvert_exporter": "python",
   "pygments_lexer": "ipython3",
   "version": "3.8.6"
  }
 },
 "nbformat": 4,
 "nbformat_minor": 2
}
