{
 "cells": [
  {
   "cell_type": "code",
   "execution_count": 462,
   "id": "5017a02d",
   "metadata": {},
   "outputs": [],
   "source": [
    "import geopandas as gpd\n",
    "import numpy as np\n",
    "from typing import *\n",
    "import json"
   ]
  },
  {
   "cell_type": "code",
   "execution_count": 463,
   "id": "941e85da",
   "metadata": {},
   "outputs": [],
   "source": [
    "import requests\n",
    "from io import BytesIO\n",
    "import zipfile\n",
    "import time\n",
    "\n",
    "def get_file_name(latitude: float, longitude: float) -> Optional[str]:\n",
    "    # from SRTM.py\n",
    "    # return filename ex: N45W074.hgt\n",
    "    if latitude >= 0:\n",
    "        north_south = 'N'\n",
    "    else:\n",
    "        north_south = 'S'\n",
    "\n",
    "    if longitude >= 0:\n",
    "        east_west = 'E'\n",
    "    else:\n",
    "        east_west = 'W'\n",
    "\n",
    "    file_name = '%s%s%s%s.hgt' % (north_south, str(int(abs(np.floor(latitude)))).zfill(2),\n",
    "                                  east_west, str(int(abs(np.floor(longitude)))).zfill(3))\n",
    "    return file_name\n",
    "\n",
    "\n",
    "\n",
    "def fetch_data(url: str) -> None:\n",
    "    # URL of the .zip file\n",
    "    try:\n",
    "        response = requests.get(url)\n",
    "        buffer = BytesIO(response.content)\n",
    "        with zipfile.ZipFile(buffer, \"r\") as zip_ref:\n",
    "            zip_ref.extractall('temp')\n",
    "            print('file save to temp/')\n",
    "    except:\n",
    "        time.sleep(2)\n",
    "        response = requests.get(url)\n",
    "        buffer = BytesIO(response.content)\n",
    "        with zipfile.ZipFile(buffer, \"r\") as zip_ref:\n",
    "            zip_ref.extractall('temp')\n",
    "            print('file save to temp/')\n",
    "    \n",
    "\n"
   ]
  },
  {
   "cell_type": "code",
   "execution_count": 464,
   "id": "d08c12e2",
   "metadata": {},
   "outputs": [],
   "source": [
    "import numpy as np\n",
    "\n",
    "from scipy import interpolate\n",
    "\n",
    "def read_hgt_file(hgt_file, arc=3):\n",
    "\n",
    "    SAMPLES = int(3600/arc +1)\n",
    "\n",
    "    filename = hgt_file.split('/')[-1]\n",
    "\n",
    "    if filename.split('S')[0] != filename: lat0 = -int(filename.split('S')[-1][0:2])\n",
    "    if filename.split('N')[0] != filename: lat0 =  int(filename.split('N')[-1][0:2])\n",
    "    if filename.split('W')[0] != filename: lon0 = -int(filename.split('W')[-1][0:3])\n",
    "    if filename.split('E')[0] != filename: lon0 =  int(filename.split('E')[-1][0:3])\n",
    "\n",
    "    lat = np.linspace(lat0, lat0 + 1, SAMPLES)\n",
    "    lon = np.linspace(lon0, lon0 + 1, SAMPLES)\n",
    "\n",
    "    with open(hgt_file, 'rb') as hgt_data:\n",
    "        # Each data is 16bit signed integer(i2) - big endian(>)\n",
    "        elevation = np.fromfile(hgt_data, np.dtype('>i2'), SAMPLES*SAMPLES)\\\n",
    "                                .reshape((SAMPLES, SAMPLES))\n",
    "        return np.flip(elevation,axis=0).T, lat, lon\n",
    "    \n",
    "    \n",
    "from scipy.interpolate import RegularGridInterpolator\n",
    "def interpolate_elevation(gps_track, alt, lon, lat):\n",
    "    x = gps_track.x\n",
    "    y = gps_track.y\n",
    "\n",
    "    interp = RegularGridInterpolator((lon, lat), alt, bounds_error=False, fill_value=None)\n",
    "\n",
    "    return [ int(interp(tup)) for tup in zip(x,y)]"
   ]
  },
  {
   "cell_type": "code",
   "execution_count": 486,
   "id": "5e0e862d",
   "metadata": {},
   "outputs": [],
   "source": [
    "srtm = 'srtm3'\n",
    "\n",
    "arc_dict= {'srtm1':1,'srtm3':3}"
   ]
  },
  {
   "cell_type": "code",
   "execution_count": null,
   "id": "352a42bb",
   "metadata": {},
   "outputs": [],
   "source": []
  },
  {
   "cell_type": "code",
   "execution_count": 487,
   "id": "f2ee5568",
   "metadata": {},
   "outputs": [],
   "source": [
    "df = gpd.read_file('test/nodes4.geojson')\n",
    "df = df.set_index('index')"
   ]
  },
  {
   "cell_type": "code",
   "execution_count": 488,
   "id": "73663335",
   "metadata": {},
   "outputs": [],
   "source": [
    "# lon is est west\n",
    "# lat is north south\n",
    "lonlat_list = [ list((geom.xy[0][0], geom.xy[1][0])) for geom in df['geometry'].values ]\n",
    "df[['lon','lat']] = lonlat_list"
   ]
  },
  {
   "cell_type": "code",
   "execution_count": 489,
   "id": "1a2f32f8",
   "metadata": {},
   "outputs": [
    {
     "data": {
      "text/html": [
       "<div>\n",
       "<style scoped>\n",
       "    .dataframe tbody tr th:only-of-type {\n",
       "        vertical-align: middle;\n",
       "    }\n",
       "\n",
       "    .dataframe tbody tr th {\n",
       "        vertical-align: top;\n",
       "    }\n",
       "\n",
       "    .dataframe thead th {\n",
       "        text-align: right;\n",
       "    }\n",
       "</style>\n",
       "<table border=\"1\" class=\"dataframe\">\n",
       "  <thead>\n",
       "    <tr style=\"text-align: right;\">\n",
       "      <th></th>\n",
       "      <th>stop_code</th>\n",
       "      <th>stop_name</th>\n",
       "      <th>route_width</th>\n",
       "      <th>geometry</th>\n",
       "      <th>lon</th>\n",
       "      <th>lat</th>\n",
       "      <th>file_name</th>\n",
       "    </tr>\n",
       "    <tr>\n",
       "      <th>index</th>\n",
       "      <th></th>\n",
       "      <th></th>\n",
       "      <th></th>\n",
       "      <th></th>\n",
       "      <th></th>\n",
       "      <th></th>\n",
       "      <th></th>\n",
       "    </tr>\n",
       "  </thead>\n",
       "  <tbody>\n",
       "    <tr>\n",
       "      <th>node_t5fF1w3BxHZbTXvhag8Duy</th>\n",
       "      <td>NaN</td>\n",
       "      <td>NaN</td>\n",
       "      <td>3</td>\n",
       "      <td>POINT (-79.47327 44.27277)</td>\n",
       "      <td>-79.473273</td>\n",
       "      <td>44.272773</td>\n",
       "      <td>N44W080.hgt</td>\n",
       "    </tr>\n",
       "    <tr>\n",
       "      <th>node_n1mt2axQTagJ8HqN3Am2PR</th>\n",
       "      <td>NaN</td>\n",
       "      <td>NaN</td>\n",
       "      <td>3</td>\n",
       "      <td>POINT (-79.45404 44.16743)</td>\n",
       "      <td>-79.454041</td>\n",
       "      <td>44.167433</td>\n",
       "      <td>N44W080.hgt</td>\n",
       "    </tr>\n",
       "    <tr>\n",
       "      <th>node_wFdw3xcQdvatw3kYK26j8w</th>\n",
       "      <td>NaN</td>\n",
       "      <td>NaN</td>\n",
       "      <td>3</td>\n",
       "      <td>POINT (-79.40733 44.01352)</td>\n",
       "      <td>-79.407335</td>\n",
       "      <td>44.013516</td>\n",
       "      <td>N44W080.hgt</td>\n",
       "    </tr>\n",
       "    <tr>\n",
       "      <th>node_fBm7WsfhSxZyz7NMzXbeVE</th>\n",
       "      <td>NaN</td>\n",
       "      <td>NaN</td>\n",
       "      <td>3</td>\n",
       "      <td>POINT (-79.37711 43.89485)</td>\n",
       "      <td>-79.377114</td>\n",
       "      <td>43.894845</td>\n",
       "      <td>N43W080.hgt</td>\n",
       "    </tr>\n",
       "    <tr>\n",
       "      <th>node_xkqAJ1VpXPdzBinWDNy6ap</th>\n",
       "      <td>NaN</td>\n",
       "      <td>NaN</td>\n",
       "      <td>3</td>\n",
       "      <td>POINT (-79.37162 43.80767)</td>\n",
       "      <td>-79.371619</td>\n",
       "      <td>43.807669</td>\n",
       "      <td>N43W080.hgt</td>\n",
       "    </tr>\n",
       "    <tr>\n",
       "      <th>node_7Yw4z4edaiLya89AGQSyrd</th>\n",
       "      <td>NaN</td>\n",
       "      <td>NaN</td>\n",
       "      <td>3</td>\n",
       "      <td>POINT (-79.33316 43.69554)</td>\n",
       "      <td>-79.333155</td>\n",
       "      <td>43.695541</td>\n",
       "      <td>N43W080.hgt</td>\n",
       "    </tr>\n",
       "    <tr>\n",
       "      <th>node_qf5NyuH4EPFfP9TLcpNw57</th>\n",
       "      <td>NaN</td>\n",
       "      <td>NaN</td>\n",
       "      <td>3</td>\n",
       "      <td>POINT (-79.49937 43.65481)</td>\n",
       "      <td>-79.499373</td>\n",
       "      <td>43.654806</td>\n",
       "      <td>N43W080.hgt</td>\n",
       "    </tr>\n",
       "    <tr>\n",
       "      <th>node_mG6JbTyfqBrfQdgvxdsWHU</th>\n",
       "      <td>NaN</td>\n",
       "      <td>NaN</td>\n",
       "      <td>3</td>\n",
       "      <td>POINT (-79.65735 43.58519)</td>\n",
       "      <td>-79.657349</td>\n",
       "      <td>43.585193</td>\n",
       "      <td>N43W080.hgt</td>\n",
       "    </tr>\n",
       "    <tr>\n",
       "      <th>node_jsHC4W7smyonhK2cjxYK1G</th>\n",
       "      <td>NaN</td>\n",
       "      <td>NaN</td>\n",
       "      <td>3</td>\n",
       "      <td>POINT (-79.72191 43.46667)</td>\n",
       "      <td>-79.721913</td>\n",
       "      <td>43.466667</td>\n",
       "      <td>N43W080.hgt</td>\n",
       "    </tr>\n",
       "  </tbody>\n",
       "</table>\n",
       "</div>"
      ],
      "text/plain": [
       "                             stop_code  stop_name  route_width  \\\n",
       "index                                                            \n",
       "node_t5fF1w3BxHZbTXvhag8Duy        NaN        NaN            3   \n",
       "node_n1mt2axQTagJ8HqN3Am2PR        NaN        NaN            3   \n",
       "node_wFdw3xcQdvatw3kYK26j8w        NaN        NaN            3   \n",
       "node_fBm7WsfhSxZyz7NMzXbeVE        NaN        NaN            3   \n",
       "node_xkqAJ1VpXPdzBinWDNy6ap        NaN        NaN            3   \n",
       "node_7Yw4z4edaiLya89AGQSyrd        NaN        NaN            3   \n",
       "node_qf5NyuH4EPFfP9TLcpNw57        NaN        NaN            3   \n",
       "node_mG6JbTyfqBrfQdgvxdsWHU        NaN        NaN            3   \n",
       "node_jsHC4W7smyonhK2cjxYK1G        NaN        NaN            3   \n",
       "\n",
       "                                               geometry        lon        lat  \\\n",
       "index                                                                           \n",
       "node_t5fF1w3BxHZbTXvhag8Duy  POINT (-79.47327 44.27277) -79.473273  44.272773   \n",
       "node_n1mt2axQTagJ8HqN3Am2PR  POINT (-79.45404 44.16743) -79.454041  44.167433   \n",
       "node_wFdw3xcQdvatw3kYK26j8w  POINT (-79.40733 44.01352) -79.407335  44.013516   \n",
       "node_fBm7WsfhSxZyz7NMzXbeVE  POINT (-79.37711 43.89485) -79.377114  43.894845   \n",
       "node_xkqAJ1VpXPdzBinWDNy6ap  POINT (-79.37162 43.80767) -79.371619  43.807669   \n",
       "node_7Yw4z4edaiLya89AGQSyrd  POINT (-79.33316 43.69554) -79.333155  43.695541   \n",
       "node_qf5NyuH4EPFfP9TLcpNw57  POINT (-79.49937 43.65481) -79.499373  43.654806   \n",
       "node_mG6JbTyfqBrfQdgvxdsWHU  POINT (-79.65735 43.58519) -79.657349  43.585193   \n",
       "node_jsHC4W7smyonhK2cjxYK1G  POINT (-79.72191 43.46667) -79.721913  43.466667   \n",
       "\n",
       "                               file_name  \n",
       "index                                     \n",
       "node_t5fF1w3BxHZbTXvhag8Duy  N44W080.hgt  \n",
       "node_n1mt2axQTagJ8HqN3Am2PR  N44W080.hgt  \n",
       "node_wFdw3xcQdvatw3kYK26j8w  N44W080.hgt  \n",
       "node_fBm7WsfhSxZyz7NMzXbeVE  N43W080.hgt  \n",
       "node_xkqAJ1VpXPdzBinWDNy6ap  N43W080.hgt  \n",
       "node_7Yw4z4edaiLya89AGQSyrd  N43W080.hgt  \n",
       "node_qf5NyuH4EPFfP9TLcpNw57  N43W080.hgt  \n",
       "node_mG6JbTyfqBrfQdgvxdsWHU  N43W080.hgt  \n",
       "node_jsHC4W7smyonhK2cjxYK1G  N43W080.hgt  "
      ]
     },
     "execution_count": 489,
     "metadata": {},
     "output_type": "execute_result"
    }
   ],
   "source": [
    "df['file_name'] = df.apply(lambda x: get_file_name(x['lat'],x['lon']),axis=1)\n",
    "df"
   ]
  },
  {
   "cell_type": "code",
   "execution_count": 490,
   "id": "406baeec",
   "metadata": {},
   "outputs": [
    {
     "data": {
      "text/plain": [
       "'https://srtm.kurviger.de/SRTM3//North_America//N44W080.hgt.zip'"
      ]
     },
     "execution_count": 490,
     "metadata": {},
     "output_type": "execute_result"
    }
   ],
   "source": [
    "# Open the JSON file\n",
    "with open('url_list.json') as file:\n",
    "    data = json.load(file)\n",
    "data[srtm]['N44W080.hgt']"
   ]
  },
  {
   "cell_type": "code",
   "execution_count": 491,
   "id": "e24f0037",
   "metadata": {},
   "outputs": [],
   "source": [
    "files = list(df['file_name'].unique())"
   ]
  },
  {
   "cell_type": "code",
   "execution_count": 492,
   "id": "5f4e205f",
   "metadata": {},
   "outputs": [
    {
     "name": "stdout",
     "output_type": "stream",
     "text": [
      "file save to temp/\n",
      "file save to temp/\n"
     ]
    }
   ],
   "source": [
    "el_dict = {}\n",
    "for file in files:\n",
    "\n",
    "    temp_df = df[df['file_name']==file].copy()\n",
    "\n",
    "    url = data[srtm][file]\n",
    "\n",
    "    fetch_data(url)\n",
    "\n",
    "    alt, lat, lon = read_hgt_file('temp/{f}'.format(f=file),arc_dict[srtm])\n",
    "\n",
    "    temp_df['elevation'] = interpolate_elevation(temp_df['geometry'], alt, lon, lat)\n",
    "    \n",
    "    el_dict.update(temp_df['elevation'].to_dict())\n",
    "\n",
    "df['elevation'] = df.index.map(el_dict.get)\n"
   ]
  },
  {
   "cell_type": "code",
   "execution_count": null,
   "id": "f5e10ef8",
   "metadata": {},
   "outputs": [],
   "source": []
  },
  {
   "cell_type": "code",
   "execution_count": 493,
   "id": "0fc02dd6",
   "metadata": {},
   "outputs": [
    {
     "data": {
      "text/plain": [
       "<Axes: xlabel='index'>"
      ]
     },
     "execution_count": 493,
     "metadata": {},
     "output_type": "execute_result"
    },
    {
     "data": {
      "image/png": "[encoded data removed]",
      "text/plain": [
       "<Figure size 640x480 with 1 Axes>"
      ]
     },
     "metadata": {},
     "output_type": "display_data"
    }
   ],
   "source": [
    "df['elevation'].plot()"
   ]
  },
  {
   "cell_type": "code",
   "execution_count": 509,
   "id": "4f84700d",
   "metadata": {},
   "outputs": [
    {
     "data": {
      "text/plain": [
       "[250, 253, 302, 223, 151, 127, 116, 165, 147]"
      ]
     },
     "execution_count": 509,
     "metadata": {},
     "output_type": "execute_result"
    }
   ],
   "source": [
    "[get_elevation(n) for n in nodes_list]"
   ]
  },
  {
   "cell_type": "code",
   "execution_count": 510,
   "id": "993dfc9a",
   "metadata": {},
   "outputs": [
    {
     "data": {
      "text/html": [
       "<div>\n",
       "<style scoped>\n",
       "    .dataframe tbody tr th:only-of-type {\n",
       "        vertical-align: middle;\n",
       "    }\n",
       "\n",
       "    .dataframe tbody tr th {\n",
       "        vertical-align: top;\n",
       "    }\n",
       "\n",
       "    .dataframe thead th {\n",
       "        text-align: right;\n",
       "    }\n",
       "</style>\n",
       "<table border=\"1\" class=\"dataframe\">\n",
       "  <thead>\n",
       "    <tr style=\"text-align: right;\">\n",
       "      <th></th>\n",
       "      <th>stop_code</th>\n",
       "      <th>stop_name</th>\n",
       "      <th>route_width</th>\n",
       "      <th>geometry</th>\n",
       "      <th>lon</th>\n",
       "      <th>lat</th>\n",
       "      <th>file_name</th>\n",
       "      <th>elevation</th>\n",
       "    </tr>\n",
       "    <tr>\n",
       "      <th>index</th>\n",
       "      <th></th>\n",
       "      <th></th>\n",
       "      <th></th>\n",
       "      <th></th>\n",
       "      <th></th>\n",
       "      <th></th>\n",
       "      <th></th>\n",
       "      <th></th>\n",
       "    </tr>\n",
       "  </thead>\n",
       "  <tbody>\n",
       "    <tr>\n",
       "      <th>node_t5fF1w3BxHZbTXvhag8Duy</th>\n",
       "      <td>NaN</td>\n",
       "      <td>NaN</td>\n",
       "      <td>3</td>\n",
       "      <td>POINT (-79.47327 44.27277)</td>\n",
       "      <td>-79.473273</td>\n",
       "      <td>44.272773</td>\n",
       "      <td>N44W080.hgt</td>\n",
       "      <td>251</td>\n",
       "    </tr>\n",
       "    <tr>\n",
       "      <th>node_n1mt2axQTagJ8HqN3Am2PR</th>\n",
       "      <td>NaN</td>\n",
       "      <td>NaN</td>\n",
       "      <td>3</td>\n",
       "      <td>POINT (-79.45404 44.16743)</td>\n",
       "      <td>-79.454041</td>\n",
       "      <td>44.167433</td>\n",
       "      <td>N44W080.hgt</td>\n",
       "      <td>252</td>\n",
       "    </tr>\n",
       "    <tr>\n",
       "      <th>node_wFdw3xcQdvatw3kYK26j8w</th>\n",
       "      <td>NaN</td>\n",
       "      <td>NaN</td>\n",
       "      <td>3</td>\n",
       "      <td>POINT (-79.40733 44.01352)</td>\n",
       "      <td>-79.407335</td>\n",
       "      <td>44.013516</td>\n",
       "      <td>N44W080.hgt</td>\n",
       "      <td>303</td>\n",
       "    </tr>\n",
       "    <tr>\n",
       "      <th>node_fBm7WsfhSxZyz7NMzXbeVE</th>\n",
       "      <td>NaN</td>\n",
       "      <td>NaN</td>\n",
       "      <td>3</td>\n",
       "      <td>POINT (-79.37711 43.89485)</td>\n",
       "      <td>-79.377114</td>\n",
       "      <td>43.894845</td>\n",
       "      <td>N43W080.hgt</td>\n",
       "      <td>221</td>\n",
       "    </tr>\n",
       "    <tr>\n",
       "      <th>node_xkqAJ1VpXPdzBinWDNy6ap</th>\n",
       "      <td>NaN</td>\n",
       "      <td>NaN</td>\n",
       "      <td>3</td>\n",
       "      <td>POINT (-79.37162 43.80767)</td>\n",
       "      <td>-79.371619</td>\n",
       "      <td>43.807669</td>\n",
       "      <td>N43W080.hgt</td>\n",
       "      <td>152</td>\n",
       "    </tr>\n",
       "    <tr>\n",
       "      <th>node_7Yw4z4edaiLya89AGQSyrd</th>\n",
       "      <td>NaN</td>\n",
       "      <td>NaN</td>\n",
       "      <td>3</td>\n",
       "      <td>POINT (-79.33316 43.69554)</td>\n",
       "      <td>-79.333155</td>\n",
       "      <td>43.695541</td>\n",
       "      <td>N43W080.hgt</td>\n",
       "      <td>127</td>\n",
       "    </tr>\n",
       "    <tr>\n",
       "      <th>node_qf5NyuH4EPFfP9TLcpNw57</th>\n",
       "      <td>NaN</td>\n",
       "      <td>NaN</td>\n",
       "      <td>3</td>\n",
       "      <td>POINT (-79.49937 43.65481)</td>\n",
       "      <td>-79.499373</td>\n",
       "      <td>43.654806</td>\n",
       "      <td>N43W080.hgt</td>\n",
       "      <td>118</td>\n",
       "    </tr>\n",
       "    <tr>\n",
       "      <th>node_mG6JbTyfqBrfQdgvxdsWHU</th>\n",
       "      <td>NaN</td>\n",
       "      <td>NaN</td>\n",
       "      <td>3</td>\n",
       "      <td>POINT (-79.65735 43.58519)</td>\n",
       "      <td>-79.657349</td>\n",
       "      <td>43.585193</td>\n",
       "      <td>N43W080.hgt</td>\n",
       "      <td>165</td>\n",
       "    </tr>\n",
       "    <tr>\n",
       "      <th>node_jsHC4W7smyonhK2cjxYK1G</th>\n",
       "      <td>NaN</td>\n",
       "      <td>NaN</td>\n",
       "      <td>3</td>\n",
       "      <td>POINT (-79.72191 43.46667)</td>\n",
       "      <td>-79.721913</td>\n",
       "      <td>43.466667</td>\n",
       "      <td>N43W080.hgt</td>\n",
       "      <td>145</td>\n",
       "    </tr>\n",
       "  </tbody>\n",
       "</table>\n",
       "</div>"
      ],
      "text/plain": [
       "                             stop_code  stop_name  route_width  \\\n",
       "index                                                            \n",
       "node_t5fF1w3BxHZbTXvhag8Duy        NaN        NaN            3   \n",
       "node_n1mt2axQTagJ8HqN3Am2PR        NaN        NaN            3   \n",
       "node_wFdw3xcQdvatw3kYK26j8w        NaN        NaN            3   \n",
       "node_fBm7WsfhSxZyz7NMzXbeVE        NaN        NaN            3   \n",
       "node_xkqAJ1VpXPdzBinWDNy6ap        NaN        NaN            3   \n",
       "node_7Yw4z4edaiLya89AGQSyrd        NaN        NaN            3   \n",
       "node_qf5NyuH4EPFfP9TLcpNw57        NaN        NaN            3   \n",
       "node_mG6JbTyfqBrfQdgvxdsWHU        NaN        NaN            3   \n",
       "node_jsHC4W7smyonhK2cjxYK1G        NaN        NaN            3   \n",
       "\n",
       "                                               geometry        lon        lat  \\\n",
       "index                                                                           \n",
       "node_t5fF1w3BxHZbTXvhag8Duy  POINT (-79.47327 44.27277) -79.473273  44.272773   \n",
       "node_n1mt2axQTagJ8HqN3Am2PR  POINT (-79.45404 44.16743) -79.454041  44.167433   \n",
       "node_wFdw3xcQdvatw3kYK26j8w  POINT (-79.40733 44.01352) -79.407335  44.013516   \n",
       "node_fBm7WsfhSxZyz7NMzXbeVE  POINT (-79.37711 43.89485) -79.377114  43.894845   \n",
       "node_xkqAJ1VpXPdzBinWDNy6ap  POINT (-79.37162 43.80767) -79.371619  43.807669   \n",
       "node_7Yw4z4edaiLya89AGQSyrd  POINT (-79.33316 43.69554) -79.333155  43.695541   \n",
       "node_qf5NyuH4EPFfP9TLcpNw57  POINT (-79.49937 43.65481) -79.499373  43.654806   \n",
       "node_mG6JbTyfqBrfQdgvxdsWHU  POINT (-79.65735 43.58519) -79.657349  43.585193   \n",
       "node_jsHC4W7smyonhK2cjxYK1G  POINT (-79.72191 43.46667) -79.721913  43.466667   \n",
       "\n",
       "                               file_name  elevation  \n",
       "index                                                \n",
       "node_t5fF1w3BxHZbTXvhag8Duy  N44W080.hgt        251  \n",
       "node_n1mt2axQTagJ8HqN3Am2PR  N44W080.hgt        252  \n",
       "node_wFdw3xcQdvatw3kYK26j8w  N44W080.hgt        303  \n",
       "node_fBm7WsfhSxZyz7NMzXbeVE  N43W080.hgt        221  \n",
       "node_xkqAJ1VpXPdzBinWDNy6ap  N43W080.hgt        152  \n",
       "node_7Yw4z4edaiLya89AGQSyrd  N43W080.hgt        127  \n",
       "node_qf5NyuH4EPFfP9TLcpNw57  N43W080.hgt        118  \n",
       "node_mG6JbTyfqBrfQdgvxdsWHU  N43W080.hgt        165  \n",
       "node_jsHC4W7smyonhK2cjxYK1G  N43W080.hgt        145  "
      ]
     },
     "execution_count": 510,
     "metadata": {},
     "output_type": "execute_result"
    }
   ],
   "source": [
    "df"
   ]
  },
  {
   "cell_type": "code",
   "execution_count": 503,
   "id": "aa427f1e",
   "metadata": {},
   "outputs": [],
   "source": [
    "import srtm\n",
    "def get_elevation(lnglat):\n",
    "    elevation_data = srtm.get_data(srtm1=False)\n",
    "    return elevation_data.get_elevation(latitude=lnglat[1], longitude=lnglat[0])"
   ]
  },
  {
   "cell_type": "code",
   "execution_count": 505,
   "id": "cfde7efe",
   "metadata": {},
   "outputs": [],
   "source": [
    "nodes_list = [ tuple((geom.xy[0][0], geom.xy[1][0])) for geom in df['geometry'].values ]\n"
   ]
  },
  {
   "cell_type": "code",
   "execution_count": 507,
   "id": "77f72b97",
   "metadata": {},
   "outputs": [
    {
     "name": "stdout",
     "output_type": "stream",
     "text": [
      "4 2884802\n"
     ]
    },
    {
     "data": {
      "text/plain": [
       "[250, 253, 302, 223, 151, 127, 116, 165, 147]"
      ]
     },
     "execution_count": 507,
     "metadata": {},
     "output_type": "execute_result"
    }
   ],
   "source": []
  },
  {
   "cell_type": "code",
   "execution_count": 496,
   "id": "0c15ec0a",
   "metadata": {},
   "outputs": [
    {
     "data": {
      "text/plain": [
       "array(7217051.00001335)"
      ]
     },
     "execution_count": 496,
     "metadata": {},
     "output_type": "execute_result"
    }
   ],
   "source": [
    "interp = RegularGridInterpolator((lon, lat), alt, bounds_error=False, fill_value=None)\n",
    "\n",
    "interp((-74,45))"
   ]
  },
  {
   "cell_type": "code",
   "execution_count": 497,
   "id": "0d850e89",
   "metadata": {},
   "outputs": [],
   "source": [
    "import random\n",
    "i=random.randint(0,len(lon))\n",
    "j=random.randint(0,len(lat))"
   ]
  },
  {
   "cell_type": "code",
   "execution_count": 498,
   "id": "0a3be4ac",
   "metadata": {},
   "outputs": [
    {
     "name": "stdout",
     "output_type": "stream",
     "text": [
      "(-79.68833333333333, 43.14416666666666)\n",
      "198 198\n"
     ]
    }
   ],
   "source": [
    "print((lon[i],lat[j]))\n",
    "print(alt[i,j],int(interp((lon[i],lat[j]))))\n"
   ]
  },
  {
   "cell_type": "code",
   "execution_count": 499,
   "id": "fcd2f711",
   "metadata": {},
   "outputs": [
    {
     "name": "stdout",
     "output_type": "stream",
     "text": [
      "(-79.0, 44.0)\n",
      "251 251\n"
     ]
    }
   ],
   "source": [
    "i=-1\n",
    "j=-1\n",
    "print((lon[i],lat[j]))\n",
    "print(alt[i,j],int(interp((lon[i],lat[j]))))"
   ]
  },
  {
   "cell_type": "code",
   "execution_count": 500,
   "id": "ecd2b3fc",
   "metadata": {},
   "outputs": [
    {
     "data": {
      "text/plain": [
       "array([[208, 209, 207, ..., 320, 313, 305],\n",
       "       [209, 208, 208, ..., 319, 316, 309],\n",
       "       [211, 210, 208, ..., 316, 312, 314],\n",
       "       ...,\n",
       "       [183, 183, 185, ..., 247, 246, 249],\n",
       "       [182, 183, 188, ..., 246, 246, 249],\n",
       "       [184, 183, 188, ..., 244, 247, 251]], dtype=int16)"
      ]
     },
     "execution_count": 500,
     "metadata": {},
     "output_type": "execute_result"
    }
   ],
   "source": [
    "alt"
   ]
  },
  {
   "cell_type": "code",
   "execution_count": 501,
   "id": "f4a9711a",
   "metadata": {},
   "outputs": [
    {
     "data": {
      "text/plain": [
       "array([[184, 183, 188, ..., 244, 247, 251],\n",
       "       [182, 183, 188, ..., 246, 246, 249],\n",
       "       [183, 183, 185, ..., 247, 246, 249],\n",
       "       ...,\n",
       "       [211, 210, 208, ..., 316, 312, 314],\n",
       "       [209, 208, 208, ..., 319, 316, 309],\n",
       "       [208, 209, 207, ..., 320, 313, 305]], dtype=int16)"
      ]
     },
     "execution_count": 501,
     "metadata": {},
     "output_type": "execute_result"
    }
   ],
   "source": [
    "np.flip(alt,axis=0)"
   ]
  },
  {
   "cell_type": "code",
   "execution_count": 502,
   "id": "7a7bdb0e",
   "metadata": {},
   "outputs": [
    {
     "data": {
      "text/plain": [
       "array([[208, 209, 207, ..., 320, 313, 305],\n",
       "       [209, 208, 208, ..., 319, 316, 309],\n",
       "       [211, 210, 208, ..., 316, 312, 314],\n",
       "       ...,\n",
       "       [183, 183, 185, ..., 247, 246, 249],\n",
       "       [182, 183, 188, ..., 246, 246, 249],\n",
       "       [184, 183, 188, ..., 244, 247, 251]], dtype=int16)"
      ]
     },
     "execution_count": 502,
     "metadata": {},
     "output_type": "execute_result"
    }
   ],
   "source": [
    "def read_hgt_file(hgt_file, arc=3):\n",
    "\n",
    "    SAMPLES = int(3600/arc +1)\n",
    "\n",
    "    filename = hgt_file.split('/')[-1]\n",
    "\n",
    "    if filename.split('S')[0] != filename: lat0 = -int(filename.split('S')[-1][0:2])\n",
    "    if filename.split('N')[0] != filename: lat0 =  int(filename.split('N')[-1][0:2])\n",
    "    if filename.split('W')[0] != filename: lon0 = -int(filename.split('W')[-1][0:3])\n",
    "    if filename.split('E')[0] != filename: lon0 =  int(filename.split('E')[-1][0:3])\n",
    "\n",
    "    lat = np.linspace(lat0, lat0 + 1, SAMPLES)\n",
    "    lon = np.linspace(lon0, lon0 + 1, SAMPLES)\n",
    "\n",
    "    with open(hgt_file, 'rb') as hgt_data:\n",
    "        # Each data is 16bit signed integer(i2) - big endian(>)\n",
    "        elevation = np.fromfile(hgt_data, np.dtype('>i2'), SAMPLES*SAMPLES)\\\n",
    "                                .reshape((SAMPLES, SAMPLES))\n",
    "        return np.flip(elevation,axis=0).T, lat, lon\n",
    "alt, lat, lon = read_hgt_file('temp/{f}'.format(f=file),arc_dict[srtm])\n",
    "alt"
   ]
  },
  {
   "cell_type": "code",
   "execution_count": null,
   "id": "2f2c6b48",
   "metadata": {},
   "outputs": [],
   "source": []
  },
  {
   "cell_type": "code",
   "execution_count": null,
   "id": "8a72f837",
   "metadata": {},
   "outputs": [],
   "source": []
  },
  {
   "cell_type": "code",
   "execution_count": null,
   "id": "bcb57bf6",
   "metadata": {},
   "outputs": [],
   "source": []
  }
 ],
 "metadata": {
  "kernelspec": {
   "display_name": "quetzal_env",
   "language": "python",
   "name": "quetzal_env"
  },
  "language_info": {
   "codemirror_mode": {
    "name": "ipython",
    "version": 3
   },
   "file_extension": ".py",
   "mimetype": "text/x-python",
   "name": "python",
   "nbconvert_exporter": "python",
   "pygments_lexer": "ipython3",
   "version": "3.8.6"
  }
 },
 "nbformat": 4,
 "nbformat_minor": 5
}
