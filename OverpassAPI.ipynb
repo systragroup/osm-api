{
 "cells": [
  {
   "cell_type": "code",
   "execution_count": 1,
   "metadata": {},
   "outputs": [],
   "source": [
    "import numpy as np\n",
    "import pandas as pd\n",
    "import geopandas as gpd\n",
    "import requests\n",
    "from shapely.geometry import LineString\n",
    "\n",
    "import road"
   ]
  },
  {
   "cell_type": "code",
   "execution_count": 140,
   "metadata": {},
   "outputs": [],
   "source": [
    "bbox =(48.7861400822045,2.197526708826558,48.93467868121917,2.4458831002388592)\n",
    "\n",
    "\n",
    "highway_list = [\"motorway\", \"motorway_link\", \"trunk\", \"trunk_link\", \"primary\", \"primary_link\", \n",
    "                \"secondary\", \"secondary_link\", \"tertiary\", \"tertiary_link\", \"residential\"]"
   ]
  },
  {
   "cell_type": "code",
   "execution_count": 141,
   "metadata": {},
   "outputs": [],
   "source": [
    "overpass_url = \"http://overpass-api.de/api/interpreter\"\n",
    "overpass_query =\"\"\"\n",
    "[out:json][timeout:180];\n",
    "(\n",
    "\"\"\"\n",
    "overpass_query += ''.join([f'way[\"highway\"=\"{highway}\"]{bbox};\\n' for highway in highway_list])\n",
    "overpass_query +=\"\"\" \n",
    ");\n",
    "out body;\n",
    ">;\n",
    "out skel qt;\n",
    "\"\"\"\n",
    "\n",
    "response = requests.get(overpass_url, params={'data': overpass_query})\n",
    "data = response.json()"
   ]
  },
  {
   "cell_type": "code",
   "execution_count": 142,
   "metadata": {},
   "outputs": [
    {
     "data": {
      "text/plain": [
       "{'overpass_query': '\\n[out:json][timeout:180];\\n(\\nway[\"highway\"=\"motorway\"](48.7861400822045, 2.197526708826558, 48.93467868121917, 2.4458831002388592);\\nway[\"highway\"=\"motorway_link\"](48.7861400822045, 2.197526708826558, 48.93467868121917, 2.4458831002388592);\\nway[\"highway\"=\"trunk\"](48.7861400822045, 2.197526708826558, 48.93467868121917, 2.4458831002388592);\\nway[\"highway\"=\"trunk_link\"](48.7861400822045, 2.197526708826558, 48.93467868121917, 2.4458831002388592);\\nway[\"highway\"=\"primary\"](48.7861400822045, 2.197526708826558, 48.93467868121917, 2.4458831002388592);\\nway[\"highway\"=\"primary_link\"](48.7861400822045, 2.197526708826558, 48.93467868121917, 2.4458831002388592);\\nway[\"highway\"=\"secondary\"](48.7861400822045, 2.197526708826558, 48.93467868121917, 2.4458831002388592);\\nway[\"highway\"=\"secondary_link\"](48.7861400822045, 2.197526708826558, 48.93467868121917, 2.4458831002388592);\\nway[\"highway\"=\"tertiary\"](48.7861400822045, 2.197526708826558, 48.93467868121917, 2.4458831002388592);\\nway[\"highway\"=\"tertiary_link\"](48.7861400822045, 2.197526708826558, 48.93467868121917, 2.4458831002388592);\\nway[\"highway\"=\"residential\"](48.7861400822045, 2.197526708826558, 48.93467868121917, 2.4458831002388592);\\n \\n);\\nout body;\\n>;\\nout skel qt;\\n',\n",
       " 'tags': ['highway', 'maxspeed', 'lanes', 'name', 'oneway', 'surface']}"
      ]
     },
     "execution_count": 142,
     "metadata": {},
     "output_type": "execute_result"
    }
   ],
   "source": [
    "{'overpass_query': overpass_query,'tags': ['highway', 'maxspeed', 'lanes', 'name', 'oneway', 'surface']}"
   ]
  },
  {
   "cell_type": "code",
   "execution_count": 143,
   "metadata": {},
   "outputs": [
    {
     "data": {
      "text/plain": [
       "'\\n[out:json][timeout:180][bbox:{{bbox}}];\\n(\\nway[\"highway\"=\"residential\"]; // find all nodes in current bounding box with start_date tag\\n);\\nconvert way \\n    ::id = id(),\\n\\t\"nodes\" = geometry, // Should be implemened in futur version\\n\\t\"oneway\" = t[\"oneway\"];\\nout body;\\n>;\\nout skel qt;\\n'"
      ]
     },
     "execution_count": 143,
     "metadata": {},
     "output_type": "execute_result"
    }
   ],
   "source": [
    "\"\"\"\n",
    "[out:json][timeout:180][bbox:{{bbox}}];\n",
    "(\n",
    "way[\"highway\"=\"residential\"]; // find all nodes in current bounding box with start_date tag\n",
    ");\n",
    "convert way \n",
    "    ::id = id(),\n",
    "\t\"nodes\" = geometry, // Should be implemened in futur version\n",
    "\t\"oneway\" = t[\"oneway\"];\n",
    "out body;\n",
    ">;\n",
    "out skel qt;\n",
    "\"\"\""
   ]
  },
  {
   "cell_type": "markdown",
   "metadata": {},
   "source": [
    "overpass_url = \"http://overpass-api.de/api/interpreter\"\n",
    "data = []\n",
    "for highway in highway_list:\n",
    "    overpass_query =\"\"\"\n",
    "    [out:json][timeout:180];\n",
    "    (\n",
    "    \"\"\"\n",
    "    overpass_query += ''.join(f'way[\"highway\"={highway}]{bbox};\\n')\n",
    "    overpass_query +=\"\"\" \n",
    "    );\n",
    "    out body;\n",
    "    >;\n",
    "    out skel qt;\n",
    "    \"\"\"\n",
    "    data.append(overpass_query)\n"
   ]
  },
  {
   "cell_type": "markdown",
   "metadata": {},
   "source": [
    "import asyncio\n",
    "import aiohttp\n",
    "import time\n",
    "\n",
    "async def get(url, data, session):\n",
    "    try:\n",
    "        async with session.get(url=url, data=data) as response:\n",
    "            resp = await response.json()\n",
    "            print(\"Successfully got url {} with resp of length {}.\".format(url, len(resp)))\n",
    "            return await response\n",
    "    except Exception as e:\n",
    "        print(\"Unable to get url {} due to {}.\".format(url, e.__class__))\n",
    "\n",
    "\n",
    "async def main(url, data):\n",
    "    async with aiohttp.ClientSession() as session:\n",
    "        ret = await asyncio.gather(*[get(url, d, session) for d in data])\n",
    "    print(\"Finalized all. Return is a list of len {} outputs.\".format(len(ret)))\n",
    "    return ret"
   ]
  },
  {
   "cell_type": "markdown",
   "metadata": {},
   "source": [
    "response = await main(overpass_url, data)"
   ]
  },
  {
   "cell_type": "code",
   "execution_count": 144,
   "metadata": {},
   "outputs": [
    {
     "name": "stderr",
     "output_type": "stream",
     "text": [
      "/home/simon/anaconda3/envs/quetzal_env/lib/python3.8/site-packages/pandas/core/dtypes/cast.py:127: ShapelyDeprecationWarning: The array interface is deprecated and will no longer work in Shapely 2.0. Convert the '.coords' to a numpy array instead.\n",
      "  arr = construct_1d_object_array_from_listlike(values)\n"
     ]
    }
   ],
   "source": [
    "way = pd.DataFrame([d for d in data['elements'] if d['type'] == 'way']).set_index('id')\n",
    "nodes = pd.DataFrame([d for d in data['elements'] if d['type'] == 'node']).set_index('id')\n",
    "\n",
    "way_exploded = way.explode('nodes').merge(nodes[['lat','lon']], left_on='nodes', right_index=True, how='left')\n",
    "\n",
    "geom = way_exploded.groupby('id')[['lon', 'lat']].apply(lambda x: LineString(x.values))\n",
    "geom.name = 'geometry'\n",
    "way = gpd.GeoDataFrame(way.join(geom), crs=4326)\n"
   ]
  },
  {
   "cell_type": "code",
   "execution_count": 145,
   "metadata": {},
   "outputs": [],
   "source": [
    "tags = pd.DataFrame.from_records(way['tags'].values, index=way['tags'].index)\n",
    "cols = ['highway', 'maxspeed', 'lanes', 'name', 'oneway', 'surface']"
   ]
  },
  {
   "cell_type": "code",
   "execution_count": 146,
   "metadata": {},
   "outputs": [],
   "source": [
    "way_tags = way.drop(columns=['nodes', 'tags'], errors='ignore').join(tags[cols])"
   ]
  },
  {
   "cell_type": "code",
   "execution_count": 147,
   "metadata": {},
   "outputs": [],
   "source": [
    "# OSMNX add edges speed, length and time\n",
    "# garder les liens fortement connexes\n",
    "# retirer les noeuds de degree 2"
   ]
  },
  {
   "cell_type": "code",
   "execution_count": null,
   "metadata": {},
   "outputs": [],
   "source": [
    "# SOME CLEANING ON THE ONEWAY ... Work In Progress\n",
    "way_tags['oneway'].fillna('no', inplace=True)\n",
    "way_tags['oneway'] = way_tags['oneway'].replace('yes', True).replace('no', False).replace('-1', False).replace(-1, False).replace('alternating',False)\n"
   ]
  },
  {
   "cell_type": "code",
   "execution_count": 148,
   "metadata": {},
   "outputs": [],
   "source": [
    "way_tags.to_file('way.geojson',driver='GeoJSON')"
   ]
  },
  {
   "cell_type": "code",
   "execution_count": 149,
   "metadata": {},
   "outputs": [],
   "source": [
    "links, nodes = road.get_links_and_nodes('way.geojson', split_direction=True)\n",
    "nodes = nodes.set_crs(links.crs)"
   ]
  },
  {
   "cell_type": "code",
   "execution_count": 150,
   "metadata": {},
   "outputs": [
    {
     "name": "stdout",
     "output_type": "stream",
     "text": [
      "35259\n",
      "65240\n"
     ]
    }
   ],
   "source": [
    "print(len(way_tags))\n",
    "print(len(links))"
   ]
  },
  {
   "cell_type": "code",
   "execution_count": 151,
   "metadata": {},
   "outputs": [
    {
     "name": "stderr",
     "output_type": "stream",
     "text": [
      "/tmp/ipykernel_3598/4009958376.py:20: FutureWarning: Passing a set as an indexer is deprecated and will raise in a future version. Use a list instead.\n",
      "  n = nodes.loc[main_scc]\n"
     ]
    }
   ],
   "source": [
    "import networkx as nx\n",
    "def main_strongly_connected_component(links, nodes=None, add_reverse=True):\n",
    "\n",
    "    graph = nx.DiGraph()\n",
    "    graph.add_edges_from(links[['a', 'b']].values.tolist())\n",
    "    if 'oneway' in links.columns and add_reverse :\n",
    "        graph.add_edges_from(\n",
    "            links.loc[~links['oneway'].astype(bool)][['b', 'a']].values.tolist()\n",
    "        )\n",
    "\n",
    "    main_scc = None\n",
    "    size = 0\n",
    "    for scc in nx.strongly_connected_components(graph):\n",
    "        if len(scc) > size :\n",
    "            size = len(scc)\n",
    "            main_scc = scc\n",
    "\n",
    "    l = links.loc[links['a'].isin(main_scc) & links['b'].isin(main_scc)]\n",
    "    if nodes is not None:\n",
    "        n = nodes.loc[main_scc]\n",
    "        return l, n\n",
    "    return l \n",
    "    \n",
    "\n",
    "\n",
    "main_links, main_nodes = main_strongly_connected_component(links, nodes, add_reverse=False)"
   ]
  },
  {
   "cell_type": "code",
   "execution_count": 152,
   "metadata": {},
   "outputs": [
    {
     "name": "stdout",
     "output_type": "stream",
     "text": [
      "61107\n"
     ]
    }
   ],
   "source": [
    "print(len(main_links))"
   ]
  },
  {
   "cell_type": "code",
   "execution_count": 153,
   "metadata": {},
   "outputs": [],
   "source": [
    "links = main_links.copy()\n",
    "nodes = main_nodes.copy()\n",
    "\n",
    "links['length'] = links.to_crs(32618).length\n",
    "\n",
    "\n",
    "links['maxspeed'] = links['maxspeed'].str.lower().str.replace('kph', '')\n",
    "try:\n",
    "    mph_index = links['maxspeed'].astype(str).str.lower().str.contains('mph')\n",
    "    links.loc[mph_index,'maxspeed'] = links.loc[mph_index,'maxspeed'].str.lower().str.replace('mph','').astype('float')* 1.60934\n",
    "except:\n",
    "    print('fail to convert mph in maxspeed to float ')\n",
    "    \n",
    "links.loc[~links['maxspeed'].astype(str).str.isdigit(),'maxspeed']=np.nan\n",
    "links['maxspeed'] = pd.to_numeric(links['maxspeed'])\n",
    "speed_dict = links.dropna().groupby('highway')['maxspeed'].agg(np.mean).to_dict()\n",
    "links.loc[~np.isfinite(links['maxspeed']),'maxspeed'] = links.loc[~np.isfinite(links['maxspeed']),'highway'].apply(lambda x: speed_dict.get(x))\n",
    "links['time'] = links['length']/(links['maxspeed']*1000/3600)"
   ]
  },
  {
   "cell_type": "code",
   "execution_count": 154,
   "metadata": {},
   "outputs": [
    {
     "name": "stderr",
     "output_type": "stream",
     "text": [
      "/home/simon/anaconda3/envs/quetzal_env/lib/python3.8/site-packages/geopandas/io/file.py:299: FutureWarning: pandas.Int64Index is deprecated and will be removed from pandas in a future version. Use pandas.Index with the appropriate dtype instead.\n",
      "  pd.Int64Index,\n"
     ]
    }
   ],
   "source": [
    "links.to_file('links.geojson')\n",
    "nodes.to_file('nodes.geojson')"
   ]
  },
  {
   "cell_type": "code",
   "execution_count": null,
   "metadata": {
    "scrolled": true
   },
   "outputs": [],
   "source": []
  },
  {
   "cell_type": "code",
   "execution_count": null,
   "metadata": {},
   "outputs": [],
   "source": [
    "\n",
    "\n"
   ]
  },
  {
   "cell_type": "code",
   "execution_count": null,
   "metadata": {},
   "outputs": [],
   "source": []
  },
  {
   "cell_type": "code",
   "execution_count": null,
   "metadata": {},
   "outputs": [],
   "source": []
  },
  {
   "cell_type": "code",
   "execution_count": null,
   "metadata": {},
   "outputs": [],
   "source": []
  }
 ],
 "metadata": {
  "kernelspec": {
   "display_name": "quetzal_env",
   "language": "python",
   "name": "quetzal_env"
  },
  "language_info": {
   "codemirror_mode": {
    "name": "ipython",
    "version": 3
   },
   "file_extension": ".py",
   "mimetype": "text/x-python",
   "name": "python",
   "nbconvert_exporter": "python",
   "pygments_lexer": "ipython3",
   "version": "3.8.16"
  }
 },
 "nbformat": 4,
 "nbformat_minor": 2
}
