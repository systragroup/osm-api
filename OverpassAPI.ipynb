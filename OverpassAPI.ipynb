{
 "cells": [
  {
   "cell_type": "code",
   "execution_count": 48,
   "metadata": {},
   "outputs": [],
   "source": [
    "import numpy as np\n",
    "import pandas as pd\n",
    "import geopandas as gpd\n",
    "import requests\n",
    "from shapely.geometry import LineString\n",
    "\n",
    "import road"
   ]
  },
  {
   "cell_type": "code",
   "execution_count": 49,
   "metadata": {},
   "outputs": [],
   "source": [
    "bbox =(48.7861400822045,2.197526708826558,48.93467868121917,2.4458831002388592)\n",
    "bbox = (45.516336095754156, -73.6492855702676, 45.644709880535515, -73.44752816469271)\n",
    "\n",
    "highway_list = [\"motorway\", \"motorway_link\", \"trunk\", \"trunk_link\", \"primary\", \"primary_link\", \n",
    "                \"secondary\", \"secondary_link\", \"tertiary\", \"tertiary_link\", \"residential\"]\n",
    "highway_list = [\"motorway\", \"motorway_link\", \"trunk\", \"trunk_link\", \"primary\", \"primary_link\"]"
   ]
  },
  {
   "cell_type": "code",
   "execution_count": 50,
   "metadata": {},
   "outputs": [],
   "source": [
    "overpass_url = \"http://overpass-api.de/api/interpreter\"\n",
    "overpass_query =\"\"\"\n",
    "[out:json][timeout:180];\n",
    "(\n",
    "\"\"\"\n",
    "overpass_query += ''.join([f'way[\"highway\"=\"{highway}\"]{bbox};\\n' for highway in highway_list])\n",
    "overpass_query +=\"\"\" \n",
    ");\n",
    "out body;\n",
    ">;\n",
    "out skel qt;\n",
    "\"\"\"\n",
    "\n",
    "response = requests.get(overpass_url, params={'data': overpass_query})\n",
    "data = response.json()"
   ]
  },
  {
   "cell_type": "code",
   "execution_count": 51,
   "metadata": {},
   "outputs": [
    {
     "data": {
      "text/plain": [
       "{'overpass_query': '\\n[out:json][timeout:180];\\n(\\nway[\"highway\"=\"motorway\"](45.516336095754156, -73.6492855702676, 45.644709880535515, -73.44752816469271);\\nway[\"highway\"=\"motorway_link\"](45.516336095754156, -73.6492855702676, 45.644709880535515, -73.44752816469271);\\nway[\"highway\"=\"trunk\"](45.516336095754156, -73.6492855702676, 45.644709880535515, -73.44752816469271);\\nway[\"highway\"=\"trunk_link\"](45.516336095754156, -73.6492855702676, 45.644709880535515, -73.44752816469271);\\nway[\"highway\"=\"primary\"](45.516336095754156, -73.6492855702676, 45.644709880535515, -73.44752816469271);\\nway[\"highway\"=\"primary_link\"](45.516336095754156, -73.6492855702676, 45.644709880535515, -73.44752816469271);\\n \\n);\\nout body;\\n>;\\nout skel qt;\\n',\n",
       " 'tags': ['highway', 'maxspeed', 'lanes', 'name', 'oneway', 'surface']}"
      ]
     },
     "execution_count": 51,
     "metadata": {},
     "output_type": "execute_result"
    }
   ],
   "source": [
    "{'overpass_query': overpass_query,'tags': ['highway', 'maxspeed', 'lanes', 'name', 'oneway', 'surface']}"
   ]
  },
  {
   "cell_type": "code",
   "execution_count": 52,
   "metadata": {},
   "outputs": [
    {
     "data": {
      "text/plain": [
       "'\\n[out:json][timeout:180][bbox:{{bbox}}];\\n(\\nway[\"highway\"=\"residential\"]; // find all nodes in current bounding box with start_date tag\\n);\\nconvert way \\n    ::id = id(),\\n\\t\"nodes\" = geometry, // Should be implemened in futur version\\n\\t\"oneway\" = t[\"oneway\"];\\nout body;\\n>;\\nout skel qt;\\n'"
      ]
     },
     "execution_count": 52,
     "metadata": {},
     "output_type": "execute_result"
    }
   ],
   "source": [
    "\"\"\"\n",
    "[out:json][timeout:180][bbox:{{bbox}}];\n",
    "(\n",
    "way[\"highway\"=\"residential\"]; // find all nodes in current bounding box with start_date tag\n",
    ");\n",
    "convert way \n",
    "    ::id = id(),\n",
    "\t\"nodes\" = geometry, // Should be implemened in futur version\n",
    "\t\"oneway\" = t[\"oneway\"];\n",
    "out body;\n",
    ">;\n",
    "out skel qt;\n",
    "\"\"\""
   ]
  },
  {
   "cell_type": "markdown",
   "metadata": {},
   "source": [
    "overpass_url = \"http://overpass-api.de/api/interpreter\"\n",
    "data = []\n",
    "for highway in highway_list:\n",
    "    overpass_query =\"\"\"\n",
    "    [out:json][timeout:180];\n",
    "    (\n",
    "    \"\"\"\n",
    "    overpass_query += ''.join(f'way[\"highway\"={highway}]{bbox};\\n')\n",
    "    overpass_query +=\"\"\" \n",
    "    );\n",
    "    out body;\n",
    "    >;\n",
    "    out skel qt;\n",
    "    \"\"\"\n",
    "    data.append(overpass_query)\n"
   ]
  },
  {
   "cell_type": "markdown",
   "metadata": {},
   "source": [
    "import asyncio\n",
    "import aiohttp\n",
    "import time\n",
    "\n",
    "async def get(url, data, session):\n",
    "    try:\n",
    "        async with session.get(url=url, data=data) as response:\n",
    "            resp = await response.json()\n",
    "            print(\"Successfully got url {} with resp of length {}.\".format(url, len(resp)))\n",
    "            return await response\n",
    "    except Exception as e:\n",
    "        print(\"Unable to get url {} due to {}.\".format(url, e.__class__))\n",
    "\n",
    "\n",
    "async def main(url, data):\n",
    "    async with aiohttp.ClientSession() as session:\n",
    "        ret = await asyncio.gather(*[get(url, d, session) for d in data])\n",
    "    print(\"Finalized all. Return is a list of len {} outputs.\".format(len(ret)))\n",
    "    return ret"
   ]
  },
  {
   "cell_type": "markdown",
   "metadata": {},
   "source": [
    "response = await main(overpass_url, data)"
   ]
  },
  {
   "cell_type": "code",
   "execution_count": 53,
   "metadata": {},
   "outputs": [
    {
     "name": "stderr",
     "output_type": "stream",
     "text": [
      "/home/boivin/.pyenv/versions/quetzal_env/lib/python3.8/site-packages/pandas/core/dtypes/cast.py:127: ShapelyDeprecationWarning: The array interface is deprecated and will no longer work in Shapely 2.0. Convert the '.coords' to a numpy array instead.\n",
      "  arr = construct_1d_object_array_from_listlike(values)\n"
     ]
    }
   ],
   "source": [
    "way = pd.DataFrame([d for d in data['elements'] if d['type'] == 'way']).set_index('id')\n",
    "nodes = pd.DataFrame([d for d in data['elements'] if d['type'] == 'node']).set_index('id')\n",
    "\n",
    "way_exploded = way.explode('nodes').merge(nodes[['lat','lon']], left_on='nodes', right_index=True, how='left')\n",
    "\n",
    "geom = way_exploded.groupby('id')[['lon', 'lat']].apply(lambda x: LineString(x.values))\n",
    "geom.name = 'geometry'\n",
    "way = gpd.GeoDataFrame(way.join(geom), crs=4326)\n"
   ]
  },
  {
   "cell_type": "code",
   "execution_count": 54,
   "metadata": {},
   "outputs": [],
   "source": [
    "tags = pd.DataFrame.from_records(way['tags'].values, index=way['tags'].index)\n",
    "cols = ['highway', 'maxspeed', 'lanes', 'name', 'oneway', 'surface']"
   ]
  },
  {
   "cell_type": "code",
   "execution_count": 55,
   "metadata": {},
   "outputs": [],
   "source": [
    "way_tags = way.drop(columns=['nodes', 'tags'], errors='ignore').join(tags[cols])"
   ]
  },
  {
   "cell_type": "code",
   "execution_count": 56,
   "metadata": {},
   "outputs": [],
   "source": [
    "# OSMNX add edges speed, length and time\n",
    "# garder les liens fortement connexes\n",
    "# retirer les noeuds de degree 2"
   ]
  },
  {
   "cell_type": "code",
   "execution_count": 57,
   "metadata": {},
   "outputs": [],
   "source": [
    "# SOME CLEANING ON THE ONEWAY ... Work In Progress\n",
    "way_tags['oneway'].fillna('no', inplace=True)\n",
    "way_tags['oneway'] = way_tags['oneway'].replace('yes', True).replace('no', False).replace('-1', False).replace(-1, False).replace('alternating',False)\n"
   ]
  },
  {
   "cell_type": "code",
   "execution_count": 58,
   "metadata": {},
   "outputs": [],
   "source": [
    "way_tags.to_file('way.geojson',driver='GeoJSON')"
   ]
  },
  {
   "cell_type": "code",
   "execution_count": 59,
   "metadata": {},
   "outputs": [],
   "source": [
    "links, nodes = road.get_links_and_nodes('way.geojson', split_direction=False)\n",
    "nodes = nodes.set_crs(links.crs)"
   ]
  },
  {
   "cell_type": "code",
   "execution_count": 60,
   "metadata": {},
   "outputs": [
    {
     "name": "stdout",
     "output_type": "stream",
     "text": [
      "1566\n",
      "1612\n"
     ]
    }
   ],
   "source": [
    "print(len(way_tags))\n",
    "print(len(links))"
   ]
  },
  {
   "cell_type": "code",
   "execution_count": 61,
   "metadata": {},
   "outputs": [],
   "source": [
    "links = road.clean_maxspeed(links)"
   ]
  },
  {
   "cell_type": "code",
   "execution_count": null,
   "metadata": {},
   "outputs": [],
   "source": []
  },
  {
   "cell_type": "code",
   "execution_count": 62,
   "metadata": {},
   "outputs": [
    {
     "name": "stdout",
     "output_type": "stream",
     "text": [
      "0 geometry to inverse\n"
     ]
    }
   ],
   "source": [
    "links = road.rectify_geometry_direction(links,nodes)"
   ]
  },
  {
   "cell_type": "code",
   "execution_count": 63,
   "metadata": {},
   "outputs": [
    {
     "name": "stdout",
     "output_type": "stream",
     "text": [
      "0 links dropped\n"
     ]
    }
   ],
   "source": [
    "links = road.drop_duplicated_links(links)"
   ]
  },
  {
   "cell_type": "code",
   "execution_count": null,
   "metadata": {},
   "outputs": [],
   "source": []
  },
  {
   "cell_type": "code",
   "execution_count": 64,
   "metadata": {},
   "outputs": [
    {
     "data": {
      "text/plain": [
       "1612"
      ]
     },
     "execution_count": 64,
     "metadata": {},
     "output_type": "execute_result"
    }
   ],
   "source": [
    "len(links)"
   ]
  },
  {
   "cell_type": "code",
   "execution_count": 65,
   "metadata": {},
   "outputs": [
    {
     "name": "stdout",
     "output_type": "stream",
     "text": [
      "278 deg 2 nodes\n",
      "find path with large cutoff for 15  origins\n",
      "find path with large cutoff for 2  origins\n",
      "0 links were not merge because the oneway field is not the same\n",
      "0 links were not merge because the highway field is not the same\n",
      "0 merged_links unmerged because the geometry became a multilinestring\n"
     ]
    },
    {
     "data": {
      "text/plain": [
       "947"
      ]
     },
     "execution_count": 65,
     "metadata": {},
     "output_type": "execute_result"
    }
   ],
   "source": [
    "links = road.simplify(links)\n",
    "len(links)"
   ]
  },
  {
   "cell_type": "code",
   "execution_count": 66,
   "metadata": {},
   "outputs": [
    {
     "data": {
      "text/plain": [
       "1024"
      ]
     },
     "execution_count": 66,
     "metadata": {},
     "output_type": "execute_result"
    }
   ],
   "source": [
    "links = road.split_oneway(links)\n",
    "len(links)"
   ]
  },
  {
   "cell_type": "code",
   "execution_count": 67,
   "metadata": {},
   "outputs": [
    {
     "data": {
      "text/plain": [
       "347"
      ]
     },
     "execution_count": 67,
     "metadata": {},
     "output_type": "execute_result"
    }
   ],
   "source": [
    "links = road.main_strongly_connected_component(links,None,False)\n",
    "len(links)"
   ]
  },
  {
   "cell_type": "code",
   "execution_count": 68,
   "metadata": {},
   "outputs": [
    {
     "name": "stderr",
     "output_type": "stream",
     "text": [
      "/tmp/ipykernel_363393/3507984463.py:3: RuntimeWarning: Mean of empty slice\n",
      "  return  function([new_type(val) for val in col_values])\n"
     ]
    }
   ],
   "source": [
    "def process_list_in_col(col_values,new_type,function):\n",
    "    if isinstance(col_values, list):\n",
    "        return  function([new_type(val) for val in col_values])\n",
    "    else:\n",
    "        return new_type(col_values)\n",
    "    \n",
    "def remove_list_in_col(col_values,method='first'):\n",
    "    if isinstance(col_values, list):\n",
    "        if method == 'first':\n",
    "            return col_values[0]\n",
    "        else:\n",
    "            return col_values[-1]\n",
    "        \n",
    "    else:\n",
    "        return col_values\n",
    "    \n",
    "links['maxspeed'] = links['maxspeed'].apply(lambda x: process_list_in_col(x,float,np.nanmean))\n",
    "links['lanes'] = links['lanes'].apply(lambda x: process_list_in_col(x,float,np.nanmean)).apply(lambda x: np.floor(x))"
   ]
  },
  {
   "cell_type": "code",
   "execution_count": 69,
   "metadata": {},
   "outputs": [],
   "source": [
    "for col in ['id', 'type', 'highway','name','surface']:\n",
    "    links[col] = links[col].apply(lambda x: remove_list_in_col(x,'first'))"
   ]
  },
  {
   "cell_type": "code",
   "execution_count": 70,
   "metadata": {},
   "outputs": [],
   "source": [
    "links['length'] = links.to_crs(32618).length\n"
   ]
  },
  {
   "cell_type": "code",
   "execution_count": null,
   "metadata": {},
   "outputs": [],
   "source": []
  },
  {
   "cell_type": "code",
   "execution_count": 71,
   "metadata": {},
   "outputs": [],
   "source": [
    "\n",
    "\n",
    "\n",
    "    \n",
    "links.loc[~links['maxspeed'].astype(str).str.isdigit(),'maxspeed']=np.nan\n",
    "links['maxspeed'] = pd.to_numeric(links['maxspeed'])\n",
    "speed_dict = links.dropna().groupby('highway')['maxspeed'].agg(np.mean).to_dict()\n",
    "links.loc[~np.isfinite(links['maxspeed']),'maxspeed'] = links.loc[~np.isfinite(links['maxspeed']),'highway'].apply(lambda x: speed_dict.get(x))\n",
    "links['time'] = links['length']/(links['maxspeed']*1000/3600)"
   ]
  },
  {
   "cell_type": "code",
   "execution_count": 72,
   "metadata": {},
   "outputs": [],
   "source": [
    "links['lanes'] = pd.to_numeric(links['lanes'])\n",
    "lane_dict = links.groupby('highway')['lanes'].agg(np.nanmean).apply(lambda x: np.floor(x)).to_dict()\n",
    "links.loc[~np.isfinite(links['lanes']),'lanes'] = links.loc[~np.isfinite(links['lanes']),'highway'].apply(lambda x: lane_dict.get(x))\n"
   ]
  },
  {
   "cell_type": "code",
   "execution_count": 73,
   "metadata": {},
   "outputs": [],
   "source": [
    "links = links.drop(columns=['id','type','oneway','surface'])\n",
    "links.geometry = links.simplify(0.00003)"
   ]
  },
  {
   "cell_type": "code",
   "execution_count": 74,
   "metadata": {},
   "outputs": [
    {
     "name": "stderr",
     "output_type": "stream",
     "text": [
      "/tmp/ipykernel_363393/722026835.py:6: FutureWarning: Passing a set as an indexer is deprecated and will raise in a future version. Use a list instead.\n",
      "  nodes = nodes.loc[nodes_set].sort_index()\n"
     ]
    }
   ],
   "source": [
    "links = links.reset_index(drop=True)\n",
    "links.index = 'road_link_'+links.index.astype(str)\n",
    "\n",
    "nodes_set = set(links['a']).union(set(links['b']))\n",
    "\n",
    "nodes = nodes.loc[nodes_set].sort_index()\n"
   ]
  },
  {
   "cell_type": "code",
   "execution_count": null,
   "metadata": {},
   "outputs": [],
   "source": []
  },
  {
   "cell_type": "code",
   "execution_count": 75,
   "metadata": {},
   "outputs": [
    {
     "name": "stdout",
     "output_type": "stream",
     "text": [
      "0 links dropped\n"
     ]
    }
   ],
   "source": [
    "links = road.drop_duplicated_links(links)\n"
   ]
  },
  {
   "cell_type": "markdown",
   "metadata": {},
   "source": [
    "# Elevation"
   ]
  },
  {
   "cell_type": "code",
   "execution_count": null,
   "metadata": {},
   "outputs": [],
   "source": []
  },
  {
   "cell_type": "code",
   "execution_count": null,
   "metadata": {},
   "outputs": [],
   "source": []
  },
  {
   "cell_type": "code",
   "execution_count": null,
   "metadata": {},
   "outputs": [],
   "source": []
  },
  {
   "cell_type": "code",
   "execution_count": null,
   "metadata": {},
   "outputs": [],
   "source": []
  },
  {
   "cell_type": "code",
   "execution_count": 90,
   "metadata": {},
   "outputs": [],
   "source": [
    "links.to_file('road_links.geojson')\n",
    "nodes.to_file('road_nodes.geojson')"
   ]
  },
  {
   "cell_type": "code",
   "execution_count": null,
   "metadata": {
    "scrolled": true
   },
   "outputs": [],
   "source": []
  },
  {
   "cell_type": "code",
   "execution_count": null,
   "metadata": {},
   "outputs": [],
   "source": [
    "\n",
    "\n"
   ]
  },
  {
   "cell_type": "code",
   "execution_count": null,
   "metadata": {},
   "outputs": [],
   "source": []
  },
  {
   "cell_type": "code",
   "execution_count": null,
   "metadata": {},
   "outputs": [],
   "source": []
  },
  {
   "cell_type": "code",
   "execution_count": null,
   "metadata": {},
   "outputs": [],
   "source": []
  }
 ],
 "metadata": {
  "kernelspec": {
   "display_name": "quetzal_env",
   "language": "python",
   "name": "quetzal_env"
  },
  "language_info": {
   "codemirror_mode": {
    "name": "ipython",
    "version": 3
   },
   "file_extension": ".py",
   "mimetype": "text/x-python",
   "name": "python",
   "nbconvert_exporter": "python",
   "pygments_lexer": "ipython3",
   "version": "3.8.6"
  }
 },
 "nbformat": 4,
 "nbformat_minor": 2
}
