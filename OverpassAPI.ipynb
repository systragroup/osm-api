{
 "cells": [
  {
   "cell_type": "code",
   "execution_count": 87,
   "metadata": {},
   "outputs": [],
   "source": [
    "import numpy as np\n",
    "import pandas as pd\n",
    "import geopandas as gpd\n",
    "import requests\n",
    "from shapely.geometry import LineString\n",
    "\n",
    "import road"
   ]
  },
  {
   "cell_type": "code",
   "execution_count": 88,
   "metadata": {},
   "outputs": [],
   "source": [
    "bbox =(48.7861400822045,2.197526708826558,48.93467868121917,2.4458831002388592)\n",
    "bbox = (45.35276166629745, -74.12530920957301, 45.767754586870245, -73.20753918222151)\n",
    "\n",
    "\n",
    "highway_list = [\"motorway\", \"motorway_link\", \"trunk\", \"trunk_link\", \"primary\", \"primary_link\", \n",
    "                \"secondary\", \"secondary_link\", \"tertiary\", \"tertiary_link\"]\n",
    "highway_list = ['motorway',\n",
    "        'motorway_link',\n",
    "        'trunk',\n",
    "        'trunk_link',\n",
    "        'primary',\n",
    "        'primary_link',\n",
    "        'secondary',\n",
    "        'secondary_link',\n",
    "        'tertiary',\n",
    "        'tertiary_link',\n",
    "        'residential',\n",
    "        'service',\n",
    "        'unclassified']"
   ]
  },
  {
   "cell_type": "code",
   "execution_count": 89,
   "metadata": {},
   "outputs": [],
   "source": [
    "overpass_url = \"http://overpass-api.de/api/interpreter\"\n",
    "overpass_query =\"\"\"\n",
    "[out:json][timeout:180];\n",
    "(\n",
    "\"\"\"\n",
    "overpass_query += ''.join([f'way[\"highway\"=\"{highway}\"]{bbox};\\n' for highway in highway_list])\n",
    "overpass_query +=\"\"\" \n",
    ");\n",
    "out body;\n",
    ">;\n",
    "out skel qt;\n",
    "\"\"\"\n",
    "\n",
    "response = requests.get(overpass_url, params={'data': overpass_query})\n",
    "data = response.json()"
   ]
  },
  {
   "cell_type": "code",
   "execution_count": 90,
   "metadata": {},
   "outputs": [
    {
     "data": {
      "text/plain": [
       "{'overpass_query': '\\n[out:json][timeout:180];\\n(\\nway[\"highway\"=\"motorway\"](45.35276166629745, -74.125309209573, 45.76775458687025, -73.20753918222151);\\nway[\"highway\"=\"motorway_link\"](45.35276166629745, -74.125309209573, 45.76775458687025, -73.20753918222151);\\nway[\"highway\"=\"trunk\"](45.35276166629745, -74.125309209573, 45.76775458687025, -73.20753918222151);\\nway[\"highway\"=\"trunk_link\"](45.35276166629745, -74.125309209573, 45.76775458687025, -73.20753918222151);\\nway[\"highway\"=\"primary\"](45.35276166629745, -74.125309209573, 45.76775458687025, -73.20753918222151);\\nway[\"highway\"=\"primary_link\"](45.35276166629745, -74.125309209573, 45.76775458687025, -73.20753918222151);\\nway[\"highway\"=\"secondary\"](45.35276166629745, -74.125309209573, 45.76775458687025, -73.20753918222151);\\nway[\"highway\"=\"secondary_link\"](45.35276166629745, -74.125309209573, 45.76775458687025, -73.20753918222151);\\nway[\"highway\"=\"tertiary\"](45.35276166629745, -74.125309209573, 45.76775458687025, -73.20753918222151);\\nway[\"highway\"=\"tertiary_link\"](45.35276166629745, -74.125309209573, 45.76775458687025, -73.20753918222151);\\nway[\"highway\"=\"residential\"](45.35276166629745, -74.125309209573, 45.76775458687025, -73.20753918222151);\\nway[\"highway\"=\"service\"](45.35276166629745, -74.125309209573, 45.76775458687025, -73.20753918222151);\\nway[\"highway\"=\"unclassified\"](45.35276166629745, -74.125309209573, 45.76775458687025, -73.20753918222151);\\n \\n);\\nout body;\\n>;\\nout skel qt;\\n',\n",
       " 'tags': ['highway',\n",
       "  'maxspeed',\n",
       "  'lanes',\n",
       "  'name',\n",
       "  'oneway',\n",
       "  'surface',\n",
       "  'direction']}"
      ]
     },
     "execution_count": 90,
     "metadata": {},
     "output_type": "execute_result"
    }
   ],
   "source": [
    "{'overpass_query': overpass_query,'tags': ['highway', 'maxspeed', 'lanes', 'name', 'oneway', 'surface','direction']}"
   ]
  },
  {
   "cell_type": "code",
   "execution_count": null,
   "metadata": {},
   "outputs": [],
   "source": []
  },
  {
   "cell_type": "code",
   "execution_count": 91,
   "metadata": {},
   "outputs": [
    {
     "data": {
      "text/plain": [
       "'\\n[out:json][timeout:180][bbox:{{bbox}}];\\n(\\nway[\"highway\"=\"residential\"]; // find all nodes in current bounding box with start_date tag\\n);\\nconvert way \\n    ::id = id(),\\n\\t\"nodes\" = geometry, // Should be implemened in futur version\\n\\t\"oneway\" = t[\"oneway\"];\\nout body;\\n>;\\nout skel qt;\\n'"
      ]
     },
     "execution_count": 91,
     "metadata": {},
     "output_type": "execute_result"
    }
   ],
   "source": [
    "\"\"\"\n",
    "[out:json][timeout:180][bbox:{{bbox}}];\n",
    "(\n",
    "way[\"highway\"=\"residential\"]; // find all nodes in current bounding box with start_date tag\n",
    ");\n",
    "convert way \n",
    "    ::id = id(),\n",
    "\t\"nodes\" = geometry, // Should be implemened in futur version\n",
    "\t\"oneway\" = t[\"oneway\"];\n",
    "out body;\n",
    ">;\n",
    "out skel qt;\n",
    "\"\"\""
   ]
  },
  {
   "cell_type": "markdown",
   "metadata": {},
   "source": [
    "overpass_url = \"http://overpass-api.de/api/interpreter\"\n",
    "data = []\n",
    "for highway in highway_list:\n",
    "    overpass_query =\"\"\"\n",
    "    [out:json][timeout:180];\n",
    "    (\n",
    "    \"\"\"\n",
    "    overpass_query += ''.join(f'way[\"highway\"={highway}]{bbox};\\n')\n",
    "    overpass_query +=\"\"\" \n",
    "    );\n",
    "    out body;\n",
    "    >;\n",
    "    out skel qt;\n",
    "    \"\"\"\n",
    "    data.append(overpass_query)\n"
   ]
  },
  {
   "cell_type": "markdown",
   "metadata": {},
   "source": [
    "import asyncio\n",
    "import aiohttp\n",
    "import time\n",
    "\n",
    "async def get(url, data, session):\n",
    "    try:\n",
    "        async with session.get(url=url, data=data) as response:\n",
    "            resp = await response.json()\n",
    "            print(\"Successfully got url {} with resp of length {}.\".format(url, len(resp)))\n",
    "            return await response\n",
    "    except Exception as e:\n",
    "        print(\"Unable to get url {} due to {}.\".format(url, e.__class__))\n",
    "\n",
    "\n",
    "async def main(url, data):\n",
    "    async with aiohttp.ClientSession() as session:\n",
    "        ret = await asyncio.gather(*[get(url, d, session) for d in data])\n",
    "    print(\"Finalized all. Return is a list of len {} outputs.\".format(len(ret)))\n",
    "    return ret"
   ]
  },
  {
   "cell_type": "code",
   "execution_count": 92,
   "metadata": {},
   "outputs": [
    {
     "data": {
      "text/html": [
       "<div>\n",
       "<style scoped>\n",
       "    .dataframe tbody tr th:only-of-type {\n",
       "        vertical-align: middle;\n",
       "    }\n",
       "\n",
       "    .dataframe tbody tr th {\n",
       "        vertical-align: top;\n",
       "    }\n",
       "\n",
       "    .dataframe thead th {\n",
       "        text-align: right;\n",
       "    }\n",
       "</style>\n",
       "<table border=\"1\" class=\"dataframe\">\n",
       "  <thead>\n",
       "    <tr style=\"text-align: right;\">\n",
       "      <th></th>\n",
       "      <th>type</th>\n",
       "      <th>nodes</th>\n",
       "      <th>tags</th>\n",
       "    </tr>\n",
       "    <tr>\n",
       "      <th>id</th>\n",
       "      <th></th>\n",
       "      <th></th>\n",
       "      <th></th>\n",
       "    </tr>\n",
       "  </thead>\n",
       "  <tbody>\n",
       "    <tr>\n",
       "      <th>3453107</th>\n",
       "      <td>way</td>\n",
       "      <td>[35834692, 9775746790]</td>\n",
       "      <td>{'NHS': 'yes', 'highway': 'motorway', 'lanes':...</td>\n",
       "    </tr>\n",
       "    <tr>\n",
       "      <th>4320292</th>\n",
       "      <td>way</td>\n",
       "      <td>[26232358, 5071727108]</td>\n",
       "      <td>{'bicycle': 'no', 'foot': 'no', 'highway': 'tr...</td>\n",
       "    </tr>\n",
       "    <tr>\n",
       "      <th>4320351</th>\n",
       "      <td>way</td>\n",
       "      <td>[8997083710, 6188320842, 8996944085, 899694409...</td>\n",
       "      <td>{'bicycle': 'yes', 'cycleway:both': 'no', 'foo...</td>\n",
       "    </tr>\n",
       "    <tr>\n",
       "      <th>4320452</th>\n",
       "      <td>way</td>\n",
       "      <td>[1454537655, 8997083697, 8997083696, 214840127...</td>\n",
       "      <td>{'cycleway:right': 'no', 'foot': 'use_sidepath...</td>\n",
       "    </tr>\n",
       "    <tr>\n",
       "      <th>4320453</th>\n",
       "      <td>way</td>\n",
       "      <td>[26233006, 6893619161, 26233012, 9030151348, 9...</td>\n",
       "      <td>{'foot': 'use_sidepath', 'highway': 'residenti...</td>\n",
       "    </tr>\n",
       "    <tr>\n",
       "      <th>...</th>\n",
       "      <td>...</td>\n",
       "      <td>...</td>\n",
       "      <td>...</td>\n",
       "    </tr>\n",
       "    <tr>\n",
       "      <th>1168453755</th>\n",
       "      <td>way</td>\n",
       "      <td>[6432479210, 6432479235, 6432479234, 643247923...</td>\n",
       "      <td>{'highway': 'service', 'oneway': 'yes'}</td>\n",
       "    </tr>\n",
       "    <tr>\n",
       "      <th>1168517344</th>\n",
       "      <td>way</td>\n",
       "      <td>[10867308578, 10867308579, 10867308580, 108673...</td>\n",
       "      <td>{'highway': 'service', 'image': 'https://web.a...</td>\n",
       "    </tr>\n",
       "    <tr>\n",
       "      <th>1168517345</th>\n",
       "      <td>way</td>\n",
       "      <td>[10867308577, 10867308587, 10867308578]</td>\n",
       "      <td>{'highway': 'service'}</td>\n",
       "    </tr>\n",
       "    <tr>\n",
       "      <th>1168517346</th>\n",
       "      <td>way</td>\n",
       "      <td>[10867308576, 10867308577]</td>\n",
       "      <td>{'highway': 'service', 'surface': 'asphalt'}</td>\n",
       "    </tr>\n",
       "    <tr>\n",
       "      <th>1168567644</th>\n",
       "      <td>way</td>\n",
       "      <td>[6844052113, 10867689279, 615106810]</td>\n",
       "      <td>{'highway': 'service', 'service': 'parking_ais...</td>\n",
       "    </tr>\n",
       "  </tbody>\n",
       "</table>\n",
       "<p>193951 rows × 3 columns</p>\n",
       "</div>"
      ],
      "text/plain": [
       "           type                                              nodes  \\\n",
       "id                                                                   \n",
       "3453107     way                             [35834692, 9775746790]   \n",
       "4320292     way                             [26232358, 5071727108]   \n",
       "4320351     way  [8997083710, 6188320842, 8996944085, 899694409...   \n",
       "4320452     way  [1454537655, 8997083697, 8997083696, 214840127...   \n",
       "4320453     way  [26233006, 6893619161, 26233012, 9030151348, 9...   \n",
       "...         ...                                                ...   \n",
       "1168453755  way  [6432479210, 6432479235, 6432479234, 643247923...   \n",
       "1168517344  way  [10867308578, 10867308579, 10867308580, 108673...   \n",
       "1168517345  way            [10867308577, 10867308587, 10867308578]   \n",
       "1168517346  way                         [10867308576, 10867308577]   \n",
       "1168567644  way               [6844052113, 10867689279, 615106810]   \n",
       "\n",
       "                                                         tags  \n",
       "id                                                             \n",
       "3453107     {'NHS': 'yes', 'highway': 'motorway', 'lanes':...  \n",
       "4320292     {'bicycle': 'no', 'foot': 'no', 'highway': 'tr...  \n",
       "4320351     {'bicycle': 'yes', 'cycleway:both': 'no', 'foo...  \n",
       "4320452     {'cycleway:right': 'no', 'foot': 'use_sidepath...  \n",
       "4320453     {'foot': 'use_sidepath', 'highway': 'residenti...  \n",
       "...                                                       ...  \n",
       "1168453755            {'highway': 'service', 'oneway': 'yes'}  \n",
       "1168517344  {'highway': 'service', 'image': 'https://web.a...  \n",
       "1168517345                             {'highway': 'service'}  \n",
       "1168517346       {'highway': 'service', 'surface': 'asphalt'}  \n",
       "1168567644  {'highway': 'service', 'service': 'parking_ais...  \n",
       "\n",
       "[193951 rows x 3 columns]"
      ]
     },
     "execution_count": 92,
     "metadata": {},
     "output_type": "execute_result"
    }
   ],
   "source": [
    "pd.DataFrame([d for d in data['elements'] if d['type'] == 'way']).set_index('id')"
   ]
  },
  {
   "cell_type": "markdown",
   "metadata": {},
   "source": [
    "response = await main(overpass_url, data)"
   ]
  },
  {
   "cell_type": "code",
   "execution_count": 93,
   "metadata": {},
   "outputs": [
    {
     "name": "stderr",
     "output_type": "stream",
     "text": [
      "/home/boivin/.pyenv/versions/quetzal_env/lib/python3.8/site-packages/pandas/core/dtypes/cast.py:127: ShapelyDeprecationWarning: The array interface is deprecated and will no longer work in Shapely 2.0. Convert the '.coords' to a numpy array instead.\n",
      "  arr = construct_1d_object_array_from_listlike(values)\n"
     ]
    }
   ],
   "source": [
    "way = pd.DataFrame([d for d in data['elements'] if d['type'] == 'way']).set_index('id')\n",
    "nodes = pd.DataFrame([d for d in data['elements'] if d['type'] == 'node']).set_index('id')\n",
    "\n",
    "way_exploded = way.explode('nodes').merge(nodes[['lat','lon']], left_on='nodes', right_index=True, how='left')\n",
    "\n",
    "geom = way_exploded.groupby('id')[['lon', 'lat']].apply(lambda x: LineString(x.values))\n",
    "geom.name = 'geometry'\n",
    "way = gpd.GeoDataFrame(way.join(geom), crs=4326)\n"
   ]
  },
  {
   "cell_type": "code",
   "execution_count": 94,
   "metadata": {},
   "outputs": [],
   "source": [
    "tags = pd.DataFrame.from_records(way['tags'].values, index=way['tags'].index)\n",
    "cols = ['highway', 'maxspeed', 'lanes', 'name', 'oneway', 'surface']"
   ]
  },
  {
   "cell_type": "code",
   "execution_count": 95,
   "metadata": {
    "scrolled": false
   },
   "outputs": [],
   "source": [
    "#for col in tags.columns:\n",
    "#    print(col)"
   ]
  },
  {
   "cell_type": "code",
   "execution_count": 96,
   "metadata": {},
   "outputs": [],
   "source": [
    "way_tags = way.drop(columns=['nodes', 'tags'], errors='ignore').join(tags[cols])"
   ]
  },
  {
   "cell_type": "code",
   "execution_count": 97,
   "metadata": {},
   "outputs": [],
   "source": [
    "# OSMNX add edges speed, length and time\n",
    "# garder les liens fortement connexes\n",
    "# retirer les noeuds de degree 2"
   ]
  },
  {
   "cell_type": "code",
   "execution_count": null,
   "metadata": {},
   "outputs": [],
   "source": []
  },
  {
   "cell_type": "code",
   "execution_count": 98,
   "metadata": {},
   "outputs": [],
   "source": [
    "# SOME CLEANING ON THE ONEWAY ... Work In Progress\n",
    "way_tags['oneway'].fillna('no', inplace=True)\n",
    "way_tags['oneway'] = way_tags['oneway'].replace('yes', True).replace('no', False).replace('-1', False).replace(-1, False).replace('alternating',False).replace('reversible',False)\n"
   ]
  },
  {
   "cell_type": "code",
   "execution_count": 99,
   "metadata": {},
   "outputs": [
    {
     "data": {
      "text/plain": [
       "array(['motorway', 'trunk', 'secondary', 'tertiary', 'residential',\n",
       "       'service', 'trunk_link', 'motorway_link', 'tertiary_link',\n",
       "       'primary_link', 'primary', 'unclassified', 'secondary_link'],\n",
       "      dtype=object)"
      ]
     },
     "execution_count": 99,
     "metadata": {},
     "output_type": "execute_result"
    }
   ],
   "source": [
    "way_tags['highway'].unique()"
   ]
  },
  {
   "cell_type": "code",
   "execution_count": 131,
   "metadata": {},
   "outputs": [],
   "source": []
  },
  {
   "cell_type": "code",
   "execution_count": 118,
   "metadata": {},
   "outputs": [],
   "source": [
    "if False\n",
    "    zones = gpd.read_file('road_links_exemple.geojson')\n",
    "    from shapely.ops import unary_union\n",
    "    hull = unary_union(zones['geometry'].buffer(0.002))\n",
    "    way_tags = way_tags.loc[way_tags['geometry'].apply(lambda g: hull.contains(g))]\n"
   ]
  },
  {
   "cell_type": "code",
   "execution_count": 132,
   "metadata": {},
   "outputs": [],
   "source": [
    "way_tags.to_file('way.geojson',driver='GeoJSON')"
   ]
  },
  {
   "cell_type": "code",
   "execution_count": 229,
   "metadata": {},
   "outputs": [],
   "source": [
    "links, nodes = road.get_links_and_nodes('way.geojson', split_direction=False)\n",
    "nodes = nodes.set_crs(links.crs)"
   ]
  },
  {
   "cell_type": "code",
   "execution_count": 230,
   "metadata": {},
   "outputs": [],
   "source": [
    "links = links[links['highway']!='service']"
   ]
  },
  {
   "cell_type": "code",
   "execution_count": 231,
   "metadata": {},
   "outputs": [
    {
     "data": {
      "text/plain": [
       "<Axes: >"
      ]
     },
     "execution_count": 231,
     "metadata": {},
     "output_type": "execute_result"
    },
    {
     "data": {
      "image/png": "[encoded data removed]",
      "text/plain": [
       "<Figure size 640x480 with 1 Axes>"
      ]
     },
     "metadata": {},
     "output_type": "display_data"
    }
   ],
   "source": [
    "links.plot()"
   ]
  },
  {
   "cell_type": "code",
   "execution_count": null,
   "metadata": {},
   "outputs": [],
   "source": []
  },
  {
   "cell_type": "code",
   "execution_count": null,
   "metadata": {},
   "outputs": [],
   "source": []
  },
  {
   "cell_type": "code",
   "execution_count": 232,
   "metadata": {},
   "outputs": [],
   "source": [
    "\n",
    "#fig, ax = plt.subplots(figsize=(10,10))\n",
    "#ax.plot(*hull.exterior.xy,color='red')\n",
    "#links.plot(ax=ax)\n",
    "\n"
   ]
  },
  {
   "cell_type": "code",
   "execution_count": 233,
   "metadata": {},
   "outputs": [],
   "source": [
    "def clean_lanes(links):\n",
    "    '''\n",
    "    remove ; in lanes\n",
    "    '''\n",
    "    try:\n",
    "        index = links['lanes'].astype(str).str.lower().str.contains(';')\n",
    "        links.loc[index,'lanes'] = links.loc[index,'lanes'].str.split(';').apply(lambda x: np.mean([float(xi) for xi in x]))\n",
    "    except:\n",
    "        print('fail to convert mph in maxspeed to float ')\n",
    "    # this remove all strings lefts\n",
    "    links['maxspeed'] = links['maxspeed'].apply(pd.to_numeric, errors='coerce')\n",
    "    return links"
   ]
  },
  {
   "cell_type": "code",
   "execution_count": null,
   "metadata": {},
   "outputs": [],
   "source": []
  },
  {
   "cell_type": "code",
   "execution_count": null,
   "metadata": {},
   "outputs": [],
   "source": []
  },
  {
   "cell_type": "code",
   "execution_count": 234,
   "metadata": {},
   "outputs": [
    {
     "name": "stdout",
     "output_type": "stream",
     "text": [
      "61995\n",
      "66344\n"
     ]
    }
   ],
   "source": [
    "print(len(way_tags))\n",
    "print(len(links))"
   ]
  },
  {
   "cell_type": "code",
   "execution_count": 235,
   "metadata": {},
   "outputs": [],
   "source": [
    "links = road.clean_maxspeed(links)"
   ]
  },
  {
   "cell_type": "code",
   "execution_count": 236,
   "metadata": {},
   "outputs": [],
   "source": [
    "links = clean_lanes(links)"
   ]
  },
  {
   "cell_type": "code",
   "execution_count": null,
   "metadata": {},
   "outputs": [],
   "source": []
  },
  {
   "cell_type": "code",
   "execution_count": 237,
   "metadata": {},
   "outputs": [
    {
     "name": "stdout",
     "output_type": "stream",
     "text": [
      "0 geometry to inverse\n"
     ]
    }
   ],
   "source": [
    "links = road.rectify_geometry_direction(links,nodes)"
   ]
  },
  {
   "cell_type": "code",
   "execution_count": 238,
   "metadata": {},
   "outputs": [
    {
     "name": "stdout",
     "output_type": "stream",
     "text": [
      "344 links dropped\n"
     ]
    }
   ],
   "source": [
    "links = road.drop_duplicated_links(links)"
   ]
  },
  {
   "cell_type": "code",
   "execution_count": null,
   "metadata": {},
   "outputs": [],
   "source": []
  },
  {
   "cell_type": "code",
   "execution_count": 239,
   "metadata": {},
   "outputs": [
    {
     "data": {
      "text/plain": [
       "66000"
      ]
     },
     "execution_count": 239,
     "metadata": {},
     "output_type": "execute_result"
    }
   ],
   "source": [
    "len(links)"
   ]
  },
  {
   "cell_type": "code",
   "execution_count": 240,
   "metadata": {},
   "outputs": [
    {
     "name": "stdout",
     "output_type": "stream",
     "text": [
      "23046 deg 2 nodes\n",
      "find path with large cutoff for 9  origins\n",
      "find path with large cutoff for 15  origins\n",
      "find path with large cutoff for 26  origins\n",
      "find path with large cutoff for 1  origins\n",
      "find path with large cutoff for 3  origins\n",
      "find path with large cutoff for 1  origins\n",
      "find path with large cutoff for 3  origins\n",
      "find path with large cutoff for 80  origins\n",
      "find path with large cutoff for 103  origins\n",
      "find path with large cutoff for 28  origins\n",
      "find path with large cutoff for 33  origins\n",
      "0 links were not merge because the oneway field is not the same\n",
      "0 links were not merge because the highway field is not the same\n",
      "4099 merged_links unmerged because the geometry became a multilinestring\n"
     ]
    },
    {
     "data": {
      "text/plain": [
       "51445"
      ]
     },
     "execution_count": 240,
     "metadata": {},
     "output_type": "execute_result"
    }
   ],
   "source": [
    "links, unmerged = road.simplify(links)\n",
    "len(links)"
   ]
  },
  {
   "cell_type": "code",
   "execution_count": null,
   "metadata": {},
   "outputs": [],
   "source": []
  },
  {
   "cell_type": "code",
   "execution_count": 241,
   "metadata": {},
   "outputs": [],
   "source": [
    "#links = road.split_oneway(links)\n",
    "#len(links)"
   ]
  },
  {
   "cell_type": "code",
   "execution_count": 214,
   "metadata": {},
   "outputs": [
    {
     "data": {
      "text/plain": [
       "50881"
      ]
     },
     "execution_count": 214,
     "metadata": {},
     "output_type": "execute_result"
    }
   ],
   "source": [
    "links = road.main_strongly_connected_component(links,None,True)\n",
    "len(links)"
   ]
  },
  {
   "cell_type": "code",
   "execution_count": null,
   "metadata": {},
   "outputs": [],
   "source": []
  },
  {
   "cell_type": "code",
   "execution_count": null,
   "metadata": {},
   "outputs": [],
   "source": []
  },
  {
   "cell_type": "code",
   "execution_count": 242,
   "metadata": {},
   "outputs": [
    {
     "name": "stderr",
     "output_type": "stream",
     "text": [
      "/tmp/ipykernel_272444/3507984463.py:3: RuntimeWarning: Mean of empty slice\n",
      "  return  function([new_type(val) for val in col_values])\n"
     ]
    }
   ],
   "source": [
    "def process_list_in_col(col_values,new_type,function):\n",
    "    if isinstance(col_values, list):\n",
    "        return  function([new_type(val) for val in col_values])\n",
    "    else:\n",
    "        return new_type(col_values)\n",
    "    \n",
    "def remove_list_in_col(col_values,method='first'):\n",
    "    if isinstance(col_values, list):\n",
    "        if method == 'first':\n",
    "            return col_values[0]\n",
    "        else:\n",
    "            return col_values[-1]\n",
    "        \n",
    "    else:\n",
    "        return col_values\n",
    "    \n",
    "links['maxspeed'] = links['maxspeed'].apply(lambda x: process_list_in_col(x,float,np.nanmean))\n",
    "links['lanes'] = links['lanes'].apply(lambda x: process_list_in_col(x,float,np.nanmean)).apply(lambda x: np.floor(x))"
   ]
  },
  {
   "cell_type": "code",
   "execution_count": 243,
   "metadata": {},
   "outputs": [],
   "source": [
    "for col in ['id', 'type', 'highway','name','surface']:\n",
    "    links[col] = links[col].apply(lambda x: remove_list_in_col(x,'first'))"
   ]
  },
  {
   "cell_type": "code",
   "execution_count": 244,
   "metadata": {},
   "outputs": [],
   "source": [
    "links['length'] = links.to_crs(32618).length\n"
   ]
  },
  {
   "cell_type": "code",
   "execution_count": null,
   "metadata": {},
   "outputs": [],
   "source": []
  },
  {
   "cell_type": "code",
   "execution_count": null,
   "metadata": {},
   "outputs": [],
   "source": []
  },
  {
   "cell_type": "code",
   "execution_count": null,
   "metadata": {},
   "outputs": [],
   "source": []
  },
  {
   "cell_type": "code",
   "execution_count": 245,
   "metadata": {},
   "outputs": [],
   "source": [
    "\n",
    "speed_dict = links.dropna().groupby('highway')['maxspeed'].agg(np.mean).to_dict()\n",
    "links.loc[~np.isfinite(links['maxspeed']),'maxspeed'] = links.loc[~np.isfinite(links['maxspeed']),'highway'].apply(lambda x: speed_dict.get(x))\n",
    "links['time'] = links['length']/(links['maxspeed']*1000/3600)"
   ]
  },
  {
   "cell_type": "code",
   "execution_count": 246,
   "metadata": {},
   "outputs": [
    {
     "data": {
      "text/plain": [
       "array([ 40.        ,  30.        , 100.        ,  50.        ,\n",
       "        70.        ,  32.646492  ,  39.21175749,  43.84189723,\n",
       "        80.        ,  10.        ,  44.43040086,  97.27272727,\n",
       "        20.        ,  60.        ,  46.92307692,  47.63333333,\n",
       "        15.        ,  49.3837535 ,  45.09259259,  46.66666667,\n",
       "        45.        ,  42.        ,  43.75      ,  36.66666667,\n",
       "        35.71428571,  44.        ,  45.71428571,  41.66666667,\n",
       "        34.        ,  38.57142857,  35.        ,  43.33333333,\n",
       "        36.        ,   5.        ,  33.33333333,  56.66666667,\n",
       "        53.33333333,  38.        ,  46.        ,  75.        ,\n",
       "        78.57142857,  87.5       ,  63.33333333,  55.        ,\n",
       "        83.33333333,  82.        ,  51.11111111,  68.57142857,\n",
       "        85.        ,  58.57142857,  95.71428571,  90.        ,\n",
       "        67.5       ,  67.14285714])"
      ]
     },
     "execution_count": 246,
     "metadata": {},
     "output_type": "execute_result"
    }
   ],
   "source": [
    "links['maxspeed'].unique()"
   ]
  },
  {
   "cell_type": "code",
   "execution_count": 247,
   "metadata": {},
   "outputs": [],
   "source": [
    "links['lanes'] = pd.to_numeric(links['lanes'])\n",
    "lane_dict = links.groupby('highway')['lanes'].agg(np.nanmean).apply(lambda x: np.floor(x)).to_dict()\n",
    "links.loc[~np.isfinite(links['lanes']),'lanes'] = links.loc[~np.isfinite(links['lanes']),'highway'].apply(lambda x: lane_dict.get(x))\n"
   ]
  },
  {
   "cell_type": "code",
   "execution_count": 248,
   "metadata": {},
   "outputs": [],
   "source": [
    "links = links.drop(columns=['id','type','surface'])\n",
    "links.geometry = links.simplify(0.00003)"
   ]
  },
  {
   "cell_type": "code",
   "execution_count": 249,
   "metadata": {},
   "outputs": [
    {
     "name": "stderr",
     "output_type": "stream",
     "text": [
      "/tmp/ipykernel_272444/722026835.py:6: FutureWarning: Passing a set as an indexer is deprecated and will raise in a future version. Use a list instead.\n",
      "  nodes = nodes.loc[nodes_set].sort_index()\n"
     ]
    }
   ],
   "source": [
    "links = links.reset_index(drop=True)\n",
    "links.index = 'road_link_'+links.index.astype(str)\n",
    "\n",
    "nodes_set = set(links['a']).union(set(links['b']))\n",
    "\n",
    "nodes = nodes.loc[nodes_set].sort_index()\n"
   ]
  },
  {
   "cell_type": "code",
   "execution_count": null,
   "metadata": {},
   "outputs": [],
   "source": []
  },
  {
   "cell_type": "code",
   "execution_count": 250,
   "metadata": {},
   "outputs": [
    {
     "name": "stdout",
     "output_type": "stream",
     "text": [
      "27 links dropped\n"
     ]
    }
   ],
   "source": [
    "links = road.drop_duplicated_links(links)\n"
   ]
  },
  {
   "cell_type": "code",
   "execution_count": 251,
   "metadata": {},
   "outputs": [],
   "source": [
    "links = links.rename(columns={'maxspeed':'speed'})"
   ]
  },
  {
   "cell_type": "code",
   "execution_count": 252,
   "metadata": {},
   "outputs": [],
   "source": [
    "colorDict={\n",
    "'motorway': 'E892A2',\n",
    "'motorway_link': 'E892A2',\n",
    "'trunk': 'E892A2',\n",
    "'trunk_link': 'E892A2',\n",
    "'primary': 'FCD6A4',\n",
    "'primary_link': 'FCD6A4',\n",
    "'secondary': 'F7F9BE',\n",
    "'secondary_link': 'F7F9BE',\n",
    "'tertiary': '808080',\n",
    "'tertiary_link': '808080',\n",
    "'residential': '808080',\n",
    "'service': '808080',\n",
    "'unclassified': '808080',\n",
    "'cycleway': '1D8621',\n",
    "}\n",
    "    \n",
    "widthDict= {\n",
    "'motorway': 4,\n",
    "'motorway_link': 4,\n",
    "'trunk': 4,\n",
    "'trunk_link': 4,\n",
    "'primary': 4,\n",
    "'primary_link': 4,\n",
    "'secondary': 3,\n",
    "'secondary_link': 3,\n",
    "'tertiary': 2,\n",
    "'tertiary_link': 2,\n",
    "'residential': 2,\n",
    "'service': 2,\n",
    "'unclassified': 2,\n",
    "'cycleway': 2,\n",
    "}\n",
    "    "
   ]
  },
  {
   "cell_type": "code",
   "execution_count": null,
   "metadata": {},
   "outputs": [],
   "source": []
  },
  {
   "cell_type": "code",
   "execution_count": null,
   "metadata": {},
   "outputs": [],
   "source": []
  },
  {
   "cell_type": "code",
   "execution_count": 253,
   "metadata": {},
   "outputs": [],
   "source": [
    "links['route_color']=links['highway'].apply(lambda x: colorDict.get(x))\n",
    "links['route_width']=links['highway'].apply(lambda x: widthDict.get(x))"
   ]
  },
  {
   "cell_type": "code",
   "execution_count": 254,
   "metadata": {},
   "outputs": [],
   "source": [
    "links.to_file('road_links.geojson')\n",
    "nodes.to_file('road_nodes.geojson')"
   ]
  },
  {
   "cell_type": "code",
   "execution_count": null,
   "metadata": {
    "scrolled": true
   },
   "outputs": [],
   "source": []
  },
  {
   "cell_type": "code",
   "execution_count": 192,
   "metadata": {},
   "outputs": [],
   "source": [
    "df  = gpd.read_file('base/road_links.geojson')\n",
    "\n"
   ]
  },
  {
   "cell_type": "code",
   "execution_count": 193,
   "metadata": {},
   "outputs": [
    {
     "data": {
      "text/plain": [
       "{'motorway': '4',\n",
       " 'secondary': '3',\n",
       " 'motorway_link': '4',\n",
       " 'primary': '4',\n",
       " 'unclassified': '2',\n",
       " 'tertiary': '2',\n",
       " 'secondary_link': '3',\n",
       " 'primary_link': '4',\n",
       " 'tertiary_link': '2',\n",
       " 'trunk_link': '4',\n",
       " 'trunk': '4'}"
      ]
     },
     "execution_count": 193,
     "metadata": {},
     "output_type": "execute_result"
    }
   ],
   "source": [
    "df.set_index('highway')['route_width'].to_dict()"
   ]
  },
  {
   "cell_type": "code",
   "execution_count": 195,
   "metadata": {},
   "outputs": [
    {
     "data": {
      "text/plain": [
       "array([ True, False])"
      ]
     },
     "execution_count": 195,
     "metadata": {},
     "output_type": "execute_result"
    }
   ],
   "source": [
    "links['oneway'].unique()"
   ]
  },
  {
   "cell_type": "code",
   "execution_count": 163,
   "metadata": {},
   "outputs": [
    {
     "data": {
      "text/plain": [
       "19868"
      ]
     },
     "execution_count": 163,
     "metadata": {},
     "output_type": "execute_result"
    }
   ],
   "source": [
    "from road import *\n",
    "links, nodes = road.get_links_and_nodes('way.geojson', split_direction=False)\n",
    "nodes = nodes.set_crs(links.crs)\n",
    "len(links)"
   ]
  },
  {
   "cell_type": "code",
   "execution_count": 164,
   "metadata": {},
   "outputs": [
    {
     "data": {
      "text/plain": [
       "19868"
      ]
     },
     "execution_count": 164,
     "metadata": {},
     "output_type": "execute_result"
    }
   ],
   "source": [
    "#remove string in maxspeed\n",
    "links = clean_maxspeed(links)\n",
    "len(links)"
   ]
  },
  {
   "cell_type": "code",
   "execution_count": 165,
   "metadata": {},
   "outputs": [
    {
     "name": "stdout",
     "output_type": "stream",
     "text": [
      "0 geometry to inverse\n"
     ]
    }
   ],
   "source": [
    "# make sure the geometry are in the right direction (a->b)\n",
    "links = rectify_geometry_direction(links,nodes)"
   ]
  },
  {
   "cell_type": "code",
   "execution_count": 166,
   "metadata": {},
   "outputs": [
    {
     "name": "stdout",
     "output_type": "stream",
     "text": [
      "simplifying links ...\n",
      "1 links dropped\n"
     ]
    },
    {
     "data": {
      "text/plain": [
       "19867"
      ]
     },
     "execution_count": 166,
     "metadata": {},
     "output_type": "execute_result"
    }
   ],
   "source": [
    "# remove duplicated links (a-b)\n",
    "print(\"simplifying links ...\")\n",
    "links = drop_duplicated_links(links)\n",
    "len(links)"
   ]
  },
  {
   "cell_type": "code",
   "execution_count": 169,
   "metadata": {},
   "outputs": [],
   "source": [
    "links, nodes = main_strongly_connected_component(links, nodes,split_direction=True)"
   ]
  },
  {
   "cell_type": "code",
   "execution_count": null,
   "metadata": {},
   "outputs": [],
   "source": []
  },
  {
   "cell_type": "code",
   "execution_count": null,
   "metadata": {},
   "outputs": [],
   "source": []
  },
  {
   "cell_type": "code",
   "execution_count": 172,
   "metadata": {},
   "outputs": [
    {
     "name": "stdout",
     "output_type": "stream",
     "text": [
      "4174 deg 2 nodes\n",
      "find path with large cutoff for 50  origins\n",
      "find path with large cutoff for 41  origins\n",
      "find path with large cutoff for 23  origins\n",
      "find path with large cutoff for 1  origins\n",
      "find path with large cutoff for 11  origins\n",
      "find path with large cutoff for 13  origins\n",
      "find path with large cutoff for 4  origins\n",
      "0 links were not merge because the oneway field is not the same\n",
      "0 links were not merge because the highway field is not the same\n",
      "1 merged_links unmerged because the geometry became a multilinestring\n"
     ]
    },
    {
     "data": {
      "text/plain": [
       "7668"
      ]
     },
     "execution_count": 172,
     "metadata": {},
     "output_type": "execute_result"
    }
   ],
   "source": [
    "# simplify. remove deg 2 nodes when possible. group by oneway and highway to merge each links.\n",
    "links = simplify(links)\n",
    "len(links)"
   ]
  },
  {
   "cell_type": "code",
   "execution_count": 173,
   "metadata": {},
   "outputs": [
    {
     "data": {
      "text/plain": [
       "array(['1', '0', 'reversible'], dtype=object)"
      ]
     },
     "execution_count": 173,
     "metadata": {},
     "output_type": "execute_result"
    }
   ],
   "source": [
    "links['oneway'].unique()"
   ]
  },
  {
   "cell_type": "code",
   "execution_count": 174,
   "metadata": {},
   "outputs": [
    {
     "data": {
      "text/plain": [
       "7668"
      ]
     },
     "execution_count": 174,
     "metadata": {},
     "output_type": "execute_result"
    }
   ],
   "source": [
    "\n",
    "# split onwway into 2 links a-b, b-a\n",
    "links = split_oneway(links)\n",
    "len(links)"
   ]
  },
  {
   "cell_type": "code",
   "execution_count": null,
   "metadata": {},
   "outputs": [],
   "source": []
  },
  {
   "cell_type": "code",
   "execution_count": null,
   "metadata": {},
   "outputs": [],
   "source": []
  },
  {
   "cell_type": "code",
   "execution_count": 177,
   "metadata": {},
   "outputs": [
    {
     "name": "stdout",
     "output_type": "stream",
     "text": [
      "removing list in columns ...\n",
      "Write Links and Nodes ...\n"
     ]
    },
    {
     "name": "stderr",
     "output_type": "stream",
     "text": [
      "/tmp/ipykernel_67534/2942894362.py:3: RuntimeWarning: Mean of empty slice\n",
      "  return  function([new_type(val) for val in col_values])\n"
     ]
    },
    {
     "data": {
      "text/plain": [
       "7668"
      ]
     },
     "execution_count": 177,
     "metadata": {},
     "output_type": "execute_result"
    }
   ],
   "source": [
    "def process_list_in_col(col_values,new_type,function):\n",
    "        if isinstance(col_values, list):\n",
    "            return  function([new_type(val) for val in col_values])\n",
    "        else:\n",
    "            return new_type(col_values)\n",
    "        \n",
    "def remove_list_in_col(col_values,method='first'):\n",
    "    if isinstance(col_values, list):\n",
    "        if method == 'first':\n",
    "            return col_values[0]\n",
    "        else:\n",
    "            return col_values[-1]\n",
    "        \n",
    "    else:\n",
    "        return col_values\n",
    "def get_epsg(lat, lon):\n",
    "    return int(32700 - round((45 + lat) / 90, 0) * 100 + round((183 + lon) / 6, 0))\n",
    "\n",
    "\n",
    "print('removing list in columns ...')\n",
    "links['maxspeed'] = links['maxspeed'].apply(lambda x: process_list_in_col(x,float,np.nanmean))\n",
    "links['lanes'] = links['lanes'].apply(lambda x: process_list_in_col(x,float,np.nanmean)).apply(lambda x: np.floor(x))\n",
    "for col in ['id', 'type', 'highway','name','surface']:\n",
    "    links[col] = links[col].apply(lambda x: remove_list_in_col(x,'first'))\n",
    "\n",
    "# Add length\n",
    "print(\"Write Links and Nodes ...\")\n",
    "epsg = get_epsg(nodes.iloc[0]['geometry'].y, nodes.iloc[0]['geometry'].x)\n",
    "links['length'] = links.to_crs(epsg).length\n",
    "len(links)"
   ]
  },
  {
   "cell_type": "code",
   "execution_count": 178,
   "metadata": {},
   "outputs": [
    {
     "data": {
      "text/plain": [
       "7668"
      ]
     },
     "execution_count": 178,
     "metadata": {},
     "output_type": "execute_result"
    }
   ],
   "source": [
    "# Add Speed\n",
    "try:\n",
    "    speed_dict = links.dropna().groupby('highway')['maxspeed'].agg(np.mean).to_dict()\n",
    "    links.loc[~np.isfinite(links['maxspeed']),'maxspeed'] = links.loc[~np.isfinite(links['maxspeed']),'highway'].apply(lambda x: speed_dict.get(x))\n",
    "except:\n",
    "    print('fail to convert NaN maxspeed to the average max speed (by highway)')\n",
    "try:\n",
    "    links['lanes'] = pd.to_numeric(links['lanes'])\n",
    "    lane_dict = links.groupby('highway')['lanes'].agg(np.nanmean).apply(lambda x: np.floor(x)).to_dict()\n",
    "    links.loc[~np.isfinite(links['lanes']),'lanes'] = links.loc[~np.isfinite(links['lanes']),'highway'].apply(lambda x: lane_dict.get(x))\n",
    "except:\n",
    "    print('fail to convert NaN Lane to the average lanes (by highway)')\n",
    "len(links)"
   ]
  },
  {
   "cell_type": "code",
   "execution_count": 179,
   "metadata": {},
   "outputs": [
    {
     "data": {
      "text/plain": [
       "7668"
      ]
     },
     "execution_count": 179,
     "metadata": {},
     "output_type": "execute_result"
    }
   ],
   "source": [
    "links['time'] = links['length']/(links['maxspeed']*1000/3600)\n",
    "links = links.rename(columns = {'maxspeed' : 'speed'})\n",
    "\n",
    "# reindex and remove ununsed nodes\n",
    "links = links.reset_index(drop=True)\n",
    "links.index = 'road_link_'+links.index.astype(str)\n",
    "nodes_set = set(links['a']).union(set(links['b']))\n",
    "nodes = nodes.loc[list(nodes_set)].sort_index()\n",
    "len(links)"
   ]
  },
  {
   "cell_type": "code",
   "execution_count": null,
   "metadata": {},
   "outputs": [],
   "source": [
    "links.to_file('road_links.geojson')\n",
    "nodes.to_file('road_nodes.geojson')"
   ]
  },
  {
   "cell_type": "code",
   "execution_count": 13,
   "metadata": {},
   "outputs": [],
   "source": []
  },
  {
   "cell_type": "code",
   "execution_count": 4,
   "metadata": {},
   "outputs": [],
   "source": [
    "from road import *"
   ]
  },
  {
   "cell_type": "code",
   "execution_count": 5,
   "metadata": {},
   "outputs": [
    {
     "ename": "NameError",
     "evalue": "name 'overpass_url' is not defined",
     "output_type": "error",
     "traceback": [
      "\u001b[0;31m---------------------------------------------------------------------------\u001b[0m",
      "\u001b[0;31mNameError\u001b[0m                                 Traceback (most recent call last)",
      "Cell \u001b[0;32mIn[5], line 1\u001b[0m\n\u001b[0;32m----> 1\u001b[0m response \u001b[38;5;241m=\u001b[39m requests\u001b[38;5;241m.\u001b[39mget(\u001b[43moverpass_url\u001b[49m, params\u001b[38;5;241m=\u001b[39m{\u001b[38;5;124m'\u001b[39m\u001b[38;5;124mdata\u001b[39m\u001b[38;5;124m'\u001b[39m: overpass_query})\n\u001b[1;32m      2\u001b[0m data \u001b[38;5;241m=\u001b[39m response\u001b[38;5;241m.\u001b[39mjson()\n\u001b[1;32m      4\u001b[0m \u001b[38;5;66;03m# Extract elements from response\u001b[39;00m\n",
      "\u001b[0;31mNameError\u001b[0m: name 'overpass_url' is not defined"
     ]
    }
   ],
   "source": [
    "response = requests.get(overpass_url, params={'data': overpass_query})\n",
    "data = response.json()\n",
    "\n",
    "# Extract elements from response\n",
    "print(\"Convert to GeoPandas ...\")\n",
    "way = pd.DataFrame([d for d in data['elements'] if d['type'] == 'way']).set_index('id')\n",
    "nodes = pd.DataFrame([d for d in data['elements'] if d['type'] == 'node']).set_index('id')\n",
    "\n",
    "# Convert elements to GeoPandas \n",
    "way_exploded = way.explode('nodes').merge(nodes[['lat','lon']], left_on='nodes', right_index=True, how='left')\n",
    "geom = way_exploded.groupby('id')[['lon', 'lat']].apply(lambda x: LineString(x.values))\n",
    "geom.name = 'geometry'\n",
    "way = gpd.GeoDataFrame(way.join(geom))\n",
    "\n",
    "# Filter tags and write networks\n",
    "print(\"Write (way.geojson) ...\")\n",
    "tags = pd.DataFrame.from_records(way['tags'].values, index=way['tags'].index)\n",
    "cols = ['highway', 'maxspeed', 'lanes', 'name', 'oneway', 'surface']\n",
    "way_tags = way.drop(columns=['nodes', 'tags'], errors='ignore').join(tags[cols])\n",
    "\n",
    "# SOME CLEANING ON THE ONEWAY ... Work In Progress\n",
    "way_tags['oneway'].fillna('no', inplace=True)\n",
    "way_tags['oneway'] = way_tags['oneway'].replace('yes', True).replace('no', False).replace('-1', False).replace(-1, False).replace('alternating',False).replace('reversible',False)\n",
    "way_tags.to_file('way.geojson')"
   ]
  },
  {
   "cell_type": "code",
   "execution_count": null,
   "metadata": {},
   "outputs": [],
   "source": []
  },
  {
   "cell_type": "code",
   "execution_count": 3,
   "metadata": {},
   "outputs": [
    {
     "name": "stdout",
     "output_type": "stream",
     "text": [
      "Convert ways to links and node ...\n",
      "0 geometry to inverse\n",
      "simplifying links ...\n",
      "1 links dropped\n",
      "Remove Cul de Sac ...\n"
     ]
    }
   ],
   "source": [
    "from road import *\n",
    "print(\"Convert ways to links and node ...\")\n",
    "links, nodes = road.get_links_and_nodes('way.geojson', split_direction=False)\n",
    "nodes = nodes.set_crs(links.crs)\n",
    "\n",
    "#remove string in maxspeed\n",
    "links = clean_maxspeed(links)\n",
    "\n",
    "# make sure the geometry are in the right direction (a->b)\n",
    "links = rectify_geometry_direction(links,nodes)\n",
    "\n",
    "# remove duplicated links (a-b)\n",
    "print(\"simplifying links ...\")\n",
    "links = drop_duplicated_links(links)\n",
    "\n",
    "# Clean Cul de Sac\n",
    "print(\"Remove Cul de Sac ...\")\n",
    "links, nodes = main_strongly_connected_component(links, nodes, split_direction=True)"
   ]
  },
  {
   "cell_type": "code",
   "execution_count": null,
   "metadata": {},
   "outputs": [],
   "source": []
  },
  {
   "cell_type": "code",
   "execution_count": 4,
   "metadata": {},
   "outputs": [
    {
     "name": "stdout",
     "output_type": "stream",
     "text": [
      "0 geometry to inverse\n"
     ]
    }
   ],
   "source": [
    "links=rectify_geometry_direction(links,nodes)"
   ]
  },
  {
   "cell_type": "code",
   "execution_count": 5,
   "metadata": {},
   "outputs": [
    {
     "data": {
      "text/plain": [
       "(45.53, 45.55)"
      ]
     },
     "execution_count": 5,
     "metadata": {},
     "output_type": "execute_result"
    },
    {
     "data": {
      "image/png": "[encoded data removed]",
      "text/plain": [
       "<Figure size 1000x1000 with 1 Axes>"
      ]
     },
     "metadata": {},
     "output_type": "display_data"
    }
   ],
   "source": [
    "\n",
    "import matplotlib.pyplot as plt\n",
    "fig, ax = plt.subplots(figsize=(10,10))\n",
    "links.plot(ax=ax)\n",
    "nodes.plot(ax=ax)\n",
    "plt.xlim([-73.57,-73.55])\n",
    "plt.ylim([45.53,45.55])"
   ]
  },
  {
   "cell_type": "code",
   "execution_count": 6,
   "metadata": {},
   "outputs": [
    {
     "name": "stdout",
     "output_type": "stream",
     "text": [
      "4447 deg 2 nodes\n",
      "find path with large cutoff for 48  origins\n",
      "find path with large cutoff for 38  origins\n",
      "find path with large cutoff for 23  origins\n",
      "find path with large cutoff for 1  origins\n",
      "find path with large cutoff for 26  origins\n",
      "find path with large cutoff for 31  origins\n",
      "find path with large cutoff for 10  origins\n",
      "0 links were not merge because the oneway field is not the same\n",
      "0 links were not merge because the highway field is not the same\n",
      "660 merged_links unmerged because the geometry became a multilinestring\n"
     ]
    }
   ],
   "source": [
    "# simplify. remove deg 2 nodes when possible. group by oneway and highway to merge each links.\n",
    "links,unmerged = simplify(links,cutoff=10)"
   ]
  },
  {
   "cell_type": "code",
   "execution_count": null,
   "metadata": {},
   "outputs": [],
   "source": []
  },
  {
   "cell_type": "code",
   "execution_count": null,
   "metadata": {},
   "outputs": [],
   "source": []
  },
  {
   "cell_type": "code",
   "execution_count": null,
   "metadata": {},
   "outputs": [],
   "source": []
  },
  {
   "cell_type": "code",
   "execution_count": 7,
   "metadata": {},
   "outputs": [],
   "source": [
    "nodes_set = set(links['a']).union(set(links['b']))\n",
    "nodes_test = nodes.loc[list(nodes_set)].sort_index()"
   ]
  },
  {
   "cell_type": "code",
   "execution_count": 8,
   "metadata": {
    "scrolled": false
   },
   "outputs": [
    {
     "data": {
      "text/plain": [
       "(45.53, 45.55)"
      ]
     },
     "execution_count": 8,
     "metadata": {},
     "output_type": "execute_result"
    },
    {
     "data": {
      "image/png": "[encoded data removed]",
      "text/plain": [
       "<Figure size 1000x1000 with 1 Axes>"
      ]
     },
     "metadata": {},
     "output_type": "display_data"
    }
   ],
   "source": [
    "import matplotlib.pyplot as plt\n",
    "fig, ax = plt.subplots(figsize=(10,10))\n",
    "links.plot(ax=ax)\n",
    "nodes_test.plot(ax=ax)\n",
    "#nodes_test.loc[sources].plot(ax=ax,color='red')\n",
    "plt.xlim([-73.57,-73.55])\n",
    "plt.ylim([45.53,45.55])"
   ]
  },
  {
   "cell_type": "code",
   "execution_count": 10,
   "metadata": {},
   "outputs": [
    {
     "name": "stdout",
     "output_type": "stream",
     "text": [
      "removing list in columns ...\n",
      "Write Links and Nodes ...\n"
     ]
    },
    {
     "name": "stderr",
     "output_type": "stream",
     "text": [
      "/tmp/ipykernel_81147/772384264.py:3: RuntimeWarning: Mean of empty slice\n",
      "  return  function([new_type(val) for val in col_values])\n"
     ]
    }
   ],
   "source": [
    "def process_list_in_col(col_values,new_type,function):\n",
    "        if isinstance(col_values, list):\n",
    "            return  function([new_type(val) for val in col_values])\n",
    "        else:\n",
    "            return new_type(col_values)\n",
    "        \n",
    "def remove_list_in_col(col_values,method='first'):\n",
    "    if isinstance(col_values, list):\n",
    "        if method == 'first':\n",
    "            return col_values[0]\n",
    "        else:\n",
    "            return col_values[-1]\n",
    "        \n",
    "    else:\n",
    "        return col_values\n",
    "\n",
    "def get_epsg(lat, lon):\n",
    "    return int(32700 - round((45 + lat) / 90, 0) * 100 + round((183 + lon) / 6, 0))\n",
    "\n",
    "\n",
    "print('removing list in columns ...')\n",
    "links['maxspeed'] = links['maxspeed'].apply(lambda x: process_list_in_col(x,float,np.nanmean))\n",
    "links['lanes'] = links['lanes'].apply(lambda x: process_list_in_col(x,float,np.nanmean)).apply(lambda x: np.floor(x))\n",
    "for col in ['id', 'type', 'highway','name','surface']:\n",
    "    links[col] = links[col].apply(lambda x: remove_list_in_col(x,'first'))\n",
    "\n",
    "# Add length\n",
    "print(\"Write Links and Nodes ...\")\n",
    "epsg = get_epsg(nodes.iloc[0]['geometry'].y, nodes.iloc[0]['geometry'].x)\n",
    "links['length'] = links.to_crs(epsg).length\n",
    "\n",
    "# Add Speed\n",
    "try:\n",
    "    speed_dict = links.dropna().groupby('highway')['maxspeed'].agg(np.mean).to_dict()\n",
    "    links.loc[~np.isfinite(links['maxspeed']),'maxspeed'] = links.loc[~np.isfinite(links['maxspeed']),'highway'].apply(lambda x: speed_dict.get(x))\n",
    "except:\n",
    "    print('fail to convert NaN maxspeed to the average max speed (by highway)')\n",
    "try:\n",
    "    links['lanes'] = pd.to_numeric(links['lanes'])\n",
    "    lane_dict = links.groupby('highway')['lanes'].agg(np.nanmean).apply(lambda x: np.floor(x)).to_dict()\n",
    "    links.loc[~np.isfinite(links['lanes']),'lanes'] = links.loc[~np.isfinite(links['lanes']),'highway'].apply(lambda x: lane_dict.get(x))\n",
    "except:\n",
    "    print('fail to convert NaN Lane to the average lanes (by highway)')\n",
    "# Add Time\n",
    "links['time'] = links['length']/(links['maxspeed']*1000/3600)\n",
    "links = links.rename(columns = {'maxspeed' : 'speed'})\n",
    "\n",
    "# reindex and remove ununsed nodes\n",
    "links = links.reset_index(drop=True)\n",
    "links.index = 'road_link_'+links.index.astype(str)\n",
    "nodes_set = set(links['a']).union(set(links['b']))\n",
    "nodes = nodes.loc[list(nodes_set)].sort_index()"
   ]
  },
  {
   "cell_type": "code",
   "execution_count": 9,
   "metadata": {},
   "outputs": [
    {
     "data": {
      "text/html": [
       "<div>\n",
       "<style scoped>\n",
       "    .dataframe tbody tr th:only-of-type {\n",
       "        vertical-align: middle;\n",
       "    }\n",
       "\n",
       "    .dataframe tbody tr th {\n",
       "        vertical-align: top;\n",
       "    }\n",
       "\n",
       "    .dataframe thead th {\n",
       "        text-align: right;\n",
       "    }\n",
       "</style>\n",
       "<table border=\"1\" class=\"dataframe\">\n",
       "  <thead>\n",
       "    <tr style=\"text-align: right;\">\n",
       "      <th></th>\n",
       "      <th>id</th>\n",
       "      <th>type</th>\n",
       "      <th>highway</th>\n",
       "      <th>maxspeed</th>\n",
       "      <th>lanes</th>\n",
       "      <th>name</th>\n",
       "      <th>oneway</th>\n",
       "      <th>surface</th>\n",
       "      <th>a</th>\n",
       "      <th>b</th>\n",
       "      <th>geometry</th>\n",
       "      <th>weight</th>\n",
       "      <th>group</th>\n",
       "    </tr>\n",
       "    <tr>\n",
       "      <th></th>\n",
       "      <th></th>\n",
       "      <th></th>\n",
       "      <th></th>\n",
       "      <th></th>\n",
       "      <th></th>\n",
       "      <th></th>\n",
       "      <th></th>\n",
       "      <th></th>\n",
       "      <th></th>\n",
       "      <th></th>\n",
       "      <th></th>\n",
       "      <th></th>\n",
       "      <th></th>\n",
       "    </tr>\n",
       "  </thead>\n",
       "  <tbody>\n",
       "    <tr>\n",
       "      <th>road_link_713</th>\n",
       "      <td>[499309062, 1017867981, 1017867981, 499309062]</td>\n",
       "      <td>way</td>\n",
       "      <td>tertiary</td>\n",
       "      <td>50.0</td>\n",
       "      <td>NaN</td>\n",
       "      <td>Chemin du Coteau-Rouge</td>\n",
       "      <td>False</td>\n",
       "      <td>NaN</td>\n",
       "      <td>road_node_1342</td>\n",
       "      <td>road_node_10438</td>\n",
       "      <td>MULTILINESTRING ((-73.49875 45.51527, -73.4983...</td>\n",
       "      <td>1</td>\n",
       "      <td>2714</td>\n",
       "    </tr>\n",
       "    <tr>\n",
       "      <th>road_link_11442</th>\n",
       "      <td>[921103182, 636899611, 4886357, 697467547, 606...</td>\n",
       "      <td>way</td>\n",
       "      <td>tertiary</td>\n",
       "      <td>[50.0, 50.0, 40.0, 40.0, 40.0, 40.0, 40.0, 40....</td>\n",
       "      <td>2</td>\n",
       "      <td>[Chemin Remembrance, Chemin Remembrance, Voie ...</td>\n",
       "      <td>False</td>\n",
       "      <td>asphalt</td>\n",
       "      <td>road_node_2428</td>\n",
       "      <td>road_node_11848</td>\n",
       "      <td>MULTILINESTRING ((-73.60164 45.49849, -73.6012...</td>\n",
       "      <td>1</td>\n",
       "      <td>2733</td>\n",
       "    </tr>\n",
       "    <tr>\n",
       "      <th>road_link_10181</th>\n",
       "      <td>[600826245, 182756781, 609573123, 609573123, 1...</td>\n",
       "      <td>way</td>\n",
       "      <td>tertiary</td>\n",
       "      <td>40.0</td>\n",
       "      <td>2</td>\n",
       "      <td>Voie Camillien-Houde</td>\n",
       "      <td>False</td>\n",
       "      <td>asphalt</td>\n",
       "      <td>road_node_6240</td>\n",
       "      <td>road_node_12693</td>\n",
       "      <td>MULTILINESTRING ((-73.59263 45.51346, -73.5929...</td>\n",
       "      <td>1</td>\n",
       "      <td>2744</td>\n",
       "    </tr>\n",
       "    <tr>\n",
       "      <th>road_link_14690</th>\n",
       "      <td>[1044092600, 427701163, 427701163, 1044092600]</td>\n",
       "      <td>way</td>\n",
       "      <td>tertiary</td>\n",
       "      <td>40.0</td>\n",
       "      <td>2</td>\n",
       "      <td>Rue de Cadillac</td>\n",
       "      <td>False</td>\n",
       "      <td>asphalt</td>\n",
       "      <td>road_node_9101</td>\n",
       "      <td>road_node_14639</td>\n",
       "      <td>MULTILINESTRING ((-73.54982 45.57791, -73.5518...</td>\n",
       "      <td>1</td>\n",
       "      <td>2746</td>\n",
       "    </tr>\n",
       "    <tr>\n",
       "      <th>road_link_103</th>\n",
       "      <td>[24545583, 25939197, 25939197, 24545583]</td>\n",
       "      <td>way</td>\n",
       "      <td>tertiary</td>\n",
       "      <td>[nan, nan, nan, nan]</td>\n",
       "      <td>[nan, 2, 2, nan]</td>\n",
       "      <td>Avenue Bienville</td>\n",
       "      <td>False</td>\n",
       "      <td>[nan, asphalt, asphalt, nan]</td>\n",
       "      <td>road_node_9319</td>\n",
       "      <td>road_node_13046</td>\n",
       "      <td>MULTILINESTRING ((-73.45332 45.46973, -73.4535...</td>\n",
       "      <td>1</td>\n",
       "      <td>2755</td>\n",
       "    </tr>\n",
       "    <tr>\n",
       "      <th>...</th>\n",
       "      <td>...</td>\n",
       "      <td>...</td>\n",
       "      <td>...</td>\n",
       "      <td>...</td>\n",
       "      <td>...</td>\n",
       "      <td>...</td>\n",
       "      <td>...</td>\n",
       "      <td>...</td>\n",
       "      <td>...</td>\n",
       "      <td>...</td>\n",
       "      <td>...</td>\n",
       "      <td>...</td>\n",
       "      <td>...</td>\n",
       "    </tr>\n",
       "    <tr>\n",
       "      <th>road_link_5201</th>\n",
       "      <td>[395307468, 329066841, 329066846, 1025971047, ...</td>\n",
       "      <td>way</td>\n",
       "      <td>primary</td>\n",
       "      <td>50.0</td>\n",
       "      <td>[6, 6, 6, 6, 6, 6, 4, 4, 4, 4, 4, 4, 4, 4, 4, ...</td>\n",
       "      <td>Rue Sherbrooke Est</td>\n",
       "      <td>False</td>\n",
       "      <td>asphalt</td>\n",
       "      <td>road_node_9028</td>\n",
       "      <td>road_node_6167</td>\n",
       "      <td>MULTILINESTRING ((-73.56003 45.53848, -73.5597...</td>\n",
       "      <td>1</td>\n",
       "      <td>4022</td>\n",
       "    </tr>\n",
       "    <tr>\n",
       "      <th>road_link_6784</th>\n",
       "      <td>[453725261, 1161109088, 1161109087, 1161109086...</td>\n",
       "      <td>way</td>\n",
       "      <td>primary</td>\n",
       "      <td>40.0</td>\n",
       "      <td>[5, 5, 4, 5, 5, 5, 4, 4, 4, 4, 4, 4, 4, 4, 4, ...</td>\n",
       "      <td>Rue Sherbrooke Ouest</td>\n",
       "      <td>False</td>\n",
       "      <td>asphalt</td>\n",
       "      <td>road_node_7383</td>\n",
       "      <td>road_node_13185</td>\n",
       "      <td>MULTILINESTRING ((-73.60344 45.47898, -73.6033...</td>\n",
       "      <td>1</td>\n",
       "      <td>4023</td>\n",
       "    </tr>\n",
       "    <tr>\n",
       "      <th>road_link_3945</th>\n",
       "      <td>[147994583, 147994580, 1133488647, 430273942, ...</td>\n",
       "      <td>way</td>\n",
       "      <td>secondary_link</td>\n",
       "      <td>50.0</td>\n",
       "      <td>2</td>\n",
       "      <td>Boulevard Saint-Martin Ouest</td>\n",
       "      <td>False</td>\n",
       "      <td>asphalt</td>\n",
       "      <td>road_node_2465</td>\n",
       "      <td>road_node_8071</td>\n",
       "      <td>MULTILINESTRING ((-73.71676 45.57348, -73.7167...</td>\n",
       "      <td>1</td>\n",
       "      <td>4027</td>\n",
       "    </tr>\n",
       "    <tr>\n",
       "      <th>road_link_13553</th>\n",
       "      <td>[963708571, 963708570, 471381659, 471381659, 9...</td>\n",
       "      <td>way</td>\n",
       "      <td>secondary_link</td>\n",
       "      <td>50.0</td>\n",
       "      <td>2</td>\n",
       "      <td>NaN</td>\n",
       "      <td>False</td>\n",
       "      <td>asphalt</td>\n",
       "      <td>road_node_6010</td>\n",
       "      <td>road_node_9507</td>\n",
       "      <td>MULTILINESTRING ((-73.62762 45.55154, -73.6277...</td>\n",
       "      <td>1</td>\n",
       "      <td>4028</td>\n",
       "    </tr>\n",
       "    <tr>\n",
       "      <th>road_link_13554</th>\n",
       "      <td>[963708572, 963708573, 205590924, 205590924, 9...</td>\n",
       "      <td>way</td>\n",
       "      <td>secondary_link</td>\n",
       "      <td>50.0</td>\n",
       "      <td>2</td>\n",
       "      <td>NaN</td>\n",
       "      <td>False</td>\n",
       "      <td>asphalt</td>\n",
       "      <td>road_node_7034</td>\n",
       "      <td>road_node_5969</td>\n",
       "      <td>MULTILINESTRING ((-73.62856 45.55107, -73.6286...</td>\n",
       "      <td>1</td>\n",
       "      <td>4029</td>\n",
       "    </tr>\n",
       "  </tbody>\n",
       "</table>\n",
       "<p>660 rows × 13 columns</p>\n",
       "</div>"
      ],
      "text/plain": [
       "                                                                id type  \\\n",
       "                                                                          \n",
       "road_link_713       [499309062, 1017867981, 1017867981, 499309062]  way   \n",
       "road_link_11442  [921103182, 636899611, 4886357, 697467547, 606...  way   \n",
       "road_link_10181  [600826245, 182756781, 609573123, 609573123, 1...  way   \n",
       "road_link_14690     [1044092600, 427701163, 427701163, 1044092600]  way   \n",
       "road_link_103             [24545583, 25939197, 25939197, 24545583]  way   \n",
       "...                                                            ...  ...   \n",
       "road_link_5201   [395307468, 329066841, 329066846, 1025971047, ...  way   \n",
       "road_link_6784   [453725261, 1161109088, 1161109087, 1161109086...  way   \n",
       "road_link_3945   [147994583, 147994580, 1133488647, 430273942, ...  way   \n",
       "road_link_13553  [963708571, 963708570, 471381659, 471381659, 9...  way   \n",
       "road_link_13554  [963708572, 963708573, 205590924, 205590924, 9...  way   \n",
       "\n",
       "                        highway  \\\n",
       "                                  \n",
       "road_link_713          tertiary   \n",
       "road_link_11442        tertiary   \n",
       "road_link_10181        tertiary   \n",
       "road_link_14690        tertiary   \n",
       "road_link_103          tertiary   \n",
       "...                         ...   \n",
       "road_link_5201          primary   \n",
       "road_link_6784          primary   \n",
       "road_link_3945   secondary_link   \n",
       "road_link_13553  secondary_link   \n",
       "road_link_13554  secondary_link   \n",
       "\n",
       "                                                          maxspeed  \\\n",
       "                                                                     \n",
       "road_link_713                                                 50.0   \n",
       "road_link_11442  [50.0, 50.0, 40.0, 40.0, 40.0, 40.0, 40.0, 40....   \n",
       "road_link_10181                                               40.0   \n",
       "road_link_14690                                               40.0   \n",
       "road_link_103                                 [nan, nan, nan, nan]   \n",
       "...                                                            ...   \n",
       "road_link_5201                                                50.0   \n",
       "road_link_6784                                                40.0   \n",
       "road_link_3945                                                50.0   \n",
       "road_link_13553                                               50.0   \n",
       "road_link_13554                                               50.0   \n",
       "\n",
       "                                                             lanes  \\\n",
       "                                                                     \n",
       "road_link_713                                                  NaN   \n",
       "road_link_11442                                                  2   \n",
       "road_link_10181                                                  2   \n",
       "road_link_14690                                                  2   \n",
       "road_link_103                                     [nan, 2, 2, nan]   \n",
       "...                                                            ...   \n",
       "road_link_5201   [6, 6, 6, 6, 6, 6, 4, 4, 4, 4, 4, 4, 4, 4, 4, ...   \n",
       "road_link_6784   [5, 5, 4, 5, 5, 5, 4, 4, 4, 4, 4, 4, 4, 4, 4, ...   \n",
       "road_link_3945                                                   2   \n",
       "road_link_13553                                                  2   \n",
       "road_link_13554                                                  2   \n",
       "\n",
       "                                                              name  oneway  \\\n",
       "                                                                             \n",
       "road_link_713                               Chemin du Coteau-Rouge   False   \n",
       "road_link_11442  [Chemin Remembrance, Chemin Remembrance, Voie ...   False   \n",
       "road_link_10181                               Voie Camillien-Houde   False   \n",
       "road_link_14690                                    Rue de Cadillac   False   \n",
       "road_link_103                                     Avenue Bienville   False   \n",
       "...                                                            ...     ...   \n",
       "road_link_5201                                  Rue Sherbrooke Est   False   \n",
       "road_link_6784                                Rue Sherbrooke Ouest   False   \n",
       "road_link_3945                        Boulevard Saint-Martin Ouest   False   \n",
       "road_link_13553                                                NaN   False   \n",
       "road_link_13554                                                NaN   False   \n",
       "\n",
       "                                      surface               a  \\\n",
       "                                                                \n",
       "road_link_713                             NaN  road_node_1342   \n",
       "road_link_11442                       asphalt  road_node_2428   \n",
       "road_link_10181                       asphalt  road_node_6240   \n",
       "road_link_14690                       asphalt  road_node_9101   \n",
       "road_link_103    [nan, asphalt, asphalt, nan]  road_node_9319   \n",
       "...                                       ...             ...   \n",
       "road_link_5201                        asphalt  road_node_9028   \n",
       "road_link_6784                        asphalt  road_node_7383   \n",
       "road_link_3945                        asphalt  road_node_2465   \n",
       "road_link_13553                       asphalt  road_node_6010   \n",
       "road_link_13554                       asphalt  road_node_7034   \n",
       "\n",
       "                               b  \\\n",
       "                                   \n",
       "road_link_713    road_node_10438   \n",
       "road_link_11442  road_node_11848   \n",
       "road_link_10181  road_node_12693   \n",
       "road_link_14690  road_node_14639   \n",
       "road_link_103    road_node_13046   \n",
       "...                          ...   \n",
       "road_link_5201    road_node_6167   \n",
       "road_link_6784   road_node_13185   \n",
       "road_link_3945    road_node_8071   \n",
       "road_link_13553   road_node_9507   \n",
       "road_link_13554   road_node_5969   \n",
       "\n",
       "                                                          geometry  weight  \\\n",
       "                                                                             \n",
       "road_link_713    MULTILINESTRING ((-73.49875 45.51527, -73.4983...       1   \n",
       "road_link_11442  MULTILINESTRING ((-73.60164 45.49849, -73.6012...       1   \n",
       "road_link_10181  MULTILINESTRING ((-73.59263 45.51346, -73.5929...       1   \n",
       "road_link_14690  MULTILINESTRING ((-73.54982 45.57791, -73.5518...       1   \n",
       "road_link_103    MULTILINESTRING ((-73.45332 45.46973, -73.4535...       1   \n",
       "...                                                            ...     ...   \n",
       "road_link_5201   MULTILINESTRING ((-73.56003 45.53848, -73.5597...       1   \n",
       "road_link_6784   MULTILINESTRING ((-73.60344 45.47898, -73.6033...       1   \n",
       "road_link_3945   MULTILINESTRING ((-73.71676 45.57348, -73.7167...       1   \n",
       "road_link_13553  MULTILINESTRING ((-73.62762 45.55154, -73.6277...       1   \n",
       "road_link_13554  MULTILINESTRING ((-73.62856 45.55107, -73.6286...       1   \n",
       "\n",
       "                 group  \n",
       "                        \n",
       "road_link_713     2714  \n",
       "road_link_11442   2733  \n",
       "road_link_10181   2744  \n",
       "road_link_14690   2746  \n",
       "road_link_103     2755  \n",
       "...                ...  \n",
       "road_link_5201    4022  \n",
       "road_link_6784    4023  \n",
       "road_link_3945    4027  \n",
       "road_link_13553   4028  \n",
       "road_link_13554   4029  \n",
       "\n",
       "[660 rows x 13 columns]"
      ]
     },
     "execution_count": 9,
     "metadata": {},
     "output_type": "execute_result"
    }
   ],
   "source": [
    "unmerged"
   ]
  },
  {
   "cell_type": "code",
   "execution_count": null,
   "metadata": {},
   "outputs": [],
   "source": []
  },
  {
   "cell_type": "code",
   "execution_count": null,
   "metadata": {},
   "outputs": [],
   "source": []
  },
  {
   "cell_type": "code",
   "execution_count": 29,
   "metadata": {},
   "outputs": [
    {
     "name": "stdout",
     "output_type": "stream",
     "text": [
      "Convert ways to links and node ...\n",
      "0 geometry to inverse\n",
      "simplifying links ...\n",
      "1 links dropped\n",
      "4731 deg 2 nodes\n",
      "find path with large cutoff for 49  origins\n",
      "find path with large cutoff for 41  origins\n",
      "find path with large cutoff for 23  origins\n",
      "find path with large cutoff for 3  origins\n",
      "find path with large cutoff for 26  origins\n",
      "find path with large cutoff for 31  origins\n",
      "find path with large cutoff for 10  origins\n",
      "0 links were not merge because the oneway field is not the same\n",
      "0 links were not merge because the highway field is not the same\n",
      "668 merged_links unmerged because the geometry became a multilinestring\n"
     ]
    },
    {
     "ename": "TypeError",
     "evalue": "tuple indices must be integers or slices, not str",
     "output_type": "error",
     "traceback": [
      "\u001b[0;31m---------------------------------------------------------------------------\u001b[0m",
      "\u001b[0;31mTypeError\u001b[0m                                 Traceback (most recent call last)",
      "Cell \u001b[0;32mIn[29], line 20\u001b[0m\n\u001b[1;32m     17\u001b[0m links \u001b[38;5;241m=\u001b[39m simplify(links)\n\u001b[1;32m     19\u001b[0m \u001b[38;5;66;03m# split onwway into 2 links a-b, b-a\u001b[39;00m\n\u001b[0;32m---> 20\u001b[0m links \u001b[38;5;241m=\u001b[39m \u001b[43msplit_oneway\u001b[49m\u001b[43m(\u001b[49m\u001b[43mlinks\u001b[49m\u001b[43m)\u001b[49m\n\u001b[1;32m     22\u001b[0m \u001b[38;5;66;03m# Clean Cul de Sac\u001b[39;00m\n\u001b[1;32m     23\u001b[0m \u001b[38;5;28mprint\u001b[39m(\u001b[38;5;124m\"\u001b[39m\u001b[38;5;124mRemove Cul de Sac ...\u001b[39m\u001b[38;5;124m\"\u001b[39m)\n",
      "File \u001b[0;32m~/python_script/quetzal/osm-api/road.py:353\u001b[0m, in \u001b[0;36msplit_oneway\u001b[0;34m(links)\u001b[0m\n\u001b[1;32m    352\u001b[0m \u001b[38;5;28;01mdef\u001b[39;00m \u001b[38;5;21msplit_oneway\u001b[39m(links):\n\u001b[0;32m--> 353\u001b[0m     nlinks \u001b[38;5;241m=\u001b[39m links[\u001b[43mlinks\u001b[49m\u001b[43m[\u001b[49m\u001b[38;5;124;43m'\u001b[39;49m\u001b[38;5;124;43moneway\u001b[39;49m\u001b[38;5;124;43m'\u001b[39;49m\u001b[43m]\u001b[49m\u001b[38;5;241m==\u001b[39m\u001b[38;5;28;01mFalse\u001b[39;00m]\u001b[38;5;241m.\u001b[39mcopy()\n\u001b[1;32m    354\u001b[0m     nlinks\u001b[38;5;241m.\u001b[39mindex \u001b[38;5;241m=\u001b[39m nlinks\u001b[38;5;241m.\u001b[39mindex \u001b[38;5;241m+\u001b[39m \u001b[38;5;124m'\u001b[39m\u001b[38;5;124m_r\u001b[39m\u001b[38;5;124m'\u001b[39m\n\u001b[1;32m    355\u001b[0m     nlinks[\u001b[38;5;124m'\u001b[39m\u001b[38;5;124mgeometry\u001b[39m\u001b[38;5;124m'\u001b[39m] \u001b[38;5;241m=\u001b[39m nlinks[\u001b[38;5;124m'\u001b[39m\u001b[38;5;124mgeometry\u001b[39m\u001b[38;5;124m'\u001b[39m]\u001b[38;5;241m.\u001b[39mapply(\u001b[38;5;28;01mlambda\u001b[39;00m x: reverse_geom(x))\n",
      "\u001b[0;31mTypeError\u001b[0m: tuple indices must be integers or slices, not str"
     ]
    }
   ],
   "source": [
    "print(\"Convert ways to links and node ...\")\n",
    "links, nodes = road.get_links_and_nodes('way.geojson', split_direction=False)\n",
    "nodes = nodes.set_crs(links.crs)\n",
    "\n",
    "#remove string in maxspeed\n",
    "links = clean_maxspeed(links)\n",
    "\n",
    "# make sure the geometry are in the right direction (a->b)\n",
    "links = rectify_geometry_direction(links,nodes)\n",
    "\n",
    "# remove duplicated links (a-b)\n",
    "print(\"simplifying links ...\")\n",
    "links = drop_duplicated_links(links)\n",
    "\n",
    "\n",
    "# simplify. remove deg 2 nodes when possible. group by oneway and highway to merge each links.\n",
    "links = simplify(links)\n",
    "\n",
    "# split onwway into 2 links a-b, b-a\n",
    "links = split_oneway(links)\n",
    "\n",
    "# Clean Cul de Sac\n",
    "print(\"Remove Cul de Sac ...\")\n",
    "links, nodes = main_strongly_connected_component(links, nodes, split_direction=False)\n",
    "\n",
    "print('removing list in columns ...')\n",
    "links['maxspeed'] = links['maxspeed'].apply(lambda x: process_list_in_col(x,float,np.nanmean))\n",
    "links['lanes'] = links['lanes'].apply(lambda x: process_list_in_col(x,float,np.nanmean)).apply(lambda x: np.floor(x))\n",
    "for col in ['id', 'type', 'highway','name','surface']:\n",
    "    links[col] = links[col].apply(lambda x: remove_list_in_col(x,'first'))\n",
    "\n",
    "# Add length\n",
    "print(\"Write Links and Nodes ...\")\n",
    "epsg = get_epsg(nodes.iloc[0]['geometry'].y, nodes.iloc[0]['geometry'].x)\n",
    "links['length'] = links.to_crs(epsg).length\n",
    "\n",
    "# Add Speed\n",
    "try:\n",
    "    speed_dict = links.dropna().groupby('highway')['maxspeed'].agg(np.mean).to_dict()\n",
    "    links.loc[~np.isfinite(links['maxspeed']),'maxspeed'] = links.loc[~np.isfinite(links['maxspeed']),'highway'].apply(lambda x: speed_dict.get(x))\n",
    "except:\n",
    "    print('fail to convert NaN maxspeed to the average max speed (by highway)')\n",
    "try:\n",
    "    links['lanes'] = pd.to_numeric(links['lanes'])\n",
    "    lane_dict = links.groupby('highway')['lanes'].agg(np.nanmean).apply(lambda x: np.floor(x)).to_dict()\n",
    "    links.loc[~np.isfinite(links['lanes']),'lanes'] = links.loc[~np.isfinite(links['lanes']),'highway'].apply(lambda x: lane_dict.get(x))\n",
    "except:\n",
    "    print('fail to convert NaN Lane to the average lanes (by highway)')\n",
    "# Add Time\n",
    "links['time'] = links['length']/(links['maxspeed']*1000/3600)\n",
    "links = links.rename(columns = {'maxspeed' : 'speed'})\n",
    "\n",
    "# reindex and remove ununsed nodes\n",
    "links = links.reset_index(drop=True)\n",
    "links.index = 'road_link_'+links.index.astype(str)\n",
    "nodes_set = set(links['a']).union(set(links['b']))\n",
    "nodes = nodes.loc[list(nodes_set)].sort_index()"
   ]
  },
  {
   "cell_type": "code",
   "execution_count": 185,
   "metadata": {},
   "outputs": [
    {
     "data": {
      "text/plain": [
       "10204"
      ]
     },
     "execution_count": 185,
     "metadata": {},
     "output_type": "execute_result"
    }
   ],
   "source": [
    "len(links)"
   ]
  },
  {
   "cell_type": "code",
   "execution_count": 16,
   "metadata": {},
   "outputs": [],
   "source": [
    "cutoff=10"
   ]
  },
  {
   "cell_type": "code",
   "execution_count": 17,
   "metadata": {},
   "outputs": [
    {
     "name": "stdout",
     "output_type": "stream",
     "text": [
      "4447 deg 2 nodes\n",
      "find path with large cutoff for 126  origins\n",
      "find path with large cutoff for 110  origins\n",
      "find path with large cutoff for 1  origins\n",
      "find path with large cutoff for 56  origins\n",
      "find path with large cutoff for 3  origins\n"
     ]
    }
   ],
   "source": [
    "#create a graph and find all nodes with deg >2 (sources)\n",
    "G = nx.DiGraph()\n",
    "G.add_edges_from(links[['a', 'b']].values.tolist())\n",
    "sources = [node for node,degree in dict(G.degree()).items() if degree > 2]\n",
    "deg_dict = dict(G.degree())\n",
    "links['weight']=1\n",
    "print(len(sources),'deg 2 nodes')\n",
    "path_to_merge = []\n",
    "# graph on oneway and highway as unique as we dont want to aggregate highway together or one way \n",
    "for col1, col2 in [(a,b) for a in links['oneway'].unique() for b in links['highway'].unique()]:\n",
    "    filtered_links = links[(links['oneway']==col1) & (links['highway']==col2)]\n",
    "    if len(filtered_links) < 2:\n",
    "        continue\n",
    "    nodes_set = set(filtered_links['a']).union(set(filtered_links['b']))\n",
    "    mat, node_index = sparse_matrix(filtered_links[['a', 'b', 'weight']].values)\n",
    "    sparse_deg_dict = {node_index[key]:val for key,val in deg_dict.items() if key in nodes_set}\n",
    "    index_node = {v: k for k, v in node_index.items()}\n",
    "    filtered_sources  = [s for s in sources if s in nodes_set]\n",
    "    unfounds_origins = []\n",
    "\n",
    "    # 1) for each nodes with deg > 2\n",
    "    # 2) take all non empty path\n",
    "    # 3) take all path with destination a node with deg > 2\n",
    "    #    and only deg 2 nodes in between ex: [3,2,2,4]\n",
    "    # 4) take all path with destination a node of deg == 2\n",
    "    #    if the path length is the cutoff.\n",
    "\n",
    "\n",
    "    # batch the dijkstra, my computer was crashing with ~40 000 sources\n",
    "    # it it not that much slower.\n",
    "    for origins in batched(filtered_sources,1000):\n",
    "        origin_sparse = [node_index[x] for x in origins]\n",
    "        dist_matrix,predecessors = dijkstra(\n",
    "                csgraph=mat,\n",
    "                directed=False,\n",
    "                indices=origin_sparse,\n",
    "                return_predecessors=True,\n",
    "                limit=cutoff\n",
    "            )\n",
    "\n",
    "        #from all source (source are deg>2 by construction)\n",
    "        for oi in range(len(origins)):\n",
    "            # destinations are non inf paths\n",
    "            destinations = np.where(dist_matrix[oi,:]!=np.inf)[0]\n",
    "            # for each destination with deg >= 2\n",
    "            for di in (d for d in destinations if sparse_deg_dict[d]>=2):\n",
    "                path = get_path(predecessors, oi, di) #get path, with origin and destinations in the list\n",
    "                path_deg = [*map(sparse_deg_dict.get, path)] #get deg of each nodes in path\n",
    "                #if destination is not 2. keep path if every nodes in between are 2\n",
    "                if (path_deg[-1]!=2): \n",
    "                    if (set(path_deg[1:-1]) == {2}):\n",
    "                        path_to_merge.append([*map(index_node.get, path)])\n",
    "                #if destination == 2 \n",
    "                elif len(path) == cutoff+1: \n",
    "                    #keep path if len(path) == cutoff+1. at the end redo on those with large cutoff\n",
    "                    if (set(path_deg[1:]) == {2}):\n",
    "                        unfounds_origins.append(origins[oi])\n",
    "\n",
    "    # redo with large cutoff the path thats were longer than the cutoff\n",
    "    # ex:cutoff = 5, path = [3,2,2,2,2]. the real path may be [3,2,2,2,2,2,2,2,4]. and we will find it now.\n",
    "    if len(unfounds_origins)>0:\n",
    "        print('find path with large cutoff for', len(unfounds_origins),' origins')\n",
    "        origin_sparse = [node_index[x] for x in unfounds_origins]\n",
    "        dist_matrix,predecessors = dijkstra(\n",
    "                csgraph=mat,\n",
    "                directed=False,\n",
    "                indices=origin_sparse,\n",
    "                return_predecessors=True,\n",
    "                limit=100\n",
    "            )\n",
    "        for oi in range(len(unfounds_origins)):\n",
    "            # destinations are non inf paths\n",
    "            destinations = np.where(dist_matrix[oi,:]!=np.inf)[0]\n",
    "            # for each destination with deg >= 2\n",
    "            for di in (d for d in destinations if sparse_deg_dict[d]>=2):\n",
    "                path = get_path(predecessors, oi, di) #get path, with origin and destinations in the list\n",
    "                path_deg = [*map(sparse_deg_dict.get, path)] #get deg of each nodes in path\n",
    "                #if destination is not 2. keep path if every nodes in between are 2\n",
    "                #those were not find in cutoff, only check for larger cutoff.\n",
    "                if (path_deg[-1]!=2) &(len(path) >= cutoff+1):  \n",
    "                    if (set(path_deg[1:-1]) == {2}):\n",
    "                        path_to_merge.append([*map(index_node.get, path)])\n"
   ]
  },
  {
   "cell_type": "code",
   "execution_count": 18,
   "metadata": {},
   "outputs": [],
   "source": [
    "links_dict = links.reset_index().set_index(['a','b'])['index'].to_dict()\n",
    "links_paths = [[*map(links_dict.get, get_edge_path(path))]for path in path_to_merge]"
   ]
  },
  {
   "cell_type": "code",
   "execution_count": 24,
   "metadata": {},
   "outputs": [
    {
     "data": {
      "text/plain": [
       "[None, None, None]"
      ]
     },
     "execution_count": 24,
     "metadata": {},
     "output_type": "execute_result"
    }
   ],
   "source": [
    "[*map(links_dict.get, get_edge_path(path))]"
   ]
  },
  {
   "cell_type": "code",
   "execution_count": 138,
   "metadata": {},
   "outputs": [
    {
     "data": {
      "text/plain": [
       "['road_link_5227', 'road_link_3789', 'road_link_1289', 'road_link_1291']"
      ]
     },
     "execution_count": 138,
     "metadata": {},
     "output_type": "execute_result"
    }
   ],
   "source": [
    "\n",
    "\n",
    "temp_path = [links_dict.get(edge, links_dict.get(edge[::-1])) for edge in edge_path]\n",
    "temp_path"
   ]
  },
  {
   "cell_type": "code",
   "execution_count": 134,
   "metadata": {},
   "outputs": [],
   "source": [
    "links['group']=0\n",
    "idx=1\n",
    "for path in links_paths:\n",
    "    links.loc[path,'group']=idx\n",
    "    idx+=1\n",
    "tlinks = links[links['group']>0].copy()\n",
    "# sort tlinks links to merge in the right order\n",
    "flat_index = [l for sublist in links_paths for l in sublist]\n",
    "tlinks = tlinks.loc[flat_index]"
   ]
  },
  {
   "cell_type": "code",
   "execution_count": 136,
   "metadata": {},
   "outputs": [
    {
     "ename": "ValueError",
     "evalue": "cannot insert group, already exists",
     "output_type": "error",
     "traceback": [
      "\u001b[0;31m---------------------------------------------------------------------------\u001b[0m",
      "\u001b[0;31mValueError\u001b[0m                                Traceback (most recent call last)",
      "Cell \u001b[0;32mIn[136], line 1\u001b[0m\n\u001b[0;32m----> 1\u001b[0m index_dict \u001b[38;5;241m=\u001b[39m \u001b[43mtlinks\u001b[49m\u001b[38;5;241;43m.\u001b[39;49m\u001b[43mreset_index\u001b[49m\u001b[43m(\u001b[49m\u001b[43m)\u001b[49m\u001b[38;5;241m.\u001b[39mgroupby(\u001b[38;5;124m'\u001b[39m\u001b[38;5;124mgroup\u001b[39m\u001b[38;5;124m'\u001b[39m)[\u001b[38;5;124m'\u001b[39m\u001b[38;5;124mindex\u001b[39m\u001b[38;5;124m'\u001b[39m]\u001b[38;5;241m.\u001b[39magg(\u001b[38;5;124m'\u001b[39m\u001b[38;5;124mfirst\u001b[39m\u001b[38;5;124m'\u001b[39m)\u001b[38;5;241m.\u001b[39mto_dict()\n\u001b[1;32m      3\u001b[0m list_or_first \u001b[38;5;241m=\u001b[39m \u001b[38;5;28;01mlambda\u001b[39;00m x : \u001b[38;5;28mlist\u001b[39m(x) \u001b[38;5;28;01mif\u001b[39;00m \u001b[38;5;28mlen\u001b[39m(\u001b[38;5;28mset\u001b[39m(x))\u001b[38;5;241m>\u001b[39m\u001b[38;5;241m1\u001b[39m \u001b[38;5;28;01melse\u001b[39;00m x[\u001b[38;5;241m0\u001b[39m]\n\u001b[1;32m      4\u001b[0m merge_lines \u001b[38;5;241m=\u001b[39m \u001b[38;5;28;01mlambda\u001b[39;00m x: linemerge(MultiLineString(\u001b[38;5;28mlist\u001b[39m(x)))\n",
      "File \u001b[0;32m~/.pyenv/versions/quetzal_env/lib/python3.8/site-packages/pandas/util/_decorators.py:331\u001b[0m, in \u001b[0;36mdeprecate_nonkeyword_arguments.<locals>.decorate.<locals>.wrapper\u001b[0;34m(*args, **kwargs)\u001b[0m\n\u001b[1;32m    325\u001b[0m \u001b[38;5;28;01mif\u001b[39;00m \u001b[38;5;28mlen\u001b[39m(args) \u001b[38;5;241m>\u001b[39m num_allow_args:\n\u001b[1;32m    326\u001b[0m     warnings\u001b[38;5;241m.\u001b[39mwarn(\n\u001b[1;32m    327\u001b[0m         msg\u001b[38;5;241m.\u001b[39mformat(arguments\u001b[38;5;241m=\u001b[39m_format_argument_list(allow_args)),\n\u001b[1;32m    328\u001b[0m         \u001b[38;5;167;01mFutureWarning\u001b[39;00m,\n\u001b[1;32m    329\u001b[0m         stacklevel\u001b[38;5;241m=\u001b[39mfind_stack_level(),\n\u001b[1;32m    330\u001b[0m     )\n\u001b[0;32m--> 331\u001b[0m \u001b[38;5;28;01mreturn\u001b[39;00m \u001b[43mfunc\u001b[49m\u001b[43m(\u001b[49m\u001b[38;5;241;43m*\u001b[39;49m\u001b[43margs\u001b[49m\u001b[43m,\u001b[49m\u001b[43m \u001b[49m\u001b[38;5;241;43m*\u001b[39;49m\u001b[38;5;241;43m*\u001b[39;49m\u001b[43mkwargs\u001b[49m\u001b[43m)\u001b[49m\n",
      "File \u001b[0;32m~/.pyenv/versions/quetzal_env/lib/python3.8/site-packages/pandas/core/frame.py:6361\u001b[0m, in \u001b[0;36mDataFrame.reset_index\u001b[0;34m(self, level, drop, inplace, col_level, col_fill, allow_duplicates, names)\u001b[0m\n\u001b[1;32m   6355\u001b[0m         \u001b[38;5;28;01mif\u001b[39;00m lab \u001b[38;5;129;01mis\u001b[39;00m \u001b[38;5;129;01mnot\u001b[39;00m \u001b[38;5;28;01mNone\u001b[39;00m:\n\u001b[1;32m   6356\u001b[0m             \u001b[38;5;66;03m# if we have the codes, extract the values with a mask\u001b[39;00m\n\u001b[1;32m   6357\u001b[0m             level_values \u001b[38;5;241m=\u001b[39m algorithms\u001b[38;5;241m.\u001b[39mtake(\n\u001b[1;32m   6358\u001b[0m                 level_values, lab, allow_fill\u001b[38;5;241m=\u001b[39m\u001b[38;5;28;01mTrue\u001b[39;00m, fill_value\u001b[38;5;241m=\u001b[39mlev\u001b[38;5;241m.\u001b[39m_na_value\n\u001b[1;32m   6359\u001b[0m             )\n\u001b[0;32m-> 6361\u001b[0m         \u001b[43mnew_obj\u001b[49m\u001b[38;5;241;43m.\u001b[39;49m\u001b[43minsert\u001b[49m\u001b[43m(\u001b[49m\n\u001b[1;32m   6362\u001b[0m \u001b[43m            \u001b[49m\u001b[38;5;241;43m0\u001b[39;49m\u001b[43m,\u001b[49m\n\u001b[1;32m   6363\u001b[0m \u001b[43m            \u001b[49m\u001b[43mname\u001b[49m\u001b[43m,\u001b[49m\n\u001b[1;32m   6364\u001b[0m \u001b[43m            \u001b[49m\u001b[43mlevel_values\u001b[49m\u001b[43m,\u001b[49m\n\u001b[1;32m   6365\u001b[0m \u001b[43m            \u001b[49m\u001b[43mallow_duplicates\u001b[49m\u001b[38;5;241;43m=\u001b[39;49m\u001b[43mallow_duplicates\u001b[49m\u001b[43m,\u001b[49m\n\u001b[1;32m   6366\u001b[0m \u001b[43m        \u001b[49m\u001b[43m)\u001b[49m\n\u001b[1;32m   6368\u001b[0m new_obj\u001b[38;5;241m.\u001b[39mindex \u001b[38;5;241m=\u001b[39m new_index\n\u001b[1;32m   6369\u001b[0m \u001b[38;5;28;01mif\u001b[39;00m \u001b[38;5;129;01mnot\u001b[39;00m inplace:\n",
      "File \u001b[0;32m~/.pyenv/versions/quetzal_env/lib/python3.8/site-packages/pandas/core/frame.py:4817\u001b[0m, in \u001b[0;36mDataFrame.insert\u001b[0;34m(self, loc, column, value, allow_duplicates)\u001b[0m\n\u001b[1;32m   4811\u001b[0m     \u001b[38;5;28;01mraise\u001b[39;00m \u001b[38;5;167;01mValueError\u001b[39;00m(\n\u001b[1;32m   4812\u001b[0m         \u001b[38;5;124m\"\u001b[39m\u001b[38;5;124mCannot specify \u001b[39m\u001b[38;5;124m'\u001b[39m\u001b[38;5;124mallow_duplicates=True\u001b[39m\u001b[38;5;124m'\u001b[39m\u001b[38;5;124m when \u001b[39m\u001b[38;5;124m\"\u001b[39m\n\u001b[1;32m   4813\u001b[0m         \u001b[38;5;124m\"\u001b[39m\u001b[38;5;124m'\u001b[39m\u001b[38;5;124mself.flags.allows_duplicate_labels\u001b[39m\u001b[38;5;124m'\u001b[39m\u001b[38;5;124m is False.\u001b[39m\u001b[38;5;124m\"\u001b[39m\n\u001b[1;32m   4814\u001b[0m     )\n\u001b[1;32m   4815\u001b[0m \u001b[38;5;28;01mif\u001b[39;00m \u001b[38;5;129;01mnot\u001b[39;00m allow_duplicates \u001b[38;5;129;01mand\u001b[39;00m column \u001b[38;5;129;01min\u001b[39;00m \u001b[38;5;28mself\u001b[39m\u001b[38;5;241m.\u001b[39mcolumns:\n\u001b[1;32m   4816\u001b[0m     \u001b[38;5;66;03m# Should this be a different kind of error??\u001b[39;00m\n\u001b[0;32m-> 4817\u001b[0m     \u001b[38;5;28;01mraise\u001b[39;00m \u001b[38;5;167;01mValueError\u001b[39;00m(\u001b[38;5;124mf\u001b[39m\u001b[38;5;124m\"\u001b[39m\u001b[38;5;124mcannot insert \u001b[39m\u001b[38;5;132;01m{\u001b[39;00mcolumn\u001b[38;5;132;01m}\u001b[39;00m\u001b[38;5;124m, already exists\u001b[39m\u001b[38;5;124m\"\u001b[39m)\n\u001b[1;32m   4818\u001b[0m \u001b[38;5;28;01mif\u001b[39;00m \u001b[38;5;129;01mnot\u001b[39;00m \u001b[38;5;28misinstance\u001b[39m(loc, \u001b[38;5;28mint\u001b[39m):\n\u001b[1;32m   4819\u001b[0m     \u001b[38;5;28;01mraise\u001b[39;00m \u001b[38;5;167;01mTypeError\u001b[39;00m(\u001b[38;5;124m\"\u001b[39m\u001b[38;5;124mloc must be int\u001b[39m\u001b[38;5;124m\"\u001b[39m)\n",
      "\u001b[0;31mValueError\u001b[0m: cannot insert group, already exists"
     ]
    }
   ],
   "source": [
    "index_dict = tlinks.reset_index().groupby('group')['index'].agg('first').to_dict()\n",
    "\n",
    "list_or_first = lambda x : list(x) if len(set(x))>1 else x[0]\n",
    "merge_lines = lambda x: linemerge(MultiLineString(list(x)))\n",
    "\n",
    "# merge links\n",
    "agg_dict = {col:list_or_first for col in tlinks.columns}\n",
    "agg_dict['geometry']=merge_lines\n",
    "agg_dict['a']='first'\n",
    "agg_dict['b']='last'\n",
    "tlinks = tlinks.groupby('group').agg(agg_dict)\n",
    "tlinks.index = tlinks.index.map(index_dict)\n",
    "tlinks.index.name=''\n",
    "\n",
    "\n",
    "#remove agg that change oneway\n",
    "print(len(tlinks[tlinks['oneway'].apply(lambda x: type(x)==list)]),'links were not merge because the oneway field is not the same')\n",
    "tlinks = tlinks[~tlinks['oneway'].apply(lambda x: type(x)==list)]\n",
    "\n",
    "print(len(tlinks[tlinks['highway'].apply(lambda x: type(x)==list)]),'links were not merge because the highway field is not the same')\n",
    "tlinks = tlinks[~tlinks['highway'].apply(lambda x: type(x)==list)]\n",
    "\n",
    "\n",
    "# TODO: on a des multiLinestring. il faudrait mieux merger.\n",
    "print(len(tlinks[tlinks['geometry'].apply(lambda x: x.type != 'LineString')]),'merged_links unmerged because the geometry became a multilinestring')\n",
    "tlinks = tlinks[tlinks['geometry'].apply(lambda x: x.type=='LineString')]\n",
    "\n",
    "#merge tlinks back into links\n",
    "tlinks = gpd.GeoDataFrame(tlinks,crs=links.crs)\n",
    "links = links[~links['group'].isin(tlinks['group'].unique())]\n",
    "links = pd.concat([links,tlinks])\n",
    "links = links.drop(columns=['weight','group'])"
   ]
  },
  {
   "cell_type": "code",
   "execution_count": 119,
   "metadata": {},
   "outputs": [
    {
     "data": {
      "text/plain": [
       "('road_node_2721', 'road_node_7707')"
      ]
     },
     "execution_count": 119,
     "metadata": {},
     "output_type": "execute_result"
    }
   ],
   "source": []
  },
  {
   "cell_type": "code",
   "execution_count": 110,
   "metadata": {},
   "outputs": [
    {
     "data": {
      "text/plain": [
       "[('road_node_2721', 'road_node_7707'),\n",
       " ('road_node_7707', 'road_node_16063'),\n",
       " ('road_node_16063', 'road_node_11212'),\n",
       " ('road_node_11212', 'road_node_5962'),\n",
       " ('road_node_5962', 'road_node_14529'),\n",
       " ('road_node_14529', 'road_node_582')]"
      ]
     },
     "execution_count": 110,
     "metadata": {},
     "output_type": "execute_result"
    }
   ],
   "source": [
    "path=path[::-1]\n",
    "edge_path=get_edge_path(path)\n",
    "edge_path"
   ]
  },
  {
   "cell_type": "code",
   "execution_count": 111,
   "metadata": {},
   "outputs": [
    {
     "data": {
      "text/plain": [
       "['road_link_1550',\n",
       " 'road_link_19385',\n",
       " 'road_link_19384',\n",
       " 'road_link_19386',\n",
       " None,\n",
       " None]"
      ]
     },
     "execution_count": 111,
     "metadata": {},
     "output_type": "execute_result"
    }
   ],
   "source": [
    "links_paths = [*map(links_dict.get, edge_path)]\n",
    "links_paths"
   ]
  },
  {
   "cell_type": "code",
   "execution_count": 10,
   "metadata": {},
   "outputs": [],
   "source": [
    "test = gpd.read_file('way.geojson')"
   ]
  },
  {
   "cell_type": "code",
   "execution_count": 11,
   "metadata": {},
   "outputs": [
    {
     "data": {
      "text/html": [
       "<div>\n",
       "<style scoped>\n",
       "    .dataframe tbody tr th:only-of-type {\n",
       "        vertical-align: middle;\n",
       "    }\n",
       "\n",
       "    .dataframe tbody tr th {\n",
       "        vertical-align: top;\n",
       "    }\n",
       "\n",
       "    .dataframe thead th {\n",
       "        text-align: right;\n",
       "    }\n",
       "</style>\n",
       "<table border=\"1\" class=\"dataframe\">\n",
       "  <thead>\n",
       "    <tr style=\"text-align: right;\">\n",
       "      <th></th>\n",
       "      <th>id</th>\n",
       "      <th>type</th>\n",
       "      <th>highway</th>\n",
       "      <th>maxspeed</th>\n",
       "      <th>lanes</th>\n",
       "      <th>name</th>\n",
       "      <th>oneway</th>\n",
       "      <th>surface</th>\n",
       "      <th>geometry</th>\n",
       "    </tr>\n",
       "  </thead>\n",
       "  <tbody>\n",
       "    <tr>\n",
       "      <th>0</th>\n",
       "      <td>4320292</td>\n",
       "      <td>way</td>\n",
       "      <td>trunk</td>\n",
       "      <td>70</td>\n",
       "      <td>2</td>\n",
       "      <td>Autoroute Ville-Marie</td>\n",
       "      <td>True</td>\n",
       "      <td>asphalt</td>\n",
       "      <td>LINESTRING (-73.57288 45.49263, -73.57420 45.4...</td>\n",
       "    </tr>\n",
       "    <tr>\n",
       "      <th>1</th>\n",
       "      <td>4320351</td>\n",
       "      <td>way</td>\n",
       "      <td>secondary</td>\n",
       "      <td>30</td>\n",
       "      <td>2</td>\n",
       "      <td>Avenue du Mont-Royal Est</td>\n",
       "      <td>False</td>\n",
       "      <td>asphalt</td>\n",
       "      <td>LINESTRING (-73.58202 45.52498, -73.58206 45.5...</td>\n",
       "    </tr>\n",
       "    <tr>\n",
       "      <th>2</th>\n",
       "      <td>4320452</td>\n",
       "      <td>way</td>\n",
       "      <td>tertiary</td>\n",
       "      <td>40</td>\n",
       "      <td>1</td>\n",
       "      <td>Rue Saint-Hubert</td>\n",
       "      <td>True</td>\n",
       "      <td>asphalt</td>\n",
       "      <td>LINESTRING (-73.58075 45.52540, -73.58086 45.5...</td>\n",
       "    </tr>\n",
       "    <tr>\n",
       "      <th>3</th>\n",
       "      <td>4320454</td>\n",
       "      <td>way</td>\n",
       "      <td>tertiary</td>\n",
       "      <td>40</td>\n",
       "      <td>NaN</td>\n",
       "      <td>Rue Sainte-Catherine Ouest</td>\n",
       "      <td>True</td>\n",
       "      <td>paving_stones</td>\n",
       "      <td>LINESTRING (-73.56694 45.50631, -73.56689 45.5...</td>\n",
       "    </tr>\n",
       "    <tr>\n",
       "      <th>4</th>\n",
       "      <td>4320462</td>\n",
       "      <td>way</td>\n",
       "      <td>trunk</td>\n",
       "      <td>70</td>\n",
       "      <td>4</td>\n",
       "      <td>Autoroute Ville-Marie</td>\n",
       "      <td>True</td>\n",
       "      <td>asphalt</td>\n",
       "      <td>LINESTRING (-73.55900 45.50624, -73.55832 45.5...</td>\n",
       "    </tr>\n",
       "    <tr>\n",
       "      <th>...</th>\n",
       "      <td>...</td>\n",
       "      <td>...</td>\n",
       "      <td>...</td>\n",
       "      <td>...</td>\n",
       "      <td>...</td>\n",
       "      <td>...</td>\n",
       "      <td>...</td>\n",
       "      <td>...</td>\n",
       "      <td>...</td>\n",
       "    </tr>\n",
       "    <tr>\n",
       "      <th>18740</th>\n",
       "      <td>1165234136</td>\n",
       "      <td>way</td>\n",
       "      <td>motorway</td>\n",
       "      <td>80</td>\n",
       "      <td>3</td>\n",
       "      <td>Autoroute 15</td>\n",
       "      <td>True</td>\n",
       "      <td>asphalt</td>\n",
       "      <td>LINESTRING (-73.54652 45.47057, -73.54628 45.4...</td>\n",
       "    </tr>\n",
       "    <tr>\n",
       "      <th>18741</th>\n",
       "      <td>1165357408</td>\n",
       "      <td>way</td>\n",
       "      <td>motorway</td>\n",
       "      <td>50</td>\n",
       "      <td>2</td>\n",
       "      <td>Autoroute Bonaventure</td>\n",
       "      <td>True</td>\n",
       "      <td>asphalt</td>\n",
       "      <td>LINESTRING (-73.54260 45.47357, -73.54293 45.4...</td>\n",
       "    </tr>\n",
       "    <tr>\n",
       "      <th>18742</th>\n",
       "      <td>1165359902</td>\n",
       "      <td>way</td>\n",
       "      <td>motorway_link</td>\n",
       "      <td>80</td>\n",
       "      <td>1</td>\n",
       "      <td>NaN</td>\n",
       "      <td>True</td>\n",
       "      <td>asphalt</td>\n",
       "      <td>LINESTRING (-73.55544 45.47213, -73.55545 45.4...</td>\n",
       "    </tr>\n",
       "    <tr>\n",
       "      <th>18743</th>\n",
       "      <td>1165365686</td>\n",
       "      <td>way</td>\n",
       "      <td>secondary</td>\n",
       "      <td>30</td>\n",
       "      <td>3</td>\n",
       "      <td>Rue Wellington</td>\n",
       "      <td>False</td>\n",
       "      <td>asphalt</td>\n",
       "      <td>LINESTRING (-73.56597 45.46834, -73.56580 45.4...</td>\n",
       "    </tr>\n",
       "    <tr>\n",
       "      <th>18744</th>\n",
       "      <td>1165401837</td>\n",
       "      <td>way</td>\n",
       "      <td>tertiary</td>\n",
       "      <td>40</td>\n",
       "      <td>1</td>\n",
       "      <td>NaN</td>\n",
       "      <td>False</td>\n",
       "      <td>asphalt</td>\n",
       "      <td>LINESTRING (-73.54603 45.46776, -73.54601 45.4...</td>\n",
       "    </tr>\n",
       "  </tbody>\n",
       "</table>\n",
       "<p>18745 rows × 9 columns</p>\n",
       "</div>"
      ],
      "text/plain": [
       "               id type        highway maxspeed lanes  \\\n",
       "0         4320292  way          trunk       70     2   \n",
       "1         4320351  way      secondary       30     2   \n",
       "2         4320452  way       tertiary       40     1   \n",
       "3         4320454  way       tertiary       40   NaN   \n",
       "4         4320462  way          trunk       70     4   \n",
       "...           ...  ...            ...      ...   ...   \n",
       "18740  1165234136  way       motorway       80     3   \n",
       "18741  1165357408  way       motorway       50     2   \n",
       "18742  1165359902  way  motorway_link       80     1   \n",
       "18743  1165365686  way      secondary       30     3   \n",
       "18744  1165401837  way       tertiary       40     1   \n",
       "\n",
       "                             name  oneway        surface  \\\n",
       "0           Autoroute Ville-Marie    True        asphalt   \n",
       "1        Avenue du Mont-Royal Est   False        asphalt   \n",
       "2                Rue Saint-Hubert    True        asphalt   \n",
       "3      Rue Sainte-Catherine Ouest    True  paving_stones   \n",
       "4           Autoroute Ville-Marie    True        asphalt   \n",
       "...                           ...     ...            ...   \n",
       "18740                Autoroute 15    True        asphalt   \n",
       "18741       Autoroute Bonaventure    True        asphalt   \n",
       "18742                         NaN    True        asphalt   \n",
       "18743              Rue Wellington   False        asphalt   \n",
       "18744                         NaN   False        asphalt   \n",
       "\n",
       "                                                geometry  \n",
       "0      LINESTRING (-73.57288 45.49263, -73.57420 45.4...  \n",
       "1      LINESTRING (-73.58202 45.52498, -73.58206 45.5...  \n",
       "2      LINESTRING (-73.58075 45.52540, -73.58086 45.5...  \n",
       "3      LINESTRING (-73.56694 45.50631, -73.56689 45.5...  \n",
       "4      LINESTRING (-73.55900 45.50624, -73.55832 45.5...  \n",
       "...                                                  ...  \n",
       "18740  LINESTRING (-73.54652 45.47057, -73.54628 45.4...  \n",
       "18741  LINESTRING (-73.54260 45.47357, -73.54293 45.4...  \n",
       "18742  LINESTRING (-73.55544 45.47213, -73.55545 45.4...  \n",
       "18743  LINESTRING (-73.56597 45.46834, -73.56580 45.4...  \n",
       "18744  LINESTRING (-73.54603 45.46776, -73.54601 45.4...  \n",
       "\n",
       "[18745 rows x 9 columns]"
      ]
     },
     "execution_count": 11,
     "metadata": {},
     "output_type": "execute_result"
    }
   ],
   "source": [
    "test"
   ]
  },
  {
   "cell_type": "code",
   "execution_count": 12,
   "metadata": {},
   "outputs": [],
   "source": [
    "links.to_file('road_links.geojson')\n",
    "nodes.to_file('road_nodes.geojson')"
   ]
  },
  {
   "cell_type": "code",
   "execution_count": 9,
   "metadata": {},
   "outputs": [],
   "source": [
    "merge_lines = lambda x: linemerge(MultiLineString(list(x)))\n"
   ]
  },
  {
   "cell_type": "code",
   "execution_count": 9,
   "metadata": {},
   "outputs": [],
   "source": [
    "geom = links.loc[['road_link_3030','road_link_3029','road_link_3028','road_link_3029','road_link_3034']]['geometry'].values"
   ]
  },
  {
   "cell_type": "code",
   "execution_count": 32,
   "metadata": {},
   "outputs": [
    {
     "data": {
      "text/plain": [
       "shapely.geometry.multilinestring.MultiLineString"
      ]
     },
     "execution_count": 32,
     "metadata": {},
     "output_type": "execute_result"
    }
   ],
   "source": [
    "test = merge_lines(geom)\n",
    "type(test)"
   ]
  },
  {
   "cell_type": "code",
   "execution_count": 33,
   "metadata": {},
   "outputs": [
    {
     "name": "stderr",
     "output_type": "stream",
     "text": [
      "/tmp/ipykernel_81419/373262389.py:2: ShapelyDeprecationWarning: Iteration over multi-part geometries is deprecated and will be removed in Shapely 2.0. Use the `geoms` property to access the constituent parts of a multi-part geometry.\n",
      "  for line in test:\n"
     ]
    }
   ],
   "source": [
    "ls=[]\n",
    "for line in test:\n",
    "    ls.append(line)"
   ]
  },
  {
   "cell_type": "code",
   "execution_count": 36,
   "metadata": {},
   "outputs": [
    {
     "name": "stdout",
     "output_type": "stream",
     "text": [
      "<shapely.coords.CoordinateSequence object at 0x7f5b5f140f10>\n",
      "<shapely.coords.CoordinateSequence object at 0x7f5b5f140f10>\n",
      "<shapely.coords.CoordinateSequence object at 0x7f5b5f140f10>\n",
      "<shapely.coords.CoordinateSequence object at 0x7f5b5f140f10>\n"
     ]
    }
   ],
   "source": [
    "for x in ls:\n",
    "    print(x.coords)"
   ]
  },
  {
   "cell_type": "code",
   "execution_count": 39,
   "metadata": {},
   "outputs": [
    {
     "name": "stdout",
     "output_type": "stream",
     "text": [
      "False\n",
      "False\n",
      "False\n"
     ]
    },
    {
     "ename": "IndexError",
     "evalue": "list index out of range",
     "output_type": "error",
     "traceback": [
      "\u001b[0;31m---------------------------------------------------------------------------\u001b[0m",
      "\u001b[0;31mIndexError\u001b[0m                                Traceback (most recent call last)",
      "Cell \u001b[0;32mIn[39], line 2\u001b[0m\n\u001b[1;32m      1\u001b[0m \u001b[38;5;28;01mfor\u001b[39;00m i \u001b[38;5;129;01min\u001b[39;00m \u001b[38;5;28mrange\u001b[39m(\u001b[38;5;241m1\u001b[39m,\u001b[38;5;28mlen\u001b[39m(geom)):\n\u001b[0;32m----> 2\u001b[0m     \u001b[38;5;28mprint\u001b[39m(\u001b[43mls\u001b[49m\u001b[43m[\u001b[49m\u001b[43mi\u001b[49m\u001b[43m]\u001b[49m\u001b[38;5;241m.\u001b[39mcoords[\u001b[38;5;241m0\u001b[39m] \u001b[38;5;241m==\u001b[39m ls[i\u001b[38;5;241m-\u001b[39m\u001b[38;5;241m1\u001b[39m]\u001b[38;5;241m.\u001b[39mcoords[\u001b[38;5;241m-\u001b[39m\u001b[38;5;241m1\u001b[39m])\n",
      "\u001b[0;31mIndexError\u001b[0m: list index out of range"
     ]
    }
   ],
   "source": [
    "for i in range(1,len(geom)):\n",
    "    print(ls[i].coords[0] == ls[i-1].coords[-1])"
   ]
  },
  {
   "cell_type": "code",
   "execution_count": 42,
   "metadata": {},
   "outputs": [
    {
     "name": "stdout",
     "output_type": "stream",
     "text": [
      "(-73.6806482, 45.5616794) (-73.6816856, 45.5611501)\n",
      "(-73.6773739, 45.5582139) (-73.6794564, 45.5561837)\n",
      "(-73.6655448, 45.6170097) (-73.6644875, 45.6171877)\n",
      "(-73.6867814, 45.565604) (-73.6867814, 45.565604)\n"
     ]
    }
   ],
   "source": [
    "for i in range(len(ls)):\n",
    "    print(ls[i].coords[0],ls[i].coords[-1])"
   ]
  },
  {
   "cell_type": "code",
   "execution_count": 17,
   "metadata": {},
   "outputs": [
    {
     "name": "stdout",
     "output_type": "stream",
     "text": [
      "False\n",
      "False\n",
      "False\n",
      "False\n",
      "False\n",
      "False\n",
      "False\n",
      "False\n",
      "False\n",
      "False\n",
      "False\n",
      "False\n",
      "False\n",
      "False\n",
      "False\n",
      "False\n",
      "False\n",
      "False\n",
      "False\n",
      "False\n",
      "False\n",
      "False\n",
      "False\n",
      "False\n"
     ]
    }
   ],
   "source": []
  },
  {
   "cell_type": "code",
   "execution_count": null,
   "metadata": {},
   "outputs": [],
   "source": []
  },
  {
   "cell_type": "code",
   "execution_count": null,
   "metadata": {},
   "outputs": [],
   "source": []
  },
  {
   "cell_type": "code",
   "execution_count": 13,
   "metadata": {},
   "outputs": [],
   "source": [
    "geom = unmerged.loc['road_link_5201']['geometry']"
   ]
  },
  {
   "cell_type": "code",
   "execution_count": 25,
   "metadata": {},
   "outputs": [
    {
     "data": {
      "text/plain": [
       "<function road.reverse_geom(geom)>"
      ]
     },
     "execution_count": 25,
     "metadata": {},
     "output_type": "execute_result"
    }
   ],
   "source": [
    "reverse_geom()"
   ]
  },
  {
   "cell_type": "code",
   "execution_count": null,
   "metadata": {},
   "outputs": [],
   "source": []
  },
  {
   "cell_type": "code",
   "execution_count": 28,
   "metadata": {},
   "outputs": [
    {
     "name": "stdout",
     "output_type": "stream",
     "text": [
      "reverse\n",
      "reverse\n",
      "reverse\n",
      "reverse\n",
      "reverse\n",
      "reverse\n",
      "reverse\n",
      "reverse\n",
      "reverse\n",
      "reverse\n",
      "reverse\n",
      "reverse\n"
     ]
    }
   ],
   "source": [
    "for i in range(1,len(geom)):\n",
    "    if (geom[i].coords[0]!=geom[i-1].coords[-1]):\n",
    "        geom[i] = reverse_geom(geom[i])\n",
    "        print('reverse')\n",
    "        "
   ]
  },
  {
   "cell_type": "code",
   "execution_count": 31,
   "metadata": {},
   "outputs": [
    {
     "name": "stdout",
     "output_type": "stream",
     "text": [
      "True\n",
      "True\n",
      "True\n",
      "True\n",
      "True\n",
      "True\n",
      "True\n",
      "True\n",
      "True\n",
      "True\n",
      "True\n",
      "True\n",
      "True\n",
      "True\n",
      "True\n",
      "True\n",
      "True\n",
      "True\n",
      "True\n",
      "True\n",
      "True\n",
      "True\n",
      "True\n"
     ]
    }
   ],
   "source": [
    "for i in range(1,len(geom)):\n",
    "    print(geom[i].coords[0]==geom[i-1].coords[-1])"
   ]
  },
  {
   "cell_type": "code",
   "execution_count": null,
   "metadata": {},
   "outputs": [],
   "source": []
  }
 ],
 "metadata": {
  "kernelspec": {
   "display_name": "quetzal_env",
   "language": "python",
   "name": "quetzal_env"
  },
  "language_info": {
   "codemirror_mode": {
    "name": "ipython",
    "version": 3
   },
   "file_extension": ".py",
   "mimetype": "text/x-python",
   "name": "python",
   "nbconvert_exporter": "python",
   "pygments_lexer": "ipython3",
   "version": "3.8.6"
  }
 },
 "nbformat": 4,
 "nbformat_minor": 2
}
